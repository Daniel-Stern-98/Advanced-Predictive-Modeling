{
 "cells": [
  {
   "cell_type": "markdown",
   "metadata": {
    "id": "iPnCWgHS9gZa"
   },
   "source": [
    "# Question 1 Principal Component Analysis\n",
    "\n",
    "Download dataset from [this link](https://drive.google.com/file/d/1U6FDSQQSUzvw3Ygtgp8I5ea0-dL-orSE/view?usp=sharing).\n"
   ]
  },
  {
   "cell_type": "markdown",
   "metadata": {
    "id": "cVj2mFUkLb10"
   },
   "source": [
    "In this problem we will be applying PCA on the Lending Club loan dataset. A simplified version of the dataset with reduced number of samples. Please use the dataset in the above link. We will use reduced number of features and only two classes as shown below."
   ]
  },
  {
   "cell_type": "code",
   "execution_count": 1,
   "metadata": {
    "colab": {
     "base_uri": "https://localhost:8080/",
     "height": 71
    },
    "id": "1p3-E8GF9e9U",
    "outputId": "6f3b1cdb-d9d0-4c15-8f0d-d58b298f33e1"
   },
   "outputs": [
    {
     "name": "stderr",
     "output_type": "stream",
     "text": [
      "C:\\ProgramData\\Anaconda3\\lib\\site-packages\\IPython\\core\\interactiveshell.py:3063: DtypeWarning: Columns (123,124,125,128,129,130,133,139,140,141) have mixed types.Specify dtype option on import or set low_memory=False.\n",
      "  interactivity=interactivity, compiler=compiler, result=result)\n"
     ]
    },
    {
     "data": {
      "text/plain": [
       "(226067, 161)"
      ]
     },
     "execution_count": 1,
     "metadata": {},
     "output_type": "execute_result"
    }
   ],
   "source": [
    "import os, sys, re\n",
    "import time\n",
    "import numpy as np\n",
    "import pandas as pd\n",
    "from sklearn.model_selection import train_test_split\n",
    "\n",
    "# Load the csv file and fill Nan/empty values as 0\n",
    "dataset = pd.read_csv('loan.csv')\n",
    "df = dataset.fillna(0)\n",
    "\n",
    "# We will be using only two classes and group them as below\n",
    "def LoanResult(status):\n",
    "    if (status == 'Fully Paid') or (status == 'Current'):\n",
    "        return 1\n",
    "    else:\n",
    "        return 0\n",
    "\n",
    "df['loan_status'] = df['loan_status'].apply(LoanResult)\n",
    "\n",
    "# Set of features which indicate the dimensionality of the data\n",
    "df = df[['loan_amnt', 'funded_amnt', 'funded_amnt_inv', 'term', 'int_rate', 'installment', 'grade', 'sub_grade',\n",
    "             'emp_length', 'home_ownership','annual_inc', 'verification_status', 'loan_status',\n",
    "             'purpose','addr_state', 'dti','open_acc', 'pub_rec', 'revol_bal', 'revol_util', \n",
    "             'initial_list_status', 'recoveries','collection_recovery_fee', 'last_pymnt_d', 'last_pymnt_amnt',\n",
    "             'application_type', 'tot_coll_amt', 'tot_cur_bal', 'avg_cur_bal', 'chargeoff_within_12_mths',\n",
    "             'pub_rec_bankruptcies', 'tax_liens', 'debt_settlement_flag']]\n",
    "\n",
    "#For simplicity, in this question, we select all columns that do not contain integer of float type of data. Then, one hot encoding is performed.\n",
    "df_cat = df.select_dtypes(exclude=['int64', 'float64'])\n",
    "df = pd.get_dummies(df, df_cat.columns.values)\n",
    "\n",
    "df.shape\n",
    "\n",
    "# We select the `loan_status` column as the target column.  "
   ]
  },
  {
   "cell_type": "markdown",
   "metadata": {
    "id": "DBa59pnAp-PH"
   },
   "source": [
    "Use Principal Component Analysis (PCA) to solve this problem.  \n",
    "\n",
    "* **1.1** Perform the following steps to prepare the dataset:\n",
    "\n",
    "    * Select the 'loan_status' column as the target column and the rest of the columns from the dataframe df as X. \n",
    "\n",
    "    * Split the dataset into train and test set with 25% data in test set and random_state = 42\n",
    "\n",
    "    * Perform [Min-Max Scaling](https://scikit-learn.org/stable/modules/generated/sklearn.preprocessing.MinMaxScaler.html) on the dataset. Remember that when we have training and testing data, we fit preprocessing parameters on training data and apply them to all testing data. You should scale only the features (independent variables), not the target variable y.\n",
    "    \n",
    "    Note: X should have 160 features.\n",
    "    \n",
    "\n",
    "* **1.2** Use [PCA](https://scikit-learn.org/stable/modules/generated/sklearn.decomposition.PCA.html) and reduce the dimension of X to the following components: 100, 30, 10. For each of the three models, print the percentage(%) of variance captured by each of the compnonets and plot the scree plot the [scree plot]\n",
    "(https://www.kindsonthegenius.com/principal-components-analysispca-in-python-step-by-step/).  (PCA should be fit only on X_train).\n",
    "\n",
    "\n",
    "* **1.3** Train LogisticRegression(random_state=4,max_iter=10000) with the full dimension X and each of the redued dimension X from PCA in the previous step (100, 30 and 10 dimensions). Print the classification reports for all the models -  this will print the class-wise Precision, Recall and F1 score. More details on classification report can be found [here](https://scikit-learn.org/stable/modules/generated/sklearn.metrics.classification_report.html) (Note: you will be training logistic regression 4 times (160, 100, 30 and 10 dimensional X) and will print 4 classification reports)\n",
    "\n",
    "\n",
    "* **1.4** [Plot](https://scikit-learn.org/stable/auto_examples/miscellaneous/plot_roc_curve_visualization_api.html#sphx-glr-auto-examples-miscellaneous-plot-roc-curve-visualization-api-py) the ROC curves for all models (trained using dataset containing all dimensions and dataset containing reduced dimensions, total 4 models). ROC curve is used to study the classifier's output. Details on ROC can be found [here](https://scikit-learn.org/stable/auto_examples/model_selection/plot_roc.html).\n",
    "\n",
    "\n",
    "* **1.5** What do you observe from the ROC curves? "
   ]
  },
  {
   "cell_type": "markdown",
   "metadata": {
    "id": "D6psjvriqhUL"
   },
   "source": [
    "# ANSWER"
   ]
  },
  {
   "cell_type": "markdown",
   "metadata": {},
   "source": [
    "### 1.1"
   ]
  },
  {
   "cell_type": "code",
   "execution_count": 2,
   "metadata": {
    "id": "vr5usZHY-GoZ"
   },
   "outputs": [],
   "source": [
    "y=df['loan_status']\n",
    "X=df.loc[:, df.columns != 'loan_status']\n",
    "\n",
    "X_train, X_test, y_train, y_test = train_test_split(X, y, test_size=0.25, random_state=42)\n",
    "\n",
    "from sklearn.preprocessing import MinMaxScaler\n",
    "\n",
    "X_scaler = MinMaxScaler()\n",
    "X_train = X_scaler.fit_transform(X_train)\n",
    "X_test = X_scaler.transform(X_test)\n"
   ]
  },
  {
   "cell_type": "markdown",
   "metadata": {},
   "source": [
    "### 1.2"
   ]
  },
  {
   "cell_type": "code",
   "execution_count": 3,
   "metadata": {},
   "outputs": [],
   "source": [
    "list_100=list(range(1,101))\n",
    "list_30=list(range(1,31))\n",
    "list_10=list(range(1,11))\n",
    "\n",
    "PC_list_100=[]\n",
    "PC_list_30=[]\n",
    "PC_list_10=[]\n",
    "\n",
    "for i in list_100:\n",
    "    PC_list_100.append(\"PC\"+str(i))\n",
    "    \n",
    "for i in list_30:\n",
    "    PC_list_30.append(\"PC\"+str(i))\n",
    "\n",
    "for i in list_10:\n",
    "    PC_list_10.append(\"PC\"+str(i))\n",
    "\n",
    "\n"
   ]
  },
  {
   "cell_type": "code",
   "execution_count": 4,
   "metadata": {
    "id": "py-IIHQ4-LKH"
   },
   "outputs": [
    {
     "name": "stdout",
     "output_type": "stream",
     "text": [
      "100 Principal Components\n",
      " [9.20274634 7.07284071 6.0068521  5.46997039 4.94915606 4.50679341\n",
      " 3.83857627 3.37683016 3.17794602 2.88601816 2.79584207 2.30431145\n",
      " 2.19944526 1.83242138 1.56240804 1.49994905 1.27416332 1.24186348\n",
      " 1.19885385 1.16462275 1.15024191 1.08854981 1.04480912 1.02749501\n",
      " 0.97930125 0.97132922 0.94253493 0.93444455 0.91247183 0.84663247\n",
      " 0.82693407 0.80725353 0.78744081 0.78136197 0.74307098 0.71316146\n",
      " 0.70676044 0.69700854 0.67546144 0.6707022  0.59064301 0.54750892\n",
      " 0.54182379 0.50278104 0.49548616 0.49192979 0.47772318 0.45336522\n",
      " 0.44503888 0.39761776 0.39124887 0.38506981 0.37899697 0.37516308\n",
      " 0.36945909 0.3601485  0.34786105 0.33405054 0.31785627 0.31454727\n",
      " 0.27975076 0.26583108 0.25272946 0.24841619 0.24198069 0.23603331\n",
      " 0.23391893 0.22722475 0.21572014 0.20587372 0.19476902 0.18704016\n",
      " 0.17172686 0.16456459 0.15763887 0.1496141  0.14735477 0.1465113\n",
      " 0.13758732 0.1352635  0.13000182 0.12709962 0.12052599 0.11786242\n",
      " 0.11570301 0.11068363 0.10589276 0.10298929 0.10048141 0.0979642\n",
      " 0.08988634 0.08829126 0.08302888 0.08024733 0.07549013 0.07102659\n",
      " 0.06841871 0.06630869 0.06413424 0.05914621]\n",
      "\n",
      "\n",
      "30 Principal Components\n",
      " [9.20274634 7.07284071 6.00685209 5.46997039 4.949156   4.50679337\n",
      " 3.83857602 3.37682978 3.17794513 2.88601527 2.79583994 2.30429274\n",
      " 2.19943573 1.83237429 1.56219354 1.49974693 1.27391249 1.24006003\n",
      " 1.1981486  1.16359541 1.14867979 1.08620629 1.04285364 1.023984\n",
      " 0.97731211 0.96586125 0.93990532 0.92761951 0.90887839 0.8410182 ]\n",
      "\n",
      "\n",
      "10 Principal Components\n",
      " [9.20274634 7.07284071 6.0068521  5.46997039 4.94915606 4.50679341\n",
      " 3.83857626 3.37683007 3.17794591 2.88601735]\n"
     ]
    }
   ],
   "source": [
    "from sklearn.decomposition import PCA\n",
    "\n",
    "pca100 = PCA(n_components=100)\n",
    "principalcomponents100 = pca100.fit_transform(X_train)\n",
    "pca100.fit(X_train)\n",
    "\n",
    "pca100_test=pca100.fit_transform(X_test)\n",
    "\n",
    "\n",
    "df_principalcomponents100 = pd.DataFrame(data=principalcomponents100, columns = [PC_list_100],index=y_train.index)\n",
    "\n",
    "print(\"100 Principal Components\\n\",pca100.explained_variance_ratio_ * 100)\n",
    "\n",
    "pca30 = PCA(n_components=30)\n",
    "principalcomponents30 = pca30.fit_transform(X_train)\n",
    "pca30.fit(X_train)\n",
    "\n",
    "pca30_test=pca30.fit_transform(X_test)\n",
    "df_principalcomponents30 = pd.DataFrame(data=principalcomponents30, columns = [PC_list_30],index=y_train.index)\n",
    "print(\"\\n\\n30 Principal Components\\n\",pca30.explained_variance_ratio_ * 100)\n",
    "\n",
    "pca10 = PCA(n_components=10)\n",
    "principalcomponents10 = pca10.fit_transform(X_train)\n",
    "pca10.fit(X_train)\n",
    "\n",
    "pca10_test=pca10.fit_transform(X_test)\n",
    "df_principalcomponents10 = pd.DataFrame(data=principalcomponents10, columns = [PC_list_10],index=y_train.index)\n",
    "print(\"\\n\\n10 Principal Components\\n\",pca10.explained_variance_ratio_ * 100)\n"
   ]
  },
  {
   "cell_type": "code",
   "execution_count": 5,
   "metadata": {},
   "outputs": [],
   "source": [
    "import matplotlib.pyplot as plt"
   ]
  },
  {
   "cell_type": "code",
   "execution_count": 6,
   "metadata": {},
   "outputs": [
    {
     "data": {
      "image/png": "[encoded data removed]",
      "text/plain": [
       "<Figure size 432x288 with 1 Axes>"
      ]
     },
     "metadata": {
      "needs_background": "light"
     },
     "output_type": "display_data"
    }
   ],
   "source": [
    "percent_variance_100 = np.round(pca100.explained_variance_ratio_* 100, decimals =2)\n",
    "plt.bar(x= range(1,101), height=percent_variance_100)\n",
    "plt.ylabel('Percentage of Variance Explained')\n",
    "plt.xlabel('Principal Component')\n",
    "plt.title('PCA Scree Plot')\n",
    "plt.show()"
   ]
  },
  {
   "cell_type": "code",
   "execution_count": 7,
   "metadata": {},
   "outputs": [
    {
     "data": {
      "image/png": "[encoded data removed]",
      "text/plain": [
       "<Figure size 432x288 with 1 Axes>"
      ]
     },
     "metadata": {
      "needs_background": "light"
     },
     "output_type": "display_data"
    }
   ],
   "source": [
    "percent_variance_30 = np.round(pca30.explained_variance_ratio_* 100, decimals =2)\n",
    "plt.bar(x= range(1,31), height=percent_variance_30)\n",
    "plt.ylabel('Percentage of Variance Explained')\n",
    "plt.xlabel('Principal Component')\n",
    "plt.title('PCA Scree Plot')\n",
    "plt.show()"
   ]
  },
  {
   "cell_type": "code",
   "execution_count": 8,
   "metadata": {},
   "outputs": [
    {
     "data": {
      "image/png": "[encoded data removed]",
      "text/plain": [
       "<Figure size 432x288 with 1 Axes>"
      ]
     },
     "metadata": {
      "needs_background": "light"
     },
     "output_type": "display_data"
    }
   ],
   "source": [
    "percent_variance_10 = np.round(pca10.explained_variance_ratio_* 100, decimals =2)\n",
    "columns = [PC_list_10]\n",
    "plt.bar(x= range(1,11), height=percent_variance_10)\n",
    "plt.xlabel('Principal Component')\n",
    "plt.title('PCA Scree Plot')\n",
    "plt.show()"
   ]
  },
  {
   "cell_type": "markdown",
   "metadata": {},
   "source": [
    "### 1.3"
   ]
  },
  {
   "cell_type": "markdown",
   "metadata": {},
   "source": [
    "* **1.3** Train LogisticRegression(random_state=4,max_iter=10000) with the full dimension X and each of the redued dimension X from PCA in the previous step (100, 30 and 10 dimensions). Print the classification reports for all the models -  this will print the class-wise Precision, Recall and F1 score. More details on classification report can be found [here](https://scikit-learn.org/stable/modules/generated/sklearn.metrics.classification_report.html) (Note: you will be training logistic regression 4 times (160, 100, 30 and 10 dimensional X) and will print 4 classification reports)"
   ]
  },
  {
   "cell_type": "code",
   "execution_count": 9,
   "metadata": {},
   "outputs": [
    {
     "name": "stdout",
     "output_type": "stream",
     "text": [
      "              precision    recall  f1-score   support\n",
      "\n",
      "           0       0.80      0.49      0.60      2488\n",
      "           1       0.99      1.00      1.00    167062\n",
      "\n",
      "    accuracy                           0.99    169550\n",
      "   macro avg       0.89      0.74      0.80    169550\n",
      "weighted avg       0.99      0.99      0.99    169550\n",
      "\n"
     ]
    }
   ],
   "source": [
    "from sklearn.linear_model import LogisticRegression\n",
    "from sklearn.metrics import classification_report\n",
    "\n",
    "clf_160 = LogisticRegression(random_state = 4, max_iter = 10000).fit(X_train,y_train)\n",
    "\n",
    "y_pred_160 = clf_160.predict(X_train)\n",
    "\n",
    "print(classification_report(y_train,y_pred_160))"
   ]
  },
  {
   "cell_type": "code",
   "execution_count": 10,
   "metadata": {},
   "outputs": [
    {
     "name": "stdout",
     "output_type": "stream",
     "text": [
      "              precision    recall  f1-score   support\n",
      "\n",
      "           0       0.74      0.22      0.34      2488\n",
      "           1       0.99      1.00      0.99    167062\n",
      "\n",
      "    accuracy                           0.99    169550\n",
      "   macro avg       0.86      0.61      0.67    169550\n",
      "weighted avg       0.98      0.99      0.98    169550\n",
      "\n"
     ]
    }
   ],
   "source": [
    "clf_100 = LogisticRegression(random_state = 4, max_iter = 10000).fit(df_principalcomponents100,y_train)\n",
    "\n",
    "y_pred_100 = clf_100.predict(df_principalcomponents100)\n",
    "\n",
    "print(classification_report(y_train,y_pred_100))"
   ]
  },
  {
   "cell_type": "code",
   "execution_count": 11,
   "metadata": {},
   "outputs": [
    {
     "name": "stdout",
     "output_type": "stream",
     "text": [
      "              precision    recall  f1-score   support\n",
      "\n",
      "           0       0.30      0.04      0.07      2488\n",
      "           1       0.99      1.00      0.99    167062\n",
      "\n",
      "    accuracy                           0.98    169550\n",
      "   macro avg       0.64      0.52      0.53    169550\n",
      "weighted avg       0.98      0.98      0.98    169550\n",
      "\n"
     ]
    }
   ],
   "source": [
    "clf_30 = LogisticRegression(random_state = 4, max_iter = 10000).fit(df_principalcomponents30,y_train)\n",
    "\n",
    "y_pred_30 = clf_30.predict(df_principalcomponents30)\n",
    "\n",
    "print(classification_report(y_train,y_pred_30))"
   ]
  },
  {
   "cell_type": "code",
   "execution_count": 12,
   "metadata": {},
   "outputs": [
    {
     "name": "stdout",
     "output_type": "stream",
     "text": [
      "              precision    recall  f1-score   support\n",
      "\n",
      "           0       0.00      0.00      0.00      2488\n",
      "           1       0.99      1.00      0.99    167062\n",
      "\n",
      "    accuracy                           0.99    169550\n",
      "   macro avg       0.49      0.50      0.50    169550\n",
      "weighted avg       0.97      0.99      0.98    169550\n",
      "\n"
     ]
    },
    {
     "name": "stderr",
     "output_type": "stream",
     "text": [
      "C:\\ProgramData\\Anaconda3\\lib\\site-packages\\sklearn\\metrics\\_classification.py:1272: UndefinedMetricWarning: Precision and F-score are ill-defined and being set to 0.0 in labels with no predicted samples. Use `zero_division` parameter to control this behavior.\n",
      "  _warn_prf(average, modifier, msg_start, len(result))\n"
     ]
    }
   ],
   "source": [
    "clf_10 = LogisticRegression(random_state = 4, max_iter = 10000).fit(df_principalcomponents10,y_train)\n",
    "\n",
    "y_pred_10 = clf_10.predict(df_principalcomponents10)\n",
    "\n",
    "print(classification_report(y_train,y_pred_10))"
   ]
  },
  {
   "cell_type": "markdown",
   "metadata": {},
   "source": [
    "### 1.4"
   ]
  },
  {
   "cell_type": "markdown",
   "metadata": {},
   "source": [
    "* **1.4** [Plot](https://scikit-learn.org/stable/auto_examples/miscellaneous/plot_roc_curve_visualization_api.html#sphx-glr-auto-examples-miscellaneous-plot-roc-curve-visualization-api-py) the ROC curves for all models (trained using dataset containing all dimensions and dataset containing reduced dimensions, total 4 models). ROC curve is used to study the classifier's output. Details on ROC can be found [here](https://scikit-learn.org/stable/auto_examples/model_selection/plot_roc.html)."
   ]
  },
  {
   "cell_type": "code",
   "execution_count": 13,
   "metadata": {},
   "outputs": [
    {
     "data": {
      "text/plain": [
       "<sklearn.metrics._plot.roc_curve.RocCurveDisplay at 0x1f58c01c308>"
      ]
     },
     "execution_count": 13,
     "metadata": {},
     "output_type": "execute_result"
    },
    {
     "data": {
      "image/png": "[encoded data removed]",
      "text/plain": [
       "<Figure size 432x288 with 1 Axes>"
      ]
     },
     "metadata": {
      "needs_background": "light"
     },
     "output_type": "display_data"
    },
    {
     "data": {
      "image/png": "[encoded data removed]",
      "text/plain": [
       "<Figure size 432x288 with 1 Axes>"
      ]
     },
     "metadata": {
      "needs_background": "light"
     },
     "output_type": "display_data"
    },
    {
     "data": {
      "image/png": "[encoded data removed]",
      "text/plain": [
       "<Figure size 432x288 with 1 Axes>"
      ]
     },
     "metadata": {
      "needs_background": "light"
     },
     "output_type": "display_data"
    },
    {
     "data": {
      "image/png": "[encoded data removed]",
      "text/plain": [
       "<Figure size 432x288 with 1 Axes>"
      ]
     },
     "metadata": {
      "needs_background": "light"
     },
     "output_type": "display_data"
    }
   ],
   "source": [
    "from sklearn.metrics import plot_roc_curve\n",
    "\n",
    "plot_roc_curve(clf_160,X_test,y_test)\n",
    "plot_roc_curve(clf_100,pca100_test,y_test)\n",
    "plot_roc_curve(clf_30,pca30_test,y_test)\n",
    "plot_roc_curve(clf_10,pca10_test,y_test)"
   ]
  },
  {
   "cell_type": "markdown",
   "metadata": {},
   "source": [
    "### 1.5\n"
   ]
  },
  {
   "cell_type": "markdown",
   "metadata": {},
   "source": [
    "The ROC curve AUC values are comparable for the full training data, 100 Principal Components and 30 Principal Components and then drops off a cliff at 10 Principal Components. We can say that 30 Principal Components is sufficient because it retains a huge amount of explanatory power while only having 10 loses a lot of information."
   ]
  },
  {
   "cell_type": "markdown",
   "metadata": {
    "id": "TIUXYtLjp42P"
   },
   "source": [
    "# Question 2 Decision Tree Classifier\n",
    "Download dataset from [this link](https://drive.google.com/file/d/1iWh0gF2bXOYSnuq843qLxnFphT1HN-lq/view?usp=sharing).\n",
    "\n",
    "**Customer Eligibility for Deposits**\n",
    "\n",
    "We will build a Decision Tree classification model to predict if a customer will subscribe or no (yes/no)."
   ]
  },
  {
   "cell_type": "code",
   "execution_count": 14,
   "metadata": {
    "id": "TTVfoexN2c-m"
   },
   "outputs": [],
   "source": [
    "import pandas as pd\n",
    "import numpy as np\n",
    "import matplotlib.pyplot as plt\n",
    "import seaborn as sns\n",
    "from sklearn.cluster import KMeans\n",
    "from sklearn import datasets\n",
    "from io import StringIO\n",
    "from sklearn.tree import export_graphviz\n",
    "from sklearn.model_selection import train_test_split\n",
    "from sklearn import tree\n",
    "from sklearn import metrics\n",
    "%matplotlib inline"
   ]
  },
  {
   "cell_type": "code",
   "execution_count": 15,
   "metadata": {
    "colab": {
     "base_uri": "https://localhost:8080/",
     "height": 224
    },
    "id": "rRdgrEqyp7LY",
    "outputId": "ff116e9c-8989-4df0-fc9d-c1ee8fb687fe"
   },
   "outputs": [
    {
     "data": {
      "text/html": [
       "<div>\n",
       "<style scoped>\n",
       "    .dataframe tbody tr th:only-of-type {\n",
       "        vertical-align: middle;\n",
       "    }\n",
       "\n",
       "    .dataframe tbody tr th {\n",
       "        vertical-align: top;\n",
       "    }\n",
       "\n",
       "    .dataframe thead th {\n",
       "        text-align: right;\n",
       "    }\n",
       "</style>\n",
       "<table border=\"1\" class=\"dataframe\">\n",
       "  <thead>\n",
       "    <tr style=\"text-align: right;\">\n",
       "      <th></th>\n",
       "      <th>age</th>\n",
       "      <th>job</th>\n",
       "      <th>marital</th>\n",
       "      <th>education</th>\n",
       "      <th>default</th>\n",
       "      <th>balance</th>\n",
       "      <th>housing</th>\n",
       "      <th>loan</th>\n",
       "      <th>contact</th>\n",
       "      <th>day</th>\n",
       "      <th>month</th>\n",
       "      <th>duration</th>\n",
       "      <th>campaign</th>\n",
       "      <th>pdays</th>\n",
       "      <th>previous</th>\n",
       "      <th>poutcome</th>\n",
       "      <th>deposit</th>\n",
       "    </tr>\n",
       "  </thead>\n",
       "  <tbody>\n",
       "    <tr>\n",
       "      <th>0</th>\n",
       "      <td>59</td>\n",
       "      <td>admin.</td>\n",
       "      <td>married</td>\n",
       "      <td>secondary</td>\n",
       "      <td>no</td>\n",
       "      <td>2343</td>\n",
       "      <td>yes</td>\n",
       "      <td>no</td>\n",
       "      <td>unknown</td>\n",
       "      <td>5</td>\n",
       "      <td>may</td>\n",
       "      <td>1042</td>\n",
       "      <td>1</td>\n",
       "      <td>-1</td>\n",
       "      <td>0</td>\n",
       "      <td>unknown</td>\n",
       "      <td>yes</td>\n",
       "    </tr>\n",
       "    <tr>\n",
       "      <th>1</th>\n",
       "      <td>56</td>\n",
       "      <td>admin.</td>\n",
       "      <td>married</td>\n",
       "      <td>secondary</td>\n",
       "      <td>no</td>\n",
       "      <td>45</td>\n",
       "      <td>no</td>\n",
       "      <td>no</td>\n",
       "      <td>unknown</td>\n",
       "      <td>5</td>\n",
       "      <td>may</td>\n",
       "      <td>1467</td>\n",
       "      <td>1</td>\n",
       "      <td>-1</td>\n",
       "      <td>0</td>\n",
       "      <td>unknown</td>\n",
       "      <td>yes</td>\n",
       "    </tr>\n",
       "    <tr>\n",
       "      <th>2</th>\n",
       "      <td>41</td>\n",
       "      <td>technician</td>\n",
       "      <td>married</td>\n",
       "      <td>secondary</td>\n",
       "      <td>no</td>\n",
       "      <td>1270</td>\n",
       "      <td>yes</td>\n",
       "      <td>no</td>\n",
       "      <td>unknown</td>\n",
       "      <td>5</td>\n",
       "      <td>may</td>\n",
       "      <td>1389</td>\n",
       "      <td>1</td>\n",
       "      <td>-1</td>\n",
       "      <td>0</td>\n",
       "      <td>unknown</td>\n",
       "      <td>yes</td>\n",
       "    </tr>\n",
       "    <tr>\n",
       "      <th>3</th>\n",
       "      <td>55</td>\n",
       "      <td>services</td>\n",
       "      <td>married</td>\n",
       "      <td>secondary</td>\n",
       "      <td>no</td>\n",
       "      <td>2476</td>\n",
       "      <td>yes</td>\n",
       "      <td>no</td>\n",
       "      <td>unknown</td>\n",
       "      <td>5</td>\n",
       "      <td>may</td>\n",
       "      <td>579</td>\n",
       "      <td>1</td>\n",
       "      <td>-1</td>\n",
       "      <td>0</td>\n",
       "      <td>unknown</td>\n",
       "      <td>yes</td>\n",
       "    </tr>\n",
       "    <tr>\n",
       "      <th>4</th>\n",
       "      <td>54</td>\n",
       "      <td>admin.</td>\n",
       "      <td>married</td>\n",
       "      <td>tertiary</td>\n",
       "      <td>no</td>\n",
       "      <td>184</td>\n",
       "      <td>no</td>\n",
       "      <td>no</td>\n",
       "      <td>unknown</td>\n",
       "      <td>5</td>\n",
       "      <td>may</td>\n",
       "      <td>673</td>\n",
       "      <td>2</td>\n",
       "      <td>-1</td>\n",
       "      <td>0</td>\n",
       "      <td>unknown</td>\n",
       "      <td>yes</td>\n",
       "    </tr>\n",
       "  </tbody>\n",
       "</table>\n",
       "</div>"
      ],
      "text/plain": [
       "   age         job  marital  education default  balance housing loan  contact  \\\n",
       "0   59      admin.  married  secondary      no     2343     yes   no  unknown   \n",
       "1   56      admin.  married  secondary      no       45      no   no  unknown   \n",
       "2   41  technician  married  secondary      no     1270     yes   no  unknown   \n",
       "3   55    services  married  secondary      no     2476     yes   no  unknown   \n",
       "4   54      admin.  married   tertiary      no      184      no   no  unknown   \n",
       "\n",
       "   day month  duration  campaign  pdays  previous poutcome deposit  \n",
       "0    5   may      1042         1     -1         0  unknown     yes  \n",
       "1    5   may      1467         1     -1         0  unknown     yes  \n",
       "2    5   may      1389         1     -1         0  unknown     yes  \n",
       "3    5   may       579         1     -1         0  unknown     yes  \n",
       "4    5   may       673         2     -1         0  unknown     yes  "
      ]
     },
     "execution_count": 15,
     "metadata": {},
     "output_type": "execute_result"
    }
   ],
   "source": [
    "# Loading the data file\n",
    "bank=pd.read_csv('bank.csv')\n",
    "bank.head()"
   ]
  },
  {
   "cell_type": "markdown",
   "metadata": {
    "id": "peL352UDp9vt"
   },
   "source": [
    "Input variables:\n",
    "# bank client data:\n",
    "1 - `age` (numeric)\n",
    "\n",
    "2 - `job` : type of job (categorical: 'admin', 'blue-collar', 'entrepreneur', 'housemaid', 'management', 'retired', 'self-employed', 'services', 'student', 'technician', 'unemployed', 'unknown')\n",
    "\n",
    "3 - `marital` : marital status (categorical: 'divorced','married','single'; note: 'divorced' means divorced or widowed)\n",
    "\n",
    "4 - `education` (categorical: 'primary', 'secondary','tertiary')\n",
    "\n",
    "5 - `default`: has credit in default? (categorical: 'no','yes','unknown')\n",
    "\n",
    "6 - `balance`: account balance\n",
    "\n",
    "7 - `housing`: has housing loan? (categorical: 'no','yes','unknown')\n",
    "\n",
    "8 - `loan`: has personal loan? (categorical: 'no','yes','unknown')\n",
    "\n",
    "# related with the last contact of the current campaign:\n",
    "9 - `contact`: contact communication type (categorical: 'cellular','telephone')\n",
    "\n",
    "10 - `day_of_month` : 1,2....31\n",
    "\n",
    "11 - `month`: last contact month of year (categorical: 'jan', 'feb', 'mar', ..., 'nov', 'dec')\n",
    "\n",
    "12 - `duration`: last contact duration, in seconds (numeric). Important note: this attribute highly affects the output target (e.g., if duration=0 then y='no'). Yet, the duration is not known before a call is performed. Also, after the end of the call y is obviously known. Thus, this input should only be included for benchmark purposes and should be discarded if the intention is to have a realistic predictive model.\n",
    "# other attributes:\n",
    "13 - `campaign`: number of contacts performed during this campaign and for this client (numeric, includes last contact)\n",
    "\n",
    "14 - `pdays`: number of days that passed by after the client was last contacted from a previous campaign (numeric; 10000 means client was not previously contacted)\n",
    "\n",
    "15 - `previous`: number of contacts performed before this campaign and for this client (numeric)\n",
    "\n",
    "16 - `poutcome`: outcome of the previous marketing campaign (categorical: 'failure','other','success','unknown')\n",
    "\n",
    "# Output variable (desired target):\n",
    "17 - `y` - has the client subscribed a term deposit? (binary: 'yes','no')\n",
    "\n",
    "**All pre-processing is done where categorical variables are converted to numeric values and unnecessary columns are dropped.**"
   ]
  },
  {
   "cell_type": "code",
   "execution_count": 16,
   "metadata": {
    "id": "D_tH6Tj7p-Qt"
   },
   "outputs": [],
   "source": [
    "# Make a copy for parsing\n",
    "bank_data = bank.copy()\n",
    "\n",
    "# Drop 'contact', as every participant has been contacted. \n",
    "bank_data.drop('contact', axis=1, inplace=True)\n",
    "# Drop 'month' and 'day' as they don't have any intrinsic meaning\n",
    "bank_data.drop('month', axis=1, inplace=True)\n",
    "bank_data.drop('day', axis=1, inplace=True)\n",
    "\n",
    "#Convert categorical values to numeric values\n",
    "# values for \"default\" : yes/no\n",
    "bank_data[\"default\"]\n",
    "bank_data['default_cat'] = bank_data['default'].map( {'yes':1, 'no':0} )\n",
    "bank_data.drop('default', axis=1,inplace = True)\n",
    "# values for \"housing\" : yes/no\n",
    "bank_data[\"housing_cat\"]=bank_data['housing'].map({'yes':1, 'no':0})\n",
    "bank_data.drop('housing', axis=1,inplace = True)\n",
    "# values for \"loan\" : yes/no\n",
    "bank_data[\"loan_cat\"] = bank_data['loan'].map({'yes':1, 'no':0})\n",
    "bank_data.drop('loan', axis=1, inplace=True)\n",
    "# values for \"deposit\" : yes/no\n",
    "bank_data[\"deposit_cat\"] = bank_data['deposit'].map({'yes':1, 'no':0})\n",
    "bank_data.drop('deposit', axis=1, inplace=True)\n",
    "\n",
    "# Convert categorical variables to dummies\n",
    "bank_data = pd.get_dummies(data=bank_data, columns = ['job', 'marital', 'education', 'poutcome'], \\\n",
    "                                   prefix = ['job', 'marital', 'education', 'poutcome'])\n",
    "\n",
    "# Convert p_days to a probability value\n",
    "bank_data['recent_pdays'] = np.where(bank_data['pdays'], 1/bank_data.pdays, 1/bank_data.pdays)\n",
    "# Drop 'pdays'\n",
    "bank_data.drop('pdays', axis=1, inplace = True)"
   ]
  },
  {
   "cell_type": "code",
   "execution_count": 17,
   "metadata": {
    "colab": {
     "base_uri": "https://localhost:8080/",
     "height": 241
    },
    "id": "mFdtXno1qplD",
    "outputId": "9381df70-6a59-4f46-afbf-a8f2fb8f83e3"
   },
   "outputs": [
    {
     "data": {
      "text/html": [
       "<div>\n",
       "<style scoped>\n",
       "    .dataframe tbody tr th:only-of-type {\n",
       "        vertical-align: middle;\n",
       "    }\n",
       "\n",
       "    .dataframe tbody tr th {\n",
       "        vertical-align: top;\n",
       "    }\n",
       "\n",
       "    .dataframe thead th {\n",
       "        text-align: right;\n",
       "    }\n",
       "</style>\n",
       "<table border=\"1\" class=\"dataframe\">\n",
       "  <thead>\n",
       "    <tr style=\"text-align: right;\">\n",
       "      <th></th>\n",
       "      <th>age</th>\n",
       "      <th>balance</th>\n",
       "      <th>duration</th>\n",
       "      <th>campaign</th>\n",
       "      <th>previous</th>\n",
       "      <th>default_cat</th>\n",
       "      <th>housing_cat</th>\n",
       "      <th>loan_cat</th>\n",
       "      <th>deposit_cat</th>\n",
       "      <th>job_admin.</th>\n",
       "      <th>...</th>\n",
       "      <th>marital_single</th>\n",
       "      <th>education_primary</th>\n",
       "      <th>education_secondary</th>\n",
       "      <th>education_tertiary</th>\n",
       "      <th>education_unknown</th>\n",
       "      <th>poutcome_failure</th>\n",
       "      <th>poutcome_other</th>\n",
       "      <th>poutcome_success</th>\n",
       "      <th>poutcome_unknown</th>\n",
       "      <th>recent_pdays</th>\n",
       "    </tr>\n",
       "  </thead>\n",
       "  <tbody>\n",
       "    <tr>\n",
       "      <th>0</th>\n",
       "      <td>59</td>\n",
       "      <td>2343</td>\n",
       "      <td>1042</td>\n",
       "      <td>1</td>\n",
       "      <td>0</td>\n",
       "      <td>0</td>\n",
       "      <td>1</td>\n",
       "      <td>0</td>\n",
       "      <td>1</td>\n",
       "      <td>1</td>\n",
       "      <td>...</td>\n",
       "      <td>0</td>\n",
       "      <td>0</td>\n",
       "      <td>1</td>\n",
       "      <td>0</td>\n",
       "      <td>0</td>\n",
       "      <td>0</td>\n",
       "      <td>0</td>\n",
       "      <td>0</td>\n",
       "      <td>1</td>\n",
       "      <td>-1.0</td>\n",
       "    </tr>\n",
       "    <tr>\n",
       "      <th>1</th>\n",
       "      <td>56</td>\n",
       "      <td>45</td>\n",
       "      <td>1467</td>\n",
       "      <td>1</td>\n",
       "      <td>0</td>\n",
       "      <td>0</td>\n",
       "      <td>0</td>\n",
       "      <td>0</td>\n",
       "      <td>1</td>\n",
       "      <td>1</td>\n",
       "      <td>...</td>\n",
       "      <td>0</td>\n",
       "      <td>0</td>\n",
       "      <td>1</td>\n",
       "      <td>0</td>\n",
       "      <td>0</td>\n",
       "      <td>0</td>\n",
       "      <td>0</td>\n",
       "      <td>0</td>\n",
       "      <td>1</td>\n",
       "      <td>-1.0</td>\n",
       "    </tr>\n",
       "    <tr>\n",
       "      <th>2</th>\n",
       "      <td>41</td>\n",
       "      <td>1270</td>\n",
       "      <td>1389</td>\n",
       "      <td>1</td>\n",
       "      <td>0</td>\n",
       "      <td>0</td>\n",
       "      <td>1</td>\n",
       "      <td>0</td>\n",
       "      <td>1</td>\n",
       "      <td>0</td>\n",
       "      <td>...</td>\n",
       "      <td>0</td>\n",
       "      <td>0</td>\n",
       "      <td>1</td>\n",
       "      <td>0</td>\n",
       "      <td>0</td>\n",
       "      <td>0</td>\n",
       "      <td>0</td>\n",
       "      <td>0</td>\n",
       "      <td>1</td>\n",
       "      <td>-1.0</td>\n",
       "    </tr>\n",
       "    <tr>\n",
       "      <th>3</th>\n",
       "      <td>55</td>\n",
       "      <td>2476</td>\n",
       "      <td>579</td>\n",
       "      <td>1</td>\n",
       "      <td>0</td>\n",
       "      <td>0</td>\n",
       "      <td>1</td>\n",
       "      <td>0</td>\n",
       "      <td>1</td>\n",
       "      <td>0</td>\n",
       "      <td>...</td>\n",
       "      <td>0</td>\n",
       "      <td>0</td>\n",
       "      <td>1</td>\n",
       "      <td>0</td>\n",
       "      <td>0</td>\n",
       "      <td>0</td>\n",
       "      <td>0</td>\n",
       "      <td>0</td>\n",
       "      <td>1</td>\n",
       "      <td>-1.0</td>\n",
       "    </tr>\n",
       "    <tr>\n",
       "      <th>4</th>\n",
       "      <td>54</td>\n",
       "      <td>184</td>\n",
       "      <td>673</td>\n",
       "      <td>2</td>\n",
       "      <td>0</td>\n",
       "      <td>0</td>\n",
       "      <td>0</td>\n",
       "      <td>0</td>\n",
       "      <td>1</td>\n",
       "      <td>1</td>\n",
       "      <td>...</td>\n",
       "      <td>0</td>\n",
       "      <td>0</td>\n",
       "      <td>0</td>\n",
       "      <td>1</td>\n",
       "      <td>0</td>\n",
       "      <td>0</td>\n",
       "      <td>0</td>\n",
       "      <td>0</td>\n",
       "      <td>1</td>\n",
       "      <td>-1.0</td>\n",
       "    </tr>\n",
       "  </tbody>\n",
       "</table>\n",
       "<p>5 rows × 33 columns</p>\n",
       "</div>"
      ],
      "text/plain": [
       "   age  balance  duration  campaign  previous  default_cat  housing_cat  \\\n",
       "0   59     2343      1042         1         0            0            1   \n",
       "1   56       45      1467         1         0            0            0   \n",
       "2   41     1270      1389         1         0            0            1   \n",
       "3   55     2476       579         1         0            0            1   \n",
       "4   54      184       673         2         0            0            0   \n",
       "\n",
       "   loan_cat  deposit_cat  job_admin.  ...  marital_single  education_primary  \\\n",
       "0         0            1           1  ...               0                  0   \n",
       "1         0            1           1  ...               0                  0   \n",
       "2         0            1           0  ...               0                  0   \n",
       "3         0            1           0  ...               0                  0   \n",
       "4         0            1           1  ...               0                  0   \n",
       "\n",
       "   education_secondary  education_tertiary  education_unknown  \\\n",
       "0                    1                   0                  0   \n",
       "1                    1                   0                  0   \n",
       "2                    1                   0                  0   \n",
       "3                    1                   0                  0   \n",
       "4                    0                   1                  0   \n",
       "\n",
       "   poutcome_failure  poutcome_other  poutcome_success  poutcome_unknown  \\\n",
       "0                 0               0                 0                 1   \n",
       "1                 0               0                 0                 1   \n",
       "2                 0               0                 0                 1   \n",
       "3                 0               0                 0                 1   \n",
       "4                 0               0                 0                 1   \n",
       "\n",
       "   recent_pdays  \n",
       "0          -1.0  \n",
       "1          -1.0  \n",
       "2          -1.0  \n",
       "3          -1.0  \n",
       "4          -1.0  \n",
       "\n",
       "[5 rows x 33 columns]"
      ]
     },
     "execution_count": 17,
     "metadata": {},
     "output_type": "execute_result"
    }
   ],
   "source": [
    "bank_data.head()"
   ]
  },
  {
   "cell_type": "code",
   "execution_count": 18,
   "metadata": {
    "id": "F999tG3JqrR1"
   },
   "outputs": [],
   "source": [
    "# Splitting the data into training and test data with 80:20 ratio with random_state=50.\n",
    "# Building the data model\n",
    "# Train-Test split: 20% test data\n",
    "X = bank_data.drop('deposit_cat', 1)\n",
    "Y = bank_data.deposit_cat\n",
    "X_train, X_test, Y_train, Y_test = train_test_split(X, Y, test_size = 0.2, random_state = 50)"
   ]
  },
  {
   "cell_type": "markdown",
   "metadata": {
    "id": "Rd1sdLNLqtdY"
   },
   "source": [
    "a. Build a decision tree with depths 2,5,10,20 and max depth using gini and entropy criterion; report the train and test error. Refer [Decisison Tree](https://scikit-learn.org/stable/modules/generated/sklearn.tree.DecisionTreeClassifier.html#sklearn.tree.DecisionTreeClassifier) for more information on how to implement using sklearn.\n",
    "\n",
    "b. Explain how the train and test accuracy varies as we increase the depth of the tree.\n",
    "\n",
    "c. List the most important features for the tree with depth=2 and criterion=gini and plot the tree. Name this tree model as `dt2`.\n",
    "\n",
    "d. Report the accuracy and AUC for the test data and plot the ROC curve using `dt2`.\n"
   ]
  },
  {
   "cell_type": "markdown",
   "metadata": {
    "id": "kRaUnqlTrB1d"
   },
   "source": [
    "# Answer 2\n",
    "## (a)"
   ]
  },
  {
   "cell_type": "code",
   "execution_count": 19,
   "metadata": {
    "colab": {
     "base_uri": "https://localhost:8080/",
     "height": 119
    },
    "id": "b8eHYZKvqwYL",
    "outputId": "84aebfc7-a621-4e12-ff00-9247a251ff45"
   },
   "outputs": [
    {
     "name": "stdout",
     "output_type": "stream",
     "text": [
      "Max Depth 2, Gini Criterion, Training Error 0.27147496920147834\n",
      "Max Depth 2, Entropy Criterion, Training Error 0.2880501735916676\n",
      "Max Depth 5, Gini Criterion, Training Error 0.20237428603427035\n",
      "Max Depth 5, Entropy Criterion, Training Error 0.20013439354910964\n",
      "Max Depth 10, Gini Criterion, Training Error 0.13663344159480345\n",
      "Max Depth 10, Entropy Criterion, Training Error 0.14984880725725166\n",
      "Max Depth 20, Gini Criterion, Training Error 0.015791242020383022\n",
      "Max Depth 20, Entropy Criterion, Training Error 0.03494232276850711\n"
     ]
    }
   ],
   "source": [
    "from sklearn.tree import DecisionTreeClassifier\n",
    "from sklearn.metrics import mean_squared_error\n",
    "\n",
    "clf_2g = DecisionTreeClassifier(max_depth = 2, random_state = 50)\n",
    "clf_2g.fit(X_train,Y_train)\n",
    "Y_pred_2g = clf_2g.predict(X_train)\n",
    "print(\"Max Depth 2, Gini Criterion, Training Error\",mean_squared_error(Y_train,Y_pred_2g))\n",
    "\n",
    "\n",
    "clf_2e = DecisionTreeClassifier(max_depth = 2, criterion = \"entropy\", random_state = 50)\n",
    "clf_2e.fit(X_train,Y_train)\n",
    "Y_pred_2e = clf_2e.predict(X_train)\n",
    "print(\"Max Depth 2, Entropy Criterion, Training Error\",mean_squared_error(Y_train,Y_pred_2e))\n",
    "\n",
    "clf_5g = DecisionTreeClassifier(max_depth = 5, random_state = 50)\n",
    "clf_5g.fit(X_train,Y_train)\n",
    "Y_pred_5g = clf_5g.predict(X_train)\n",
    "print(\"Max Depth 5, Gini Criterion, Training Error\",mean_squared_error(Y_train,Y_pred_5g))\n",
    "\n",
    "\n",
    "clf_5e = DecisionTreeClassifier(max_depth = 5, criterion = \"entropy\", random_state = 50)\n",
    "clf_5e.fit(X_train,Y_train)\n",
    "Y_pred_5e = clf_5e.predict(X_train)\n",
    "print(\"Max Depth 5, Entropy Criterion, Training Error\",mean_squared_error(Y_train,Y_pred_5e))\n",
    "\n",
    "clf_10g = DecisionTreeClassifier(max_depth = 10, random_state = 50)\n",
    "clf_10g.fit(X_train,Y_train)\n",
    "Y_pred_10g = clf_10g.predict(X_train)\n",
    "print(\"Max Depth 10, Gini Criterion, Training Error\",mean_squared_error(Y_train,Y_pred_10g))\n",
    "\n",
    "clf_10e = DecisionTreeClassifier(max_depth = 10, criterion = \"entropy\", random_state = 50)\n",
    "clf_10e.fit(X_train,Y_train)\n",
    "Y_pred_10e = clf_10e.predict(X_train)\n",
    "print(\"Max Depth 10, Entropy Criterion, Training Error\",mean_squared_error(Y_train,Y_pred_10e))\n",
    "\n",
    "clf_20g = DecisionTreeClassifier(max_depth = 20, random_state = 50)\n",
    "clf_20g.fit(X_train,Y_train)\n",
    "Y_pred_20g = clf_20g.predict(X_train)\n",
    "print(\"Max Depth 20, Gini Criterion, Training Error\",mean_squared_error(Y_train,Y_pred_20g))\n",
    "\n",
    "\n",
    "clf_20e = DecisionTreeClassifier(max_depth = 20, criterion = \"entropy\", random_state = 50)\n",
    "clf_20e.fit(X_train,Y_train)\n",
    "Y_pred_20e = clf_20e.predict(X_train)\n",
    "print(\"Max Depth 20, Entropy Criterion, Training Error\",mean_squared_error(Y_train,Y_pred_20e))"
   ]
  },
  {
   "cell_type": "code",
   "execution_count": 20,
   "metadata": {},
   "outputs": [
    {
     "name": "stdout",
     "output_type": "stream",
     "text": [
      "Max Depth 2, Gini Criterion, Test Error 0.27317510076130763\n",
      "Max Depth 2, Entropy Criterion, Test Error 0.29108822212270485\n",
      "Max Depth 5, Gini Criterion, Test Error 0.2239140170174653\n",
      "Max Depth 5, Entropy Criterion, Test Error 0.22167487684729065\n",
      "Max Depth 10, Gini Criterion, Test Error 0.2109270040304523\n",
      "Max Depth 10, Entropy Criterion, Test Error 0.20824003582624273\n",
      "Max Depth 20, Gini Criterion, Test Error 0.2561576354679803\n",
      "Max Depth 20, Entropy Criterion, Test Error 0.26153157187639947\n"
     ]
    }
   ],
   "source": [
    "clf_2g = DecisionTreeClassifier(max_depth = 2, random_state = 50)\n",
    "clf_2g.fit(X_train,Y_train)\n",
    "Y_pred_2g_test = clf_2g.predict(X_test)\n",
    "print(\"Max Depth 2, Gini Criterion, Test Error\",mean_squared_error(Y_test,Y_pred_2g_test))\n",
    "\n",
    "\n",
    "clf_2e = DecisionTreeClassifier(max_depth = 2, criterion = \"entropy\", random_state = 50)\n",
    "clf_2e.fit(X_train,Y_train)\n",
    "Y_pred_2e_test = clf_2e.predict(X_test)\n",
    "print(\"Max Depth 2, Entropy Criterion, Test Error\",mean_squared_error(Y_test,Y_pred_2e_test))\n",
    "\n",
    "clf_5g = DecisionTreeClassifier(max_depth = 5, random_state = 50)\n",
    "clf_5g.fit(X_train,Y_train)\n",
    "Y_pred_5g_test = clf_5g.predict(X_test)\n",
    "print(\"Max Depth 5, Gini Criterion, Test Error\",mean_squared_error(Y_test,Y_pred_5g_test))\n",
    "\n",
    "\n",
    "clf_5e = DecisionTreeClassifier(max_depth = 5, criterion = \"entropy\", random_state = 50)\n",
    "clf_5e.fit(X_train,Y_train)\n",
    "Y_pred_5e_test = clf_5e.predict(X_test)\n",
    "print(\"Max Depth 5, Entropy Criterion, Test Error\",mean_squared_error(Y_test,Y_pred_5e_test))\n",
    "\n",
    "clf_10g = DecisionTreeClassifier(max_depth = 10, random_state = 50)\n",
    "clf_10g.fit(X_train,Y_train)\n",
    "Y_pred_10g_test = clf_10g.predict(X_test)\n",
    "print(\"Max Depth 10, Gini Criterion, Test Error\",mean_squared_error(Y_test,Y_pred_10g_test))\n",
    "\n",
    "clf_10e = DecisionTreeClassifier(max_depth = 10, criterion = \"entropy\", random_state = 50)\n",
    "clf_10e.fit(X_train,Y_train)\n",
    "Y_pred_10e_test = clf_10e.predict(X_test)\n",
    "print(\"Max Depth 10, Entropy Criterion, Test Error\",mean_squared_error(Y_test,Y_pred_10e_test))\n",
    "\n",
    "clf_20g = DecisionTreeClassifier(max_depth = 20, random_state = 50)\n",
    "clf_20g.fit(X_train,Y_train)\n",
    "Y_pred_20g_test = clf_20g.predict(X_test)\n",
    "print(\"Max Depth 20, Gini Criterion, Test Error\",mean_squared_error(Y_test,Y_pred_20g_test))\n",
    "\n",
    "\n",
    "clf_20e = DecisionTreeClassifier(max_depth = 20, criterion = \"entropy\", random_state = 50)\n",
    "clf_20e.fit(X_train,Y_train)\n",
    "Y_pred_20e_test = clf_20e.predict(X_test)\n",
    "print(\"Max Depth 20, Entropy Criterion, Test Error\",mean_squared_error(Y_test,Y_pred_20e_test))"
   ]
  },
  {
   "cell_type": "markdown",
   "metadata": {
    "id": "E_XC9kjdrI_e"
   },
   "source": [
    "## (b)\n",
    "\n"
   ]
  },
  {
   "cell_type": "markdown",
   "metadata": {},
   "source": [
    "## Training Error Findings##\n",
    "As the max depth increases, the training eror decreases without fail. This is logical, since allowing the classifier to make more splits will always improve accuracy on the training set.\n",
    "## Test Error Findings##\n",
    "As max depth increases, the test error decreases initially but reaches an inflection point with a max depth between 10 and 20 max depth where test error begins to increase. This reflects the overfitting of trees that have small incremental improvements on the training data which is picking up noise."
   ]
  },
  {
   "cell_type": "markdown",
   "metadata": {
    "id": "aKcO1wk1rPc0"
   },
   "source": [
    "# (c)"
   ]
  },
  {
   "cell_type": "code",
   "execution_count": 21,
   "metadata": {},
   "outputs": [
    {
     "name": "stdout",
     "output_type": "stream",
     "text": [
      "The best features are duration and poutcome_success\n"
     ]
    },
    {
     "data": {
      "text/html": [
       "<div>\n",
       "<style scoped>\n",
       "    .dataframe tbody tr th:only-of-type {\n",
       "        vertical-align: middle;\n",
       "    }\n",
       "\n",
       "    .dataframe tbody tr th {\n",
       "        vertical-align: top;\n",
       "    }\n",
       "\n",
       "    .dataframe thead th {\n",
       "        text-align: right;\n",
       "    }\n",
       "</style>\n",
       "<table border=\"1\" class=\"dataframe\">\n",
       "  <thead>\n",
       "    <tr style=\"text-align: right;\">\n",
       "      <th></th>\n",
       "      <th>Features</th>\n",
       "    </tr>\n",
       "  </thead>\n",
       "  <tbody>\n",
       "    <tr>\n",
       "      <th>duration</th>\n",
       "      <td>0.849306</td>\n",
       "    </tr>\n",
       "    <tr>\n",
       "      <th>poutcome_success</th>\n",
       "      <td>0.150694</td>\n",
       "    </tr>\n",
       "  </tbody>\n",
       "</table>\n",
       "</div>"
      ],
      "text/plain": [
       "                  Features\n",
       "duration          0.849306\n",
       "poutcome_success  0.150694"
      ]
     },
     "execution_count": 21,
     "metadata": {},
     "output_type": "execute_result"
    }
   ],
   "source": [
    "best_features=pd.DataFrame(data = clf_2g.feature_importances_, index = X_train.columns,columns=['Features']).sort_values(by='Features',ascending=False)[:2]\n",
    "print(\"The best features are\", best_features.index[0],\"and\",best_features.index[1])\n",
    "best_features"
   ]
  },
  {
   "cell_type": "code",
   "execution_count": 22,
   "metadata": {
    "scrolled": true
   },
   "outputs": [
    {
     "data": {
      "text/plain": [
       "[Text(167.4, 181.2, 'X[2] <= 206.5\\ngini = 0.499\\nsamples = 8929\\nvalue = [4700, 4229]'),\n",
       " Text(83.7, 108.72, 'X[29] <= 0.5\\ngini = 0.327\\nsamples = 3612\\nvalue = [2867, 745]'),\n",
       " Text(41.85, 36.23999999999998, 'gini = 0.273\\nsamples = 3380\\nvalue = [2828, 552]'),\n",
       " Text(125.55000000000001, 36.23999999999998, 'gini = 0.28\\nsamples = 232\\nvalue = [39, 193]'),\n",
       " Text(251.10000000000002, 108.72, 'X[2] <= 441.5\\ngini = 0.452\\nsamples = 5317\\nvalue = [1833, 3484]'),\n",
       " Text(209.25, 36.23999999999998, 'gini = 0.5\\nsamples = 2762\\nvalue = [1340, 1422]'),\n",
       " Text(292.95, 36.23999999999998, 'gini = 0.311\\nsamples = 2555\\nvalue = [493, 2062]')]"
      ]
     },
     "execution_count": 22,
     "metadata": {},
     "output_type": "execute_result"
    },
    {
     "data": {
      "image/png": "[encoded data removed]",
      "text/plain": [
       "<Figure size 432x288 with 1 Axes>"
      ]
     },
     "metadata": {
      "needs_background": "light"
     },
     "output_type": "display_data"
    }
   ],
   "source": [
    "import matplotlib.pyplot as plt\n",
    "dt2=tree.plot_tree(clf_2g)\n",
    "dt2"
   ]
  },
  {
   "cell_type": "markdown",
   "metadata": {
    "id": "EVzuH5vArViM"
   },
   "source": [
    "## (d)"
   ]
  },
  {
   "cell_type": "markdown",
   "metadata": {},
   "source": [
    "\n",
    "d. Report the accuracy and AUC for the test data and plot the ROC curve using `dt2`. "
   ]
  },
  {
   "cell_type": "code",
   "execution_count": 23,
   "metadata": {},
   "outputs": [
    {
     "name": "stdout",
     "output_type": "stream",
     "text": [
      "Accuracy score 0.7268248992386923\n",
      "AUC 0.7880265888143609\n"
     ]
    },
    {
     "data": {
      "text/plain": [
       "<sklearn.metrics._plot.roc_curve.RocCurveDisplay at 0x1f58879dac8>"
      ]
     },
     "execution_count": 23,
     "metadata": {},
     "output_type": "execute_result"
    },
    {
     "data": {
      "image/png": "[encoded data removed]",
      "text/plain": [
       "<Figure size 432x288 with 1 Axes>"
      ]
     },
     "metadata": {
      "needs_background": "light"
     },
     "output_type": "display_data"
    }
   ],
   "source": [
    "from sklearn.metrics import roc_curve, roc_auc_score\n",
    "from sklearn.metrics import accuracy_score\n",
    "\n",
    "y_preds = clf_2g.predict_proba(X_test)[:,1]\n",
    "\n",
    "y_preds2 = clf_2g.predict(X_test)\n",
    "\n",
    "print(\"Accuracy score\",str(accuracy_score(Y_test, y_preds2)))\n",
    "print(\"AUC\",str(roc_auc_score(Y_test, y_preds)))\n",
    "\n",
    "\n",
    "\n",
    "plot_roc_curve(clf_2g,X_test,Y_test)"
   ]
  },
  {
   "cell_type": "markdown",
   "metadata": {
    "id": "9cAvWwWwfESs"
   },
   "source": [
    "# Question 3 Pipeline Implementation from Sklearn \n",
    "\n",
    "In this question we will build a pipeline to streamline the ML Workflow. Instead of writing code for each logic, pipelines allow to make modeling easy by removing repeated operations. Generally we define the structure of the pipeline, to include the following steps, data pre-processing, feature selection, model building. \n",
    "\n",
    "**Part A**\n",
    "\n",
    " * Load the dataset from \"vehicle.csv\". The target variable is denoted by column_name = 'class'. Print the label class,and perform [LabelEncoding](https://scikit-learn.org/stable/modules/generated/sklearn.preprocessing.LabelEncoder.html) on them using sklearn.preprocessing.LabelEncoder.\n",
    "\n",
    " * Seperate the dataset into features,labels. Split the dataset into train and test set with 20% data in test set and random_state = 50\n",
    "\n",
    "**Part B**\n",
    "\n",
    "Now, we will build [Pipeline](https://scikit-learn.org/stable/modules/generated/sklearn.pipeline.Pipeline.html) with the following steps. Remeber to fit the pipeline on training set and predict on test set. Finally report the classification accuracy on the test set.\n",
    "\n",
    " * Data Pre-processing : Using SimpleImputer with strategy = 'mean'\n",
    " * Standardization : Standardize features by removing the mean and scaling to unit variance using StandardScaler()\n",
    " * Model : Use DecisionTreeClassifier with default values\n",
    "  \n",
    "\n",
    "**Part C**\n",
    "  \n",
    "In part C, we will build on top of the previous part B. In addition to the three steps we will add PCA to the pipeline and use [GridSearchCV](https://scikit-learn.org/stable/modules/generated/sklearn.model_selection.GridSearchCV.html) to find the best parameters for PCA(number of components) and DecisionTree(max_depth).\n",
    "  \n",
    " * Data Pre-processing : Using SimpleImputer with strategy = 'mean'\n",
    " * Standardization : Standardize features by removing the mean and scaling to unit variance using StandardScaler()\n",
    " * PCA : Use PCA()\n",
    " * Model : Use DecisionTreeClassifier with default values\n",
    "  \n",
    "We will now use [GridSearchCV] with default values(https://scikit-learn.org/stable/modules/generated/sklearn.model_selection.GridSearchCV.html) to estimate best parameters for pca(n_components = [5,8,10]) and Decision Tree (max_depth = [3,5,15]) using the pipeline designed. \n",
    "\n",
    "* **Hint:** The `param_grid` argument to gridsearch will be given as `{param_grid={'clf__max_depth': [3, 5, 15], 'pca__n_components': [5, 8, 10]}}`. \n",
    "\n",
    "Print the best parameters found by gridsearch. Finally, update the best parameters to the pipeline using pipe_pca.set_params(\"best params from gridsearchCV\"), and report the classification accuracy on test set.\n",
    "\n",
    "              "
   ]
  },
  {
   "cell_type": "code",
   "execution_count": 24,
   "metadata": {},
   "outputs": [
    {
     "data": {
      "text/plain": [
       "0    van\n",
       "1    van\n",
       "2    car\n",
       "3    van\n",
       "4    bus\n",
       "Name: class, dtype: object"
      ]
     },
     "execution_count": 24,
     "metadata": {},
     "output_type": "execute_result"
    }
   ],
   "source": [
    "#part a\n",
    "from sklearn.preprocessing import LabelEncoder\n",
    "from sklearn.model_selection import train_test_split\n",
    "vehicles = pd.read_csv('vehicle.csv')\n",
    "vehicles['class'].head()"
   ]
  },
  {
   "cell_type": "code",
   "execution_count": 25,
   "metadata": {},
   "outputs": [
    {
     "data": {
      "text/plain": [
       "0    2\n",
       "1    2\n",
       "2    1\n",
       "3    2\n",
       "4    0\n",
       "Name: classes, dtype: int32"
      ]
     },
     "execution_count": 25,
     "metadata": {},
     "output_type": "execute_result"
    }
   ],
   "source": [
    "le = LabelEncoder()\n",
    "vehicles['classes'] = le.fit_transform(vehicles['class'])\n",
    "vehicles['classes'].head()"
   ]
  },
  {
   "cell_type": "code",
   "execution_count": 26,
   "metadata": {},
   "outputs": [],
   "source": [
    "X = vehicles.drop(['classes','class'],axis=1)\n",
    "y = vehicles['classes']\n",
    "\n",
    "X_train, X_test, y_train, y_test = train_test_split(X, y, test_size=0.2, random_state=50)"
   ]
  },
  {
   "cell_type": "code",
   "execution_count": 27,
   "metadata": {},
   "outputs": [
    {
     "data": {
      "text/plain": [
       "0.888235294117647"
      ]
     },
     "execution_count": 27,
     "metadata": {},
     "output_type": "execute_result"
    }
   ],
   "source": [
    "#part b\n",
    "from sklearn.impute import SimpleImputer\n",
    "from sklearn.pipeline import Pipeline\n",
    "from sklearn.preprocessing import StandardScaler\n",
    "from sklearn.tree import DecisionTreeClassifier\n",
    "from sklearn.metrics import accuracy_score\n",
    "\n",
    "pipe = Pipeline([('impute', SimpleImputer(missing_values = np.nan, strategy='mean')),\n",
    "                 ('scaler', StandardScaler()),\n",
    "                 ('dtc', DecisionTreeClassifier())])\n",
    "\n",
    "pipe.fit(X_train, y_train)\n",
    "y_preds = pipe.predict(X_test)\n",
    "accuracy_score(y_test, y_preds)"
   ]
  },
  {
   "cell_type": "code",
   "execution_count": 28,
   "metadata": {},
   "outputs": [
    {
     "name": "stdout",
     "output_type": "stream",
     "text": [
      "best params: {'clf__max_depth': 15, 'pca__n_components': 10}\n",
      "accuracy score: 0.8470588235294118\n"
     ]
    }
   ],
   "source": [
    "#part c\n",
    "from sklearn.decomposition import PCA\n",
    "from sklearn.model_selection import GridSearchCV\n",
    "\n",
    "pipe_pca = Pipeline([('impute', SimpleImputer(missing_values = np.nan, strategy='mean')),\n",
    "                     ('scaler', StandardScaler()),\n",
    "                     ('pca', PCA()),\n",
    "                     ('clf', DecisionTreeClassifier())])\n",
    "\n",
    "param_grid = {'clf__max_depth': [3, 5, 15], \n",
    "              'pca__n_components': [5, 8, 10]}\n",
    "\n",
    "search = GridSearchCV(pipe_pca, param_grid)\n",
    "search.fit(X_train, y_train)\n",
    "print('best params:',str(search.best_params_))\n",
    "\n",
    "params = search.best_params_\n",
    "pipe_pca.set_params(**params)\n",
    "\n",
    "pipe_pca.fit(X_train, y_train)\n",
    "y_preds = pipe_pca.predict(X_test)\n",
    "print('accuracy score:',str(accuracy_score(y_test,y_preds)))"
   ]
  },
  {
   "cell_type": "markdown",
   "metadata": {},
   "source": [
    "# Question 4 Reject option\n",
    "\n",
    "Consider a binary classification problem with the following loss matrix - where the cost of rejection is a constant. \n",
    "\n",
    "$$\n",
    "   {\\begin{array}{ccccc}\n",
    "   & & \\text{Predicted class} & \\text{           } &\\\\\n",
    "   & & C1 & C2 & Reject\\\\\n",
    "   \\text{True class} & C1 & 0 & 3 & c  \\\\\n",
    "   & C2 & 2 & 0 & c \\\\\n",
    "  \\end{array} } \n",
    "$$\n",
    "\n",
    "Determine the prediction that minimizes the expected loss in different ranges of $P(C1|x)$ where c = 1"
   ]
  },
  {
   "cell_type": "markdown",
   "metadata": {},
   "source": [
    "Where P(C1|x) = 0:\n",
    "- C1 = 0\\*0 + 2\\*1 = 2\n",
    "- C2 = 3\\*0 + 0\\*1 = 0 (choose C2 for lower bound)\n",
    "\n",
    "Where P(C1|x) = 1:\n",
    "- C1 = 0\\*1 + 2\\*0 = 0\n",
    "- C2 = 3\\*1 + 0\\*0 = 3 (Choose C1 for upper bound)\n",
    "\n",
    "Where C1 and C2 intersect:\n",
    "- 0\\*P(C1|x) + 2\\*(1-P(C1|x)) = 3\\*P(C1|x) + 0\\*(1-P(C1|x))\n",
    "- 2\\*(1-P(C1|x) = 3\\*P(C1|x)\n",
    "- 2 - 2P(C1|x) = 3P(C1|x)\n",
    "- 5P(C1|x) = 2\n",
    "- P(C1|x) = 2/5\n",
    "\n",
    "Reject range:\n",
    "- 3P(C1|x) >= 1\n",
    "- P(C1|x) >= 1/3 (lower bound)\n",
    "- 2(1-P(C1|x)) >= 1\n",
    "- 2 - 2P(C1|x) >= 1\n",
    "- 1 >= 2P(C1|x)\n",
    "- P(C1|x) <= 1/2\n",
    "\n",
    "Prediction that minimizes expected loss:\n",
    "- C2 when P(C1|x) <= 1/3\n",
    "- reject when 1/3 <= P(C1|x) <= 1/2\n",
    "- C1 when P(C1|x) >= 1/2"
   ]
  }
 ],
 "metadata": {
  "colab": {
   "collapsed_sections": [],
   "name": "HW4.ipynb",
   "provenance": []
  },
  "kernelspec": {
   "display_name": "Python 3",
   "language": "python",
   "name": "python3"
  },
  "language_info": {
   "codemirror_mode": {
    "name": "ipython",
    "version": 3
   },
   "file_extension": ".py",
   "mimetype": "text/x-python",
   "name": "python",
   "nbconvert_exporter": "python",
   "pygments_lexer": "ipython3",
   "version": "3.7.6"
  }
 },
 "nbformat": 4,
 "nbformat_minor": 4
}
