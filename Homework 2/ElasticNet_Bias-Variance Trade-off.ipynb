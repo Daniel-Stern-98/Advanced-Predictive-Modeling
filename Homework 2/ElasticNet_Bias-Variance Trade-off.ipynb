{
 "cells": [
  {
   "cell_type": "markdown",
   "metadata": {
    "colab_type": "text",
    "id": "W5ZpdgFLzMCK"
   },
   "source": [
    "# Question 1 (Understanding ElasticNet)\n",
    "Although lots of past studies have been conducted on factors affecting life expectancy using demographic variables, income composition and mortality rates, it was found that the effect of immunization and human development index was not taken into account. Hence, this motivates us to resolve this factor by formulating a regression model based on mixed effects model and multiple linear regression while considering data from 2014 for all countries. Here, important immunization like Hepatitis B, Polio and Diphtheria will also be considered. \n",
    "\n",
    "This dataset was taken from https://www.kaggle.com/kumarajarshi/life-expectancy-who.\n",
    "\n",
    "**Please use Python 3.6+ for this assignment.**"
   ]
  },
  {
   "cell_type": "markdown",
   "metadata": {
    "colab_type": "text",
    "id": "As8wi1l8zY1f"
   },
   "source": [
    "First, we import packages and clean up the obtained dataset. We consider the `Life Expectancy` variable as the dependant variable whereas others are assumed to be independent variables."
   ]
  },
  {
   "cell_type": "code",
   "execution_count": 1,
   "metadata": {
    "colab": {
     "base_uri": "https://localhost:8080/",
     "height": 51
    },
    "colab_type": "code",
    "id": "FOU1ODXmfNlG",
    "outputId": "3e0dacba-1114-4244-be8f-3183dca50c2c"
   },
   "outputs": [],
   "source": [
    "import pandas as pd\n",
    "import numpy as np\n",
    "import matplotlib.pyplot as plt\n",
    "from tqdm import tqdm\n",
    "import seaborn as sns\n",
    "from sklearn.preprocessing import LabelEncoder\n",
    "from sklearn.model_selection import train_test_split\n",
    "from sklearn.linear_model import LinearRegression\n",
    "import warnings\n",
    "warnings.filterwarnings('ignore')"
   ]
  },
  {
   "cell_type": "code",
   "execution_count": 2,
   "metadata": {
    "colab": {
     "base_uri": "https://localhost:8080/",
     "height": 51
    },
    "colab_type": "code",
    "id": "ctY6Ogo8fX8-",
    "outputId": "a56bdbdb-3a5e-464c-d9b2-0611b4682b6d"
   },
   "outputs": [
    {
     "name": "stdout",
     "output_type": "stream",
     "text": [
      "(2938, 21)\n",
      "(131, 21)\n"
     ]
    }
   ],
   "source": [
    "df = pd.read_csv(\"life.csv\", index_col=0)\n",
    "print(df.shape)\n",
    "df = df.loc[df['Year']==2014, :]\n",
    "df = df.drop('Year', axis=1)\n",
    "df = pd.get_dummies(df, columns=['Status'])\n",
    "df = df.dropna()\n",
    "print(df.shape)"
   ]
  },
  {
   "cell_type": "code",
   "execution_count": 3,
   "metadata": {
    "colab": {
     "base_uri": "https://localhost:8080/",
     "height": 306
    },
    "colab_type": "code",
    "id": "MqH3uOrbf-WO",
    "outputId": "83be1413-c739-460f-e109-b45d039a9844"
   },
   "outputs": [
    {
     "data": {
      "text/html": [
       "<div>\n",
       "<style scoped>\n",
       "    .dataframe tbody tr th:only-of-type {\n",
       "        vertical-align: middle;\n",
       "    }\n",
       "\n",
       "    .dataframe tbody tr th {\n",
       "        vertical-align: top;\n",
       "    }\n",
       "\n",
       "    .dataframe thead th {\n",
       "        text-align: right;\n",
       "    }\n",
       "</style>\n",
       "<table border=\"1\" class=\"dataframe\">\n",
       "  <thead>\n",
       "    <tr style=\"text-align: right;\">\n",
       "      <th></th>\n",
       "      <th>Life expectancy</th>\n",
       "      <th>Adult Mortality</th>\n",
       "      <th>infant deaths</th>\n",
       "      <th>Alcohol</th>\n",
       "      <th>percentage expenditure</th>\n",
       "      <th>Hepatitis B</th>\n",
       "      <th>Measles</th>\n",
       "      <th>BMI</th>\n",
       "      <th>under-five deaths</th>\n",
       "      <th>Polio</th>\n",
       "      <th>...</th>\n",
       "      <th>Diphtheria</th>\n",
       "      <th>HIV/AIDS</th>\n",
       "      <th>GDP</th>\n",
       "      <th>Population</th>\n",
       "      <th>thinness  1-19 years</th>\n",
       "      <th>thinness 5-9 years</th>\n",
       "      <th>Income composition of resources</th>\n",
       "      <th>Schooling</th>\n",
       "      <th>Status_Developed</th>\n",
       "      <th>Status_Developing</th>\n",
       "    </tr>\n",
       "    <tr>\n",
       "      <th>Country</th>\n",
       "      <th></th>\n",
       "      <th></th>\n",
       "      <th></th>\n",
       "      <th></th>\n",
       "      <th></th>\n",
       "      <th></th>\n",
       "      <th></th>\n",
       "      <th></th>\n",
       "      <th></th>\n",
       "      <th></th>\n",
       "      <th></th>\n",
       "      <th></th>\n",
       "      <th></th>\n",
       "      <th></th>\n",
       "      <th></th>\n",
       "      <th></th>\n",
       "      <th></th>\n",
       "      <th></th>\n",
       "      <th></th>\n",
       "      <th></th>\n",
       "      <th></th>\n",
       "    </tr>\n",
       "  </thead>\n",
       "  <tbody>\n",
       "    <tr>\n",
       "      <th>Afghanistan</th>\n",
       "      <td>59.9</td>\n",
       "      <td>271.0</td>\n",
       "      <td>64</td>\n",
       "      <td>0.01</td>\n",
       "      <td>73.523582</td>\n",
       "      <td>62.0</td>\n",
       "      <td>492</td>\n",
       "      <td>18.6</td>\n",
       "      <td>86</td>\n",
       "      <td>58.0</td>\n",
       "      <td>...</td>\n",
       "      <td>62.0</td>\n",
       "      <td>0.1</td>\n",
       "      <td>612.696514</td>\n",
       "      <td>327582.0</td>\n",
       "      <td>17.5</td>\n",
       "      <td>17.5</td>\n",
       "      <td>0.476</td>\n",
       "      <td>10.0</td>\n",
       "      <td>0</td>\n",
       "      <td>1</td>\n",
       "    </tr>\n",
       "    <tr>\n",
       "      <th>Albania</th>\n",
       "      <td>77.5</td>\n",
       "      <td>8.0</td>\n",
       "      <td>0</td>\n",
       "      <td>4.51</td>\n",
       "      <td>428.749067</td>\n",
       "      <td>98.0</td>\n",
       "      <td>0</td>\n",
       "      <td>57.2</td>\n",
       "      <td>1</td>\n",
       "      <td>98.0</td>\n",
       "      <td>...</td>\n",
       "      <td>98.0</td>\n",
       "      <td>0.1</td>\n",
       "      <td>4575.763787</td>\n",
       "      <td>288914.0</td>\n",
       "      <td>1.2</td>\n",
       "      <td>1.3</td>\n",
       "      <td>0.761</td>\n",
       "      <td>14.2</td>\n",
       "      <td>0</td>\n",
       "      <td>1</td>\n",
       "    </tr>\n",
       "    <tr>\n",
       "      <th>Algeria</th>\n",
       "      <td>75.4</td>\n",
       "      <td>11.0</td>\n",
       "      <td>21</td>\n",
       "      <td>0.01</td>\n",
       "      <td>54.237318</td>\n",
       "      <td>95.0</td>\n",
       "      <td>0</td>\n",
       "      <td>58.4</td>\n",
       "      <td>24</td>\n",
       "      <td>95.0</td>\n",
       "      <td>...</td>\n",
       "      <td>95.0</td>\n",
       "      <td>0.1</td>\n",
       "      <td>547.851700</td>\n",
       "      <td>39113313.0</td>\n",
       "      <td>6.0</td>\n",
       "      <td>5.8</td>\n",
       "      <td>0.741</td>\n",
       "      <td>14.4</td>\n",
       "      <td>0</td>\n",
       "      <td>1</td>\n",
       "    </tr>\n",
       "    <tr>\n",
       "      <th>Angola</th>\n",
       "      <td>51.7</td>\n",
       "      <td>348.0</td>\n",
       "      <td>67</td>\n",
       "      <td>8.33</td>\n",
       "      <td>23.965612</td>\n",
       "      <td>64.0</td>\n",
       "      <td>11699</td>\n",
       "      <td>22.7</td>\n",
       "      <td>101</td>\n",
       "      <td>68.0</td>\n",
       "      <td>...</td>\n",
       "      <td>64.0</td>\n",
       "      <td>2.0</td>\n",
       "      <td>479.312240</td>\n",
       "      <td>2692466.0</td>\n",
       "      <td>8.5</td>\n",
       "      <td>8.3</td>\n",
       "      <td>0.527</td>\n",
       "      <td>11.4</td>\n",
       "      <td>0</td>\n",
       "      <td>1</td>\n",
       "    </tr>\n",
       "    <tr>\n",
       "      <th>Argentina</th>\n",
       "      <td>76.2</td>\n",
       "      <td>118.0</td>\n",
       "      <td>8</td>\n",
       "      <td>7.93</td>\n",
       "      <td>847.371746</td>\n",
       "      <td>94.0</td>\n",
       "      <td>1</td>\n",
       "      <td>62.2</td>\n",
       "      <td>9</td>\n",
       "      <td>92.0</td>\n",
       "      <td>...</td>\n",
       "      <td>94.0</td>\n",
       "      <td>0.1</td>\n",
       "      <td>12245.256450</td>\n",
       "      <td>42981515.0</td>\n",
       "      <td>1.0</td>\n",
       "      <td>0.9</td>\n",
       "      <td>0.825</td>\n",
       "      <td>17.3</td>\n",
       "      <td>0</td>\n",
       "      <td>1</td>\n",
       "    </tr>\n",
       "  </tbody>\n",
       "</table>\n",
       "<p>5 rows × 21 columns</p>\n",
       "</div>"
      ],
      "text/plain": [
       "             Life expectancy   Adult Mortality  infant deaths  Alcohol  \\\n",
       "Country                                                                  \n",
       "Afghanistan              59.9            271.0             64     0.01   \n",
       "Albania                  77.5              8.0              0     4.51   \n",
       "Algeria                  75.4             11.0             21     0.01   \n",
       "Angola                   51.7            348.0             67     8.33   \n",
       "Argentina                76.2            118.0              8     7.93   \n",
       "\n",
       "             percentage expenditure  Hepatitis B  Measles    BMI   \\\n",
       "Country                                                             \n",
       "Afghanistan               73.523582         62.0       492   18.6   \n",
       "Albania                  428.749067         98.0         0   57.2   \n",
       "Algeria                   54.237318         95.0         0   58.4   \n",
       "Angola                    23.965612         64.0     11699   22.7   \n",
       "Argentina                847.371746         94.0         1   62.2   \n",
       "\n",
       "             under-five deaths   Polio  ...  Diphtheria    HIV/AIDS  \\\n",
       "Country                                 ...                           \n",
       "Afghanistan                  86   58.0  ...         62.0        0.1   \n",
       "Albania                       1   98.0  ...         98.0        0.1   \n",
       "Algeria                      24   95.0  ...         95.0        0.1   \n",
       "Angola                      101   68.0  ...         64.0        2.0   \n",
       "Argentina                     9   92.0  ...         94.0        0.1   \n",
       "\n",
       "                      GDP  Population   thinness  1-19 years  \\\n",
       "Country                                                        \n",
       "Afghanistan    612.696514    327582.0                   17.5   \n",
       "Albania       4575.763787    288914.0                    1.2   \n",
       "Algeria        547.851700  39113313.0                    6.0   \n",
       "Angola         479.312240   2692466.0                    8.5   \n",
       "Argentina    12245.256450  42981515.0                    1.0   \n",
       "\n",
       "              thinness 5-9 years  Income composition of resources  Schooling  \\\n",
       "Country                                                                        \n",
       "Afghanistan                 17.5                            0.476       10.0   \n",
       "Albania                      1.3                            0.761       14.2   \n",
       "Algeria                      5.8                            0.741       14.4   \n",
       "Angola                       8.3                            0.527       11.4   \n",
       "Argentina                    0.9                            0.825       17.3   \n",
       "\n",
       "             Status_Developed  Status_Developing  \n",
       "Country                                           \n",
       "Afghanistan                 0                  1  \n",
       "Albania                     0                  1  \n",
       "Algeria                     0                  1  \n",
       "Angola                      0                  1  \n",
       "Argentina                   0                  1  \n",
       "\n",
       "[5 rows x 21 columns]"
      ]
     },
     "execution_count": 3,
     "metadata": {},
     "output_type": "execute_result"
    }
   ],
   "source": [
    "df.head()"
   ]
  },
  {
   "cell_type": "code",
   "execution_count": 4,
   "metadata": {},
   "outputs": [],
   "source": [
    "# Creating training and testing dataset\n",
    "y = df.iloc[:, 0]\n",
    "X = df.iloc[:, 1:]\n",
    "\n",
    "X_train, X_test, y_train, y_test = train_test_split(X, y, test_size=0.20, random_state = 42)"
   ]
  },
  {
   "cell_type": "code",
   "execution_count": 5,
   "metadata": {},
   "outputs": [
    {
     "data": {
      "text/html": [
       "<div>\n",
       "<style scoped>\n",
       "    .dataframe tbody tr th:only-of-type {\n",
       "        vertical-align: middle;\n",
       "    }\n",
       "\n",
       "    .dataframe tbody tr th {\n",
       "        vertical-align: top;\n",
       "    }\n",
       "\n",
       "    .dataframe thead th {\n",
       "        text-align: right;\n",
       "    }\n",
       "</style>\n",
       "<table border=\"1\" class=\"dataframe\">\n",
       "  <thead>\n",
       "    <tr style=\"text-align: right;\">\n",
       "      <th></th>\n",
       "      <th>Adult Mortality</th>\n",
       "      <th>infant deaths</th>\n",
       "      <th>Alcohol</th>\n",
       "      <th>percentage expenditure</th>\n",
       "      <th>Hepatitis B</th>\n",
       "      <th>Measles</th>\n",
       "      <th>BMI</th>\n",
       "      <th>under-five deaths</th>\n",
       "      <th>Polio</th>\n",
       "      <th>Total expenditure</th>\n",
       "      <th>Diphtheria</th>\n",
       "      <th>HIV/AIDS</th>\n",
       "      <th>GDP</th>\n",
       "      <th>Population</th>\n",
       "      <th>thinness  1-19 years</th>\n",
       "      <th>thinness 5-9 years</th>\n",
       "      <th>Income composition of resources</th>\n",
       "      <th>Schooling</th>\n",
       "      <th>Status_Developed</th>\n",
       "      <th>Status_Developing</th>\n",
       "    </tr>\n",
       "    <tr>\n",
       "      <th>Country</th>\n",
       "      <th></th>\n",
       "      <th></th>\n",
       "      <th></th>\n",
       "      <th></th>\n",
       "      <th></th>\n",
       "      <th></th>\n",
       "      <th></th>\n",
       "      <th></th>\n",
       "      <th></th>\n",
       "      <th></th>\n",
       "      <th></th>\n",
       "      <th></th>\n",
       "      <th></th>\n",
       "      <th></th>\n",
       "      <th></th>\n",
       "      <th></th>\n",
       "      <th></th>\n",
       "      <th></th>\n",
       "      <th></th>\n",
       "      <th></th>\n",
       "    </tr>\n",
       "  </thead>\n",
       "  <tbody>\n",
       "    <tr>\n",
       "      <th>Afghanistan</th>\n",
       "      <td>271.0</td>\n",
       "      <td>64</td>\n",
       "      <td>0.01</td>\n",
       "      <td>73.523582</td>\n",
       "      <td>62.0</td>\n",
       "      <td>492</td>\n",
       "      <td>18.6</td>\n",
       "      <td>86</td>\n",
       "      <td>58.0</td>\n",
       "      <td>8.18</td>\n",
       "      <td>62.0</td>\n",
       "      <td>0.1</td>\n",
       "      <td>612.696514</td>\n",
       "      <td>327582.0</td>\n",
       "      <td>17.5</td>\n",
       "      <td>17.5</td>\n",
       "      <td>0.476</td>\n",
       "      <td>10.0</td>\n",
       "      <td>0</td>\n",
       "      <td>1</td>\n",
       "    </tr>\n",
       "    <tr>\n",
       "      <th>Albania</th>\n",
       "      <td>8.0</td>\n",
       "      <td>0</td>\n",
       "      <td>4.51</td>\n",
       "      <td>428.749067</td>\n",
       "      <td>98.0</td>\n",
       "      <td>0</td>\n",
       "      <td>57.2</td>\n",
       "      <td>1</td>\n",
       "      <td>98.0</td>\n",
       "      <td>5.88</td>\n",
       "      <td>98.0</td>\n",
       "      <td>0.1</td>\n",
       "      <td>4575.763787</td>\n",
       "      <td>288914.0</td>\n",
       "      <td>1.2</td>\n",
       "      <td>1.3</td>\n",
       "      <td>0.761</td>\n",
       "      <td>14.2</td>\n",
       "      <td>0</td>\n",
       "      <td>1</td>\n",
       "    </tr>\n",
       "    <tr>\n",
       "      <th>Algeria</th>\n",
       "      <td>11.0</td>\n",
       "      <td>21</td>\n",
       "      <td>0.01</td>\n",
       "      <td>54.237318</td>\n",
       "      <td>95.0</td>\n",
       "      <td>0</td>\n",
       "      <td>58.4</td>\n",
       "      <td>24</td>\n",
       "      <td>95.0</td>\n",
       "      <td>7.21</td>\n",
       "      <td>95.0</td>\n",
       "      <td>0.1</td>\n",
       "      <td>547.851700</td>\n",
       "      <td>39113313.0</td>\n",
       "      <td>6.0</td>\n",
       "      <td>5.8</td>\n",
       "      <td>0.741</td>\n",
       "      <td>14.4</td>\n",
       "      <td>0</td>\n",
       "      <td>1</td>\n",
       "    </tr>\n",
       "    <tr>\n",
       "      <th>Angola</th>\n",
       "      <td>348.0</td>\n",
       "      <td>67</td>\n",
       "      <td>8.33</td>\n",
       "      <td>23.965612</td>\n",
       "      <td>64.0</td>\n",
       "      <td>11699</td>\n",
       "      <td>22.7</td>\n",
       "      <td>101</td>\n",
       "      <td>68.0</td>\n",
       "      <td>3.31</td>\n",
       "      <td>64.0</td>\n",
       "      <td>2.0</td>\n",
       "      <td>479.312240</td>\n",
       "      <td>2692466.0</td>\n",
       "      <td>8.5</td>\n",
       "      <td>8.3</td>\n",
       "      <td>0.527</td>\n",
       "      <td>11.4</td>\n",
       "      <td>0</td>\n",
       "      <td>1</td>\n",
       "    </tr>\n",
       "    <tr>\n",
       "      <th>Argentina</th>\n",
       "      <td>118.0</td>\n",
       "      <td>8</td>\n",
       "      <td>7.93</td>\n",
       "      <td>847.371746</td>\n",
       "      <td>94.0</td>\n",
       "      <td>1</td>\n",
       "      <td>62.2</td>\n",
       "      <td>9</td>\n",
       "      <td>92.0</td>\n",
       "      <td>4.79</td>\n",
       "      <td>94.0</td>\n",
       "      <td>0.1</td>\n",
       "      <td>12245.256450</td>\n",
       "      <td>42981515.0</td>\n",
       "      <td>1.0</td>\n",
       "      <td>0.9</td>\n",
       "      <td>0.825</td>\n",
       "      <td>17.3</td>\n",
       "      <td>0</td>\n",
       "      <td>1</td>\n",
       "    </tr>\n",
       "    <tr>\n",
       "      <th>...</th>\n",
       "      <td>...</td>\n",
       "      <td>...</td>\n",
       "      <td>...</td>\n",
       "      <td>...</td>\n",
       "      <td>...</td>\n",
       "      <td>...</td>\n",
       "      <td>...</td>\n",
       "      <td>...</td>\n",
       "      <td>...</td>\n",
       "      <td>...</td>\n",
       "      <td>...</td>\n",
       "      <td>...</td>\n",
       "      <td>...</td>\n",
       "      <td>...</td>\n",
       "      <td>...</td>\n",
       "      <td>...</td>\n",
       "      <td>...</td>\n",
       "      <td>...</td>\n",
       "      <td>...</td>\n",
       "      <td>...</td>\n",
       "    </tr>\n",
       "    <tr>\n",
       "      <th>Uruguay</th>\n",
       "      <td>117.0</td>\n",
       "      <td>0</td>\n",
       "      <td>6.03</td>\n",
       "      <td>463.639782</td>\n",
       "      <td>95.0</td>\n",
       "      <td>0</td>\n",
       "      <td>63.4</td>\n",
       "      <td>0</td>\n",
       "      <td>95.0</td>\n",
       "      <td>8.58</td>\n",
       "      <td>95.0</td>\n",
       "      <td>0.1</td>\n",
       "      <td>16737.898270</td>\n",
       "      <td>3419546.0</td>\n",
       "      <td>1.5</td>\n",
       "      <td>1.4</td>\n",
       "      <td>0.791</td>\n",
       "      <td>15.5</td>\n",
       "      <td>0</td>\n",
       "      <td>1</td>\n",
       "    </tr>\n",
       "    <tr>\n",
       "      <th>Uzbekistan</th>\n",
       "      <td>184.0</td>\n",
       "      <td>16</td>\n",
       "      <td>0.01</td>\n",
       "      <td>0.442802</td>\n",
       "      <td>99.0</td>\n",
       "      <td>8</td>\n",
       "      <td>43.9</td>\n",
       "      <td>18</td>\n",
       "      <td>99.0</td>\n",
       "      <td>5.84</td>\n",
       "      <td>99.0</td>\n",
       "      <td>0.1</td>\n",
       "      <td>25.448414</td>\n",
       "      <td>37577.0</td>\n",
       "      <td>3.0</td>\n",
       "      <td>3.1</td>\n",
       "      <td>0.690</td>\n",
       "      <td>12.1</td>\n",
       "      <td>0</td>\n",
       "      <td>1</td>\n",
       "    </tr>\n",
       "    <tr>\n",
       "      <th>Vanuatu</th>\n",
       "      <td>134.0</td>\n",
       "      <td>0</td>\n",
       "      <td>0.01</td>\n",
       "      <td>564.816704</td>\n",
       "      <td>64.0</td>\n",
       "      <td>10</td>\n",
       "      <td>52.5</td>\n",
       "      <td>0</td>\n",
       "      <td>65.0</td>\n",
       "      <td>5.20</td>\n",
       "      <td>64.0</td>\n",
       "      <td>0.1</td>\n",
       "      <td>3148.365130</td>\n",
       "      <td>25885.0</td>\n",
       "      <td>1.5</td>\n",
       "      <td>1.4</td>\n",
       "      <td>0.596</td>\n",
       "      <td>10.8</td>\n",
       "      <td>0</td>\n",
       "      <td>1</td>\n",
       "    </tr>\n",
       "    <tr>\n",
       "      <th>Zambia</th>\n",
       "      <td>314.0</td>\n",
       "      <td>28</td>\n",
       "      <td>0.01</td>\n",
       "      <td>196.667577</td>\n",
       "      <td>86.0</td>\n",
       "      <td>9</td>\n",
       "      <td>22.8</td>\n",
       "      <td>41</td>\n",
       "      <td>78.0</td>\n",
       "      <td>4.99</td>\n",
       "      <td>86.0</td>\n",
       "      <td>4.3</td>\n",
       "      <td>1738.882200</td>\n",
       "      <td>1562974.0</td>\n",
       "      <td>6.3</td>\n",
       "      <td>6.2</td>\n",
       "      <td>0.570</td>\n",
       "      <td>12.5</td>\n",
       "      <td>0</td>\n",
       "      <td>1</td>\n",
       "    </tr>\n",
       "    <tr>\n",
       "      <th>Zimbabwe</th>\n",
       "      <td>371.0</td>\n",
       "      <td>23</td>\n",
       "      <td>6.50</td>\n",
       "      <td>10.822595</td>\n",
       "      <td>91.0</td>\n",
       "      <td>0</td>\n",
       "      <td>31.3</td>\n",
       "      <td>34</td>\n",
       "      <td>92.0</td>\n",
       "      <td>6.44</td>\n",
       "      <td>91.0</td>\n",
       "      <td>6.3</td>\n",
       "      <td>127.474620</td>\n",
       "      <td>15411675.0</td>\n",
       "      <td>5.9</td>\n",
       "      <td>5.7</td>\n",
       "      <td>0.498</td>\n",
       "      <td>10.3</td>\n",
       "      <td>0</td>\n",
       "      <td>1</td>\n",
       "    </tr>\n",
       "  </tbody>\n",
       "</table>\n",
       "<p>131 rows × 20 columns</p>\n",
       "</div>"
      ],
      "text/plain": [
       "             Adult Mortality  infant deaths  Alcohol  percentage expenditure  \\\n",
       "Country                                                                        \n",
       "Afghanistan            271.0             64     0.01               73.523582   \n",
       "Albania                  8.0              0     4.51              428.749067   \n",
       "Algeria                 11.0             21     0.01               54.237318   \n",
       "Angola                 348.0             67     8.33               23.965612   \n",
       "Argentina              118.0              8     7.93              847.371746   \n",
       "...                      ...            ...      ...                     ...   \n",
       "Uruguay                117.0              0     6.03              463.639782   \n",
       "Uzbekistan             184.0             16     0.01                0.442802   \n",
       "Vanuatu                134.0              0     0.01              564.816704   \n",
       "Zambia                 314.0             28     0.01              196.667577   \n",
       "Zimbabwe               371.0             23     6.50               10.822595   \n",
       "\n",
       "             Hepatitis B  Measles    BMI   under-five deaths   Polio  \\\n",
       "Country                                                                \n",
       "Afghanistan         62.0       492   18.6                  86   58.0   \n",
       "Albania             98.0         0   57.2                   1   98.0   \n",
       "Algeria             95.0         0   58.4                  24   95.0   \n",
       "Angola              64.0     11699   22.7                 101   68.0   \n",
       "Argentina           94.0         1   62.2                   9   92.0   \n",
       "...                  ...       ...    ...                 ...    ...   \n",
       "Uruguay             95.0         0   63.4                   0   95.0   \n",
       "Uzbekistan          99.0         8   43.9                  18   99.0   \n",
       "Vanuatu             64.0        10   52.5                   0   65.0   \n",
       "Zambia              86.0         9   22.8                  41   78.0   \n",
       "Zimbabwe            91.0         0   31.3                  34   92.0   \n",
       "\n",
       "             Total expenditure  Diphtheria    HIV/AIDS           GDP  \\\n",
       "Country                                                                \n",
       "Afghanistan               8.18         62.0        0.1    612.696514   \n",
       "Albania                   5.88         98.0        0.1   4575.763787   \n",
       "Algeria                   7.21         95.0        0.1    547.851700   \n",
       "Angola                    3.31         64.0        2.0    479.312240   \n",
       "Argentina                 4.79         94.0        0.1  12245.256450   \n",
       "...                        ...          ...        ...           ...   \n",
       "Uruguay                   8.58         95.0        0.1  16737.898270   \n",
       "Uzbekistan                5.84         99.0        0.1     25.448414   \n",
       "Vanuatu                   5.20         64.0        0.1   3148.365130   \n",
       "Zambia                    4.99         86.0        4.3   1738.882200   \n",
       "Zimbabwe                  6.44         91.0        6.3    127.474620   \n",
       "\n",
       "             Population   thinness  1-19 years   thinness 5-9 years  \\\n",
       "Country                                                               \n",
       "Afghanistan    327582.0                   17.5                 17.5   \n",
       "Albania        288914.0                    1.2                  1.3   \n",
       "Algeria      39113313.0                    6.0                  5.8   \n",
       "Angola        2692466.0                    8.5                  8.3   \n",
       "Argentina    42981515.0                    1.0                  0.9   \n",
       "...                 ...                    ...                  ...   \n",
       "Uruguay       3419546.0                    1.5                  1.4   \n",
       "Uzbekistan      37577.0                    3.0                  3.1   \n",
       "Vanuatu         25885.0                    1.5                  1.4   \n",
       "Zambia        1562974.0                    6.3                  6.2   \n",
       "Zimbabwe     15411675.0                    5.9                  5.7   \n",
       "\n",
       "             Income composition of resources  Schooling  Status_Developed  \\\n",
       "Country                                                                     \n",
       "Afghanistan                            0.476       10.0                 0   \n",
       "Albania                                0.761       14.2                 0   \n",
       "Algeria                                0.741       14.4                 0   \n",
       "Angola                                 0.527       11.4                 0   \n",
       "Argentina                              0.825       17.3                 0   \n",
       "...                                      ...        ...               ...   \n",
       "Uruguay                                0.791       15.5                 0   \n",
       "Uzbekistan                             0.690       12.1                 0   \n",
       "Vanuatu                                0.596       10.8                 0   \n",
       "Zambia                                 0.570       12.5                 0   \n",
       "Zimbabwe                               0.498       10.3                 0   \n",
       "\n",
       "             Status_Developing  \n",
       "Country                         \n",
       "Afghanistan                  1  \n",
       "Albania                      1  \n",
       "Algeria                      1  \n",
       "Angola                       1  \n",
       "Argentina                    1  \n",
       "...                        ...  \n",
       "Uruguay                      1  \n",
       "Uzbekistan                   1  \n",
       "Vanuatu                      1  \n",
       "Zambia                       1  \n",
       "Zimbabwe                     1  \n",
       "\n",
       "[131 rows x 20 columns]"
      ]
     },
     "execution_count": 5,
     "metadata": {},
     "output_type": "execute_result"
    }
   ],
   "source": [
    "X"
   ]
  },
  {
   "cell_type": "markdown",
   "metadata": {
    "colab_type": "text",
    "id": "w8ngMwYK0uZ4"
   },
   "source": [
    "## Question 1.1 \n",
    "Run Linear regression on the train dataset and print the $R^2$ values measured on (a) the training dataset and (b) the test dataset."
   ]
  },
  {
   "cell_type": "markdown",
   "metadata": {
    "colab_type": "text",
    "id": "uNI4UUH7-x00"
   },
   "source": [
    "## Answer 1.1"
   ]
  },
  {
   "cell_type": "code",
   "execution_count": 6,
   "metadata": {},
   "outputs": [
    {
     "name": "stdout",
     "output_type": "stream",
     "text": [
      "\n",
      "Train R2: 0.8869822224758938\n",
      "Test R2: 0.8355055233744485\n"
     ]
    }
   ],
   "source": [
    "reg = LinearRegression()\n",
    "reg.fit(X_train,y_train)\n",
    "y_pred_train = reg.predict(X_train)\n",
    "y_pred_test = reg.predict(X_test)\n",
    "\n",
    "from sklearn.metrics import r2_score\n",
    "r2_train = r2_score(y_train, y_pred_train)\n",
    "r2_test = r2_score(y_test,y_pred_test)\n",
    "print('\\nTrain R2:',str(r2_train))\n",
    "print('Test R2:',str(r2_test))"
   ]
  },
  {
   "cell_type": "markdown",
   "metadata": {
    "colab_type": "text",
    "id": "Ng9V_xUX2AZt"
   },
   "source": [
    "## Question 1.2 \n",
    "Run linear regression using Lasso and determine the value of $\\alpha$ that results in best test set performance. Consider `alphas=10**np.linspace(1,-2,100)*0.5`. Display the best value of $\\alpha$ as well as the corresponsing $R^2$ score on test set. Use the following parameters in Lasso model. Finally, store the best model separately. Also, use the co-efficients obtained and select the [columns with non-zero weights](https://stackoverflow.com/questions/62323713/selecting-columns-of-dataframe-where-lasso-coefficient-is-nonzero) and use them to create `X_train_lasso` and `X_test_lasso`. Show how many non-zero columns are present.\n",
    "\n",
    "    copy_X=True\n",
    "    normalize=True # Normalizes data using StandardScaler()\n",
    "    random_state=42"
   ]
  },
  {
   "cell_type": "markdown",
   "metadata": {
    "colab_type": "text",
    "id": "x2ZOelRg-RQ3"
   },
   "source": [
    "## Answer 1.2"
   ]
  },
  {
   "cell_type": "code",
   "execution_count": 7,
   "metadata": {},
   "outputs": [
    {
     "name": "stdout",
     "output_type": "stream",
     "text": [
      "The best lambda value is 0.046630167344161\n",
      "With lambda 0.046630167344161 the R^2 is 0.7326606923177986\n"
     ]
    }
   ],
   "source": [
    "from sklearn.linear_model import Lasso\n",
    "from sklearn.preprocessing import StandardScaler\n",
    "scaler=StandardScaler()\n",
    "scaler.fit(X_train)\n",
    "X_train_scale=scaler.transform(X_train)\n",
    "scaler.fit(X_test)\n",
    "X_test_scale=scaler.transform(X_test)\n",
    "\n",
    "lasso=Lasso(normalize=True,random_state=42)\n",
    "alphas=10**np.linspace(1,-2,100)*0.5\n",
    "scoresl_2=[]\n",
    "for i in alphas:\n",
    "    lasso.set_params(alpha=i)\n",
    "    lassol_2=lasso.fit(X_train_scale,y_train)\n",
    "    l_pred=lassol_2.predict(X_test_scale)\n",
    "    l_predR2=r2_score(y_test,l_pred)\n",
    "    scoresl_2.append([l_predR2])\n",
    "\n",
    "a_index=scoresl_2.index(max(scoresl_2))\n",
    "print('The best lambda value is', alphas[a_index])\n",
    "print('With lambda', alphas[a_index],'the R^2 is',str(max(scoresl_2))[1:-1])\n"
   ]
  },
  {
   "cell_type": "code",
   "execution_count": 8,
   "metadata": {},
   "outputs": [
    {
     "data": {
      "text/plain": [
       "array([-1.90683036e+00, -0.00000000e+00,  0.00000000e+00,  0.00000000e+00,\n",
       "        0.00000000e+00, -0.00000000e+00,  0.00000000e+00, -0.00000000e+00,\n",
       "        0.00000000e+00,  4.90604986e-01,  0.00000000e+00, -1.22901134e+00,\n",
       "        0.00000000e+00,  0.00000000e+00, -0.00000000e+00, -0.00000000e+00,\n",
       "        5.12315725e+00,  0.00000000e+00,  5.12495435e-02, -8.70930595e-17])"
      ]
     },
     "execution_count": 8,
     "metadata": {},
     "output_type": "execute_result"
    }
   ],
   "source": [
    "lasso.set_params(alpha=alphas[a_index])\n",
    "best_lasso=lasso.fit(X_train_scale,y_train)\n",
    "best_lasso.coef_"
   ]
  },
  {
   "cell_type": "code",
   "execution_count": 9,
   "metadata": {},
   "outputs": [
    {
     "data": {
      "text/html": [
       "<div>\n",
       "<style scoped>\n",
       "    .dataframe tbody tr th:only-of-type {\n",
       "        vertical-align: middle;\n",
       "    }\n",
       "\n",
       "    .dataframe tbody tr th {\n",
       "        vertical-align: top;\n",
       "    }\n",
       "\n",
       "    .dataframe thead th {\n",
       "        text-align: right;\n",
       "    }\n",
       "</style>\n",
       "<table border=\"1\" class=\"dataframe\">\n",
       "  <thead>\n",
       "    <tr style=\"text-align: right;\">\n",
       "      <th></th>\n",
       "      <th>Adult Mortality</th>\n",
       "      <th>Total expenditure</th>\n",
       "      <th>HIV/AIDS</th>\n",
       "      <th>Income composition of resources</th>\n",
       "      <th>Status_Developed</th>\n",
       "      <th>Status_Developing</th>\n",
       "    </tr>\n",
       "    <tr>\n",
       "      <th>Country</th>\n",
       "      <th></th>\n",
       "      <th></th>\n",
       "      <th></th>\n",
       "      <th></th>\n",
       "      <th></th>\n",
       "      <th></th>\n",
       "    </tr>\n",
       "  </thead>\n",
       "  <tbody>\n",
       "    <tr>\n",
       "      <th>Mauritius</th>\n",
       "      <td>148.0</td>\n",
       "      <td>4.81</td>\n",
       "      <td>0.1</td>\n",
       "      <td>0.769</td>\n",
       "      <td>0</td>\n",
       "      <td>1</td>\n",
       "    </tr>\n",
       "    <tr>\n",
       "      <th>Greece</th>\n",
       "      <td>73.0</td>\n",
       "      <td>8.80</td>\n",
       "      <td>0.1</td>\n",
       "      <td>0.862</td>\n",
       "      <td>0</td>\n",
       "      <td>1</td>\n",
       "    </tr>\n",
       "    <tr>\n",
       "      <th>Afghanistan</th>\n",
       "      <td>271.0</td>\n",
       "      <td>8.18</td>\n",
       "      <td>0.1</td>\n",
       "      <td>0.476</td>\n",
       "      <td>0</td>\n",
       "      <td>1</td>\n",
       "    </tr>\n",
       "    <tr>\n",
       "      <th>Belize</th>\n",
       "      <td>177.0</td>\n",
       "      <td>5.79</td>\n",
       "      <td>0.2</td>\n",
       "      <td>0.705</td>\n",
       "      <td>0</td>\n",
       "      <td>1</td>\n",
       "    </tr>\n",
       "    <tr>\n",
       "      <th>France</th>\n",
       "      <td>79.0</td>\n",
       "      <td>11.54</td>\n",
       "      <td>0.1</td>\n",
       "      <td>0.890</td>\n",
       "      <td>0</td>\n",
       "      <td>1</td>\n",
       "    </tr>\n",
       "    <tr>\n",
       "      <th>...</th>\n",
       "      <td>...</td>\n",
       "      <td>...</td>\n",
       "      <td>...</td>\n",
       "      <td>...</td>\n",
       "      <td>...</td>\n",
       "      <td>...</td>\n",
       "    </tr>\n",
       "    <tr>\n",
       "      <th>Madagascar</th>\n",
       "      <td>225.0</td>\n",
       "      <td>3.40</td>\n",
       "      <td>0.3</td>\n",
       "      <td>0.509</td>\n",
       "      <td>0</td>\n",
       "      <td>1</td>\n",
       "    </tr>\n",
       "    <tr>\n",
       "      <th>Seychelles</th>\n",
       "      <td>17.0</td>\n",
       "      <td>3.37</td>\n",
       "      <td>0.1</td>\n",
       "      <td>0.766</td>\n",
       "      <td>0</td>\n",
       "      <td>1</td>\n",
       "    </tr>\n",
       "    <tr>\n",
       "      <th>Bhutan</th>\n",
       "      <td>216.0</td>\n",
       "      <td>3.57</td>\n",
       "      <td>0.5</td>\n",
       "      <td>0.596</td>\n",
       "      <td>0</td>\n",
       "      <td>1</td>\n",
       "    </tr>\n",
       "    <tr>\n",
       "      <th>Panama</th>\n",
       "      <td>119.0</td>\n",
       "      <td>8.30</td>\n",
       "      <td>0.1</td>\n",
       "      <td>0.780</td>\n",
       "      <td>0</td>\n",
       "      <td>1</td>\n",
       "    </tr>\n",
       "    <tr>\n",
       "      <th>Samoa</th>\n",
       "      <td>128.0</td>\n",
       "      <td>7.22</td>\n",
       "      <td>0.1</td>\n",
       "      <td>0.701</td>\n",
       "      <td>0</td>\n",
       "      <td>1</td>\n",
       "    </tr>\n",
       "  </tbody>\n",
       "</table>\n",
       "<p>104 rows × 6 columns</p>\n",
       "</div>"
      ],
      "text/plain": [
       "             Adult Mortality  Total expenditure   HIV/AIDS  \\\n",
       "Country                                                      \n",
       "Mauritius              148.0               4.81        0.1   \n",
       "Greece                  73.0               8.80        0.1   \n",
       "Afghanistan            271.0               8.18        0.1   \n",
       "Belize                 177.0               5.79        0.2   \n",
       "France                  79.0              11.54        0.1   \n",
       "...                      ...                ...        ...   \n",
       "Madagascar             225.0               3.40        0.3   \n",
       "Seychelles              17.0               3.37        0.1   \n",
       "Bhutan                 216.0               3.57        0.5   \n",
       "Panama                 119.0               8.30        0.1   \n",
       "Samoa                  128.0               7.22        0.1   \n",
       "\n",
       "             Income composition of resources  Status_Developed  \\\n",
       "Country                                                          \n",
       "Mauritius                              0.769                 0   \n",
       "Greece                                 0.862                 0   \n",
       "Afghanistan                            0.476                 0   \n",
       "Belize                                 0.705                 0   \n",
       "France                                 0.890                 0   \n",
       "...                                      ...               ...   \n",
       "Madagascar                             0.509                 0   \n",
       "Seychelles                             0.766                 0   \n",
       "Bhutan                                 0.596                 0   \n",
       "Panama                                 0.780                 0   \n",
       "Samoa                                  0.701                 0   \n",
       "\n",
       "             Status_Developing  \n",
       "Country                         \n",
       "Mauritius                    1  \n",
       "Greece                       1  \n",
       "Afghanistan                  1  \n",
       "Belize                       1  \n",
       "France                       1  \n",
       "...                        ...  \n",
       "Madagascar                   1  \n",
       "Seychelles                   1  \n",
       "Bhutan                       1  \n",
       "Panama                       1  \n",
       "Samoa                        1  \n",
       "\n",
       "[104 rows x 6 columns]"
      ]
     },
     "execution_count": 9,
     "metadata": {},
     "output_type": "execute_result"
    }
   ],
   "source": [
    "X_train_lasso=X_train.iloc[:,best_lasso.coef_!=0]\n",
    "X_test_lasso=X_test.iloc[:,best_lasso.coef_!=0]\n",
    "X_train_lasso"
   ]
  },
  {
   "cell_type": "code",
   "execution_count": 10,
   "metadata": {},
   "outputs": [
    {
     "name": "stdout",
     "output_type": "stream",
     "text": [
      "There are 6 non-zero columns\n"
     ]
    }
   ],
   "source": [
    "print('There are',len(X_train_lasso.T),'non-zero columns')"
   ]
  },
  {
   "cell_type": "markdown",
   "metadata": {
    "colab_type": "text",
    "id": "yZgK-IsT29fa"
   },
   "source": [
    "## Question 1.3 \n",
    "Run linear regression using Ridge and determine the value of $\\alpha$ that results in best test set performance. Consider `alphas=10**np.linspace(1,-2,100)*0.5`. Display the best value of $\\alpha$ as well as the corresponsing $R^2$ score on test set. Use the following parameters in Ridge model.\n",
    "\n",
    "    copy_X=True\n",
    "    normalize=True # Normalizes data using StandardScaler()\n",
    "    random_state=42"
   ]
  },
  {
   "cell_type": "markdown",
   "metadata": {
    "colab_type": "text",
    "id": "syhZfjiI-PB3"
   },
   "source": [
    "## Answer 1.3"
   ]
  },
  {
   "cell_type": "code",
   "execution_count": 11,
   "metadata": {},
   "outputs": [
    {
     "name": "stdout",
     "output_type": "stream",
     "text": [
      "The best lambda value is 0.8148754173103222\n",
      "With lambda 0.8148754173103222 the R^2 is 0.7066600746181261\n"
     ]
    }
   ],
   "source": [
    "from sklearn.linear_model import Ridge\n",
    "from sklearn.preprocessing import StandardScaler\n",
    "scaler=StandardScaler()\n",
    "scaler.fit(X_train)\n",
    "X_train_scale=scaler.transform(X_train)\n",
    "scaler.fit(X_test)\n",
    "X_test_scale=scaler.transform(X_test)\n",
    "\n",
    "ridge=Ridge(normalize=True,random_state=42)\n",
    "alphas=10**np.linspace(1,-2,100)*0.5\n",
    "scoresr_2=[]\n",
    "for i in alphas:\n",
    "    ridge.set_params(alpha=i)\n",
    "    ridge_2=ridge.fit(X_train_scale,y_train)\n",
    "    r_pred=ridge_2.predict(X_test_scale)\n",
    "    r_predR2=r2_score(y_test,r_pred)\n",
    "    scoresr_2.append([r_predR2])\n",
    "\n",
    "i_index=scoresr_2.index(max(scoresr_2))\n",
    "print('The best lambda value is', alphas[i_index])\n",
    "print('With lambda', alphas[i_index],'the R^2 is',str(max(scoresr_2))[1:-1])"
   ]
  },
  {
   "cell_type": "code",
   "execution_count": 12,
   "metadata": {},
   "outputs": [
    {
     "data": {
      "text/plain": [
       "array([-1.45032046e-02, -1.02623660e-03,  1.46311726e-01,  9.00609956e-05,\n",
       "        5.41305570e-03,  7.01240176e-06,  3.31018912e-02, -1.50350812e-03,\n",
       "        1.22686233e-02,  1.36831116e-01,  1.17243850e-02, -7.69822023e-01,\n",
       "        2.19013383e-05,  2.17062848e-09, -5.11918538e-02, -5.99576441e-02,\n",
       "        1.10296950e+01,  4.23198838e-01,  1.05967055e+00, -1.05967055e+00])"
      ]
     },
     "execution_count": 12,
     "metadata": {},
     "output_type": "execute_result"
    }
   ],
   "source": [
    "ridge.set_params(alpha=alphas[i_index])\n",
    "best_ridge=ridge.fit(X_train,y_train)\n",
    "best_ridge.coef_"
   ]
  },
  {
   "cell_type": "markdown",
   "metadata": {
    "colab_type": "text",
    "id": "Y-6cOe7V7DCz"
   },
   "source": [
    "## Question 1.4  \n",
    "Run [ElasticNet](https://scikit-learn.org/stable/modules/generated/sklearn.linear_model.ElasticNet.html) [(Video Reference)](https://youtu.be/1dKRdX9bfIo) on the `X_train_lasso` dataset by using all possible values from the below mentioned parameter set:\n",
    "\n",
    "    l1_ratios = np.arange(0, 1.01, 0.01)  # 101 elements\n",
    "    alphas = 10**np.linspace(1, -2, 100)*0.5 # 100 elements\n",
    "    normalize = True\n",
    "    random_state = 42\n",
    "\n",
    "\n",
    "Store the $R^2$ score obtained from `X_test_lasso` set for each combination in an array with 101 rows and 100 columns. e.g.\n",
    "\n",
    "    arr[i][j] = curr_r2_score # obtained using l1_ratios[i] and alphas[j]\n",
    "\n",
    "where `i` is the `ith` element from `l1_ratio` and `j` is the `jth` element from `alphas`. Print the best $R^2$ score obtained using test set and its corresponding `alpha` and `l1 ratio`."
   ]
  },
  {
   "cell_type": "code",
   "execution_count": 13,
   "metadata": {
    "colab": {},
    "colab_type": "code",
    "id": "ZZiKAbk4jGXu"
   },
   "outputs": [],
   "source": [
    " arr = np.zeros((101, 100)) # Create 101x100 array"
   ]
  },
  {
   "cell_type": "markdown",
   "metadata": {
    "colab_type": "text",
    "id": "GFwZrCRViynq"
   },
   "source": [
    "Note that by varying the `l1_ratio`, you are controlling the ratio of Lasso and Ridge regularization that is present in the model. When `l1_ratio = 1`, it means that the model uses Lasso regularization only whereas when `l1_ratio = 0`, it means that the model uses Ridge regularization only. You can find the formula for the loss function [here](https://scikit-learn.org/stable/modules/generated/sklearn.linear_model.ElasticNet.html)."
   ]
  },
  {
   "cell_type": "markdown",
   "metadata": {
    "colab_type": "text",
    "id": "r5ksUkeL-MbL"
   },
   "source": [
    "## Answer 1.4"
   ]
  },
  {
   "cell_type": "code",
   "execution_count": 14,
   "metadata": {},
   "outputs": [
    {
     "name": "stdout",
     "output_type": "stream",
     "text": [
      "{'alpha': 0.026683496156031536, 'l1_ratio': 1.0}\n",
      "R^2: 0.8545819342002436\n"
     ]
    }
   ],
   "source": [
    "from sklearn.linear_model import ElasticNet\n",
    "from sklearn.model_selection import GridSearchCV\n",
    "l1_ratio = list(np.arange(0, 1.01, 0.01))\n",
    "alpha = list(10**np.linspace(1, -2, 100)*0.5)\n",
    "enet = ElasticNet(random_state=42, normalize=True)\n",
    "tuned_parameters = [{'l1_ratio': l1_ratio,'alpha': alpha}]\n",
    "n_folds = 5\n",
    "clf = GridSearchCV(enet, tuned_parameters, scoring='r2', cv=n_folds, refit=False)\n",
    "clf.fit(X_train_lasso, y_train)\n",
    "print(clf.best_params_)\n",
    "print('R^2:', clf.best_score_)"
   ]
  },
  {
   "cell_type": "code",
   "execution_count": 15,
   "metadata": {},
   "outputs": [
    {
     "data": {
      "text/plain": [
       "array([[0.08556818, 0.09119059, 0.09714267, ..., 0.87481719, 0.8762796 ,\n",
       "        0.87772829],\n",
       "       [0.08176365, 0.08747191, 0.09351413, ..., 0.87499728, 0.87645892,\n",
       "        0.87790717],\n",
       "       [0.07787422, 0.08367071, 0.08980555, ..., 0.87517867, 0.87663957,\n",
       "        0.87808746],\n",
       "       ...,\n",
       "       [0.        , 0.        , 0.        , ..., 0.92450329, 0.92569572,\n",
       "        0.92687132],\n",
       "       [0.        , 0.        , 0.        , ..., 0.92681684, 0.92783123,\n",
       "        0.92886284],\n",
       "       [0.        , 0.        , 0.        , ..., 0.92900425, 0.92984186,\n",
       "        0.9306965 ]])"
      ]
     },
     "execution_count": 15,
     "metadata": {},
     "output_type": "execute_result"
    }
   ],
   "source": [
    "for i in l1_ratio:\n",
    "    for j in alpha:\n",
    "        enet = ElasticNet(normalize = True, alpha = j, l1_ratio = i, random_state = 42)\n",
    "        enet.fit(X_test_scale, y_test)\n",
    "        arr[l1_ratio.index(i)][alpha.index(j)] = r2_score(y_test.values, enet.predict(X_test_scale))\n",
    "arr"
   ]
  },
  {
   "cell_type": "markdown",
   "metadata": {
    "colab_type": "text",
    "id": "D6eM7mR189cP"
   },
   "source": [
    "## Question 1.5 \n",
    "Call `plot_heatmap()` using the 101x100 array from the previous question. What does this heatmap represent? Interpret the heatmap."
   ]
  },
  {
   "cell_type": "code",
   "execution_count": 16,
   "metadata": {
    "colab": {},
    "colab_type": "code",
    "id": "2SVYnItgCCAR"
   },
   "outputs": [],
   "source": [
    "def rescale(val, in_min, in_max, out_min, out_max):\n",
    "    return out_min + (val - in_min) * ((out_max - out_min) / (in_max - in_min))\n",
    "\n",
    "def format_y(value, tick_number):\n",
    "    return f'{value/100.:0.2f}'\n",
    "\n",
    "def format_x(value, tick_number):\n",
    "    return f'{rescale(value, 0., 100., 0.05, 5.):0.2f}'\n",
    "\n",
    "def plot_heatmap(arr):\n",
    "    ax = sns.heatmap(arr)\n",
    "    ax.set_ylabel(\"L1 Ratio\")\n",
    "    ax.set_xlabel(\"alpha\")\n",
    "    ax.invert_yaxis()\n",
    "    ax.xaxis.set_major_formatter(plt.FuncFormatter(format_x))\n",
    "    ax.yaxis.set_major_formatter(plt.FuncFormatter(format_y))"
   ]
  },
  {
   "cell_type": "markdown",
   "metadata": {
    "colab_type": "text",
    "id": "q5QVYStf9zuA"
   },
   "source": [
    "## Answer 1.5"
   ]
  },
  {
   "cell_type": "code",
   "execution_count": 17,
   "metadata": {},
   "outputs": [
    {
     "data": {
      "image/png": "[encoded data removed]",
      "text/plain": [
       "<Figure size 432x288 with 2 Axes>"
      ]
     },
     "metadata": {
      "needs_background": "light"
     },
     "output_type": "display_data"
    }
   ],
   "source": [
    "plot_heatmap(np.fliplr(arr))"
   ]
  },
  {
   "cell_type": "markdown",
   "metadata": {},
   "source": [
    "The heatmap shows the $R^2$ of the ElasticNet model at varying levels of L1 Ratio and alpha values. The L1 Ratio represents the proportion of Lasso penalty to Ridge penalty. The largest the ratio, the more Lasso penalty is being applied and vice-versa. Alpha represents the value of the penalty coefficient that compresses the weights towards 0. The heatmap shows that there is a slight benefit to Lasso over Ridge, but more importantly the Alpha value has a much larger impact on model accuracy than the proportion of Lasso to Ridge. In addition, the ideal alpha value is very low, almost 0 which means the model is very similar to standard OLS linear regression. Regularization is not having a large impact in this model with the ElasticNet model yielding only a 2% improvement in Test $R^2$ over OLS."
   ]
  },
  {
   "cell_type": "markdown",
   "metadata": {
    "colab_type": "text",
    "id": "fXL1_aVfCktf"
   },
   "source": [
    "# Question 2 \n",
    "Suppose you learn a ridge regression based on some of the independent variables available to you, and including a few interaction terms as well. Your result is disappointing, and you believe that the model is suffering from either too much bias or too much variance. Describe briefly how you will test which alternative is more likely to be true. (there is no extra data that you can use, so “get more data” is not an option)."
   ]
  },
  {
   "cell_type": "markdown",
   "metadata": {},
   "source": [
    "## Answer 2\n",
    "Split data into train and test, check whether increasing the lambda/alpha value for the regularization improves the resulting regression's RMSE or MAE on the test set. If the RMSE improves (decreases) than the regression benefitted from additional regularization and the reduction of complexity. Increased regularization means larger bias but less variance so if the original ridge regression performed worse it was because of too much variance. If the new regression performs worse than there is too much bias and the regularization term should be decreased. \n"
   ]
  },
  {
   "cell_type": "markdown",
   "metadata": {},
   "source": [
    "# Question 3 Bias-Variance \n",
    "\n",
    "We want to build a model that can predict y for unknown inputs x.\n",
    "\n",
    "(a) Fit a linear model to the training data, and report mean squared error on the test data. Plot the train and test points on the same plot, clearly denoting the training and testing points. On the same figure, plot the predictions of the linear model using x_all. All the plots must be in the same figure and be clearly labeled.\n",
    "\n",
    "\n",
    "(b) Fit polynomial models of degrees 2, 3, 4 and 12 to the training data, Report mean squared error (on both train and test sets) for all the models. Plot the data (train and test points) as before.  On the same figure, plot the predictions of the polynomial models using x_all. All the plots must be in the same figure and be clearly labeled.\n",
    "\n",
    "\n",
    "(c) Which model performed the best? Explain.\n"
   ]
  },
  {
   "cell_type": "markdown",
   "metadata": {},
   "source": [
    "* Use the below code to load the data from the file 'ps01.data'. It is organized as a dictionary, of train and test data."
   ]
  },
  {
   "cell_type": "code",
   "execution_count": 18,
   "metadata": {},
   "outputs": [],
   "source": [
    "from sklearn import linear_model as lm\n",
    "from sklearn.metrics import mean_squared_error,mean_absolute_error\n",
    "import matplotlib.pyplot as plt\n",
    "import numpy as np\n",
    "%matplotlib inline\n",
    "import seaborn as sns\n",
    "sns.set_style('darkgrid')\n",
    "\n",
    "x_all = np.linspace(-2,5,101).reshape(-1,1)\n",
    "all_files = np.load(\"q3_data.npz\")\n",
    "x_train, y_train, x_test, y_test = all_files['arr_0'], all_files['arr_1'], all_files['arr_2'], all_files['arr_3']"
   ]
  },
  {
   "cell_type": "markdown",
   "metadata": {},
   "source": [
    "### Answer"
   ]
  },
  {
   "cell_type": "markdown",
   "metadata": {},
   "source": [
    "#### (a)"
   ]
  },
  {
   "cell_type": "code",
   "execution_count": 19,
   "metadata": {},
   "outputs": [
    {
     "name": "stdout",
     "output_type": "stream",
     "text": [
      "MSE: 4.739110717634691\n"
     ]
    },
    {
     "data": {
      "text/plain": [
       "<matplotlib.legend.Legend at 0x1c2d7ded148>"
      ]
     },
     "execution_count": 19,
     "metadata": {},
     "output_type": "execute_result"
    },
    {
     "data": {
      "image/png": "[encoded data removed]",
      "text/plain": [
       "<Figure size 1152x720 with 1 Axes>"
      ]
     },
     "metadata": {},
     "output_type": "display_data"
    }
   ],
   "source": [
    "model = lm.LinearRegression()\n",
    "model.fit(x_train, y_train)\n",
    "lin_preds = model.predict(x_test)\n",
    "print('MSE:',str(mean_squared_error(y_test,lin_preds)))\n",
    "\n",
    "all_preds = model.predict(x_all)\n",
    "\n",
    "plt.figure(figsize=(16,10))\n",
    "plt.scatter(x_train, y_train, c='b')\n",
    "plt.scatter(x_test, y_test, c='r')\n",
    "plt.scatter(x_all, all_preds, c='g')\n",
    "plt.legend(['train','test','predictions'])"
   ]
  },
  {
   "cell_type": "markdown",
   "metadata": {},
   "source": [
    "### (b)"
   ]
  },
  {
   "cell_type": "code",
   "execution_count": 20,
   "metadata": {},
   "outputs": [
    {
     "name": "stdout",
     "output_type": "stream",
     "text": [
      "Polynomial 2 train MSE: 3.241421853814466\n",
      "Polynomial 2 test MSE: 3.118688012803552\n",
      "Polynomial 3 train MSE: 1.4201223351315244\n",
      "Polynomial 3 test MSE: 1.6698703639509378\n",
      "Polynomial 4 train MSE: 0.3745950147780304\n",
      "Polynomial 4 test MSE: 0.2793974390234908\n",
      "Polynomial 12 train MSE: 0.32974847922651873\n",
      "Polynomial 12 test MSE: 0.40228762196683066\n"
     ]
    }
   ],
   "source": [
    "from sklearn.preprocessing import PolynomialFeatures\n",
    "\n",
    "poly_2 = PolynomialFeatures(degree=2)\n",
    "poly_3 = PolynomialFeatures(degree=3)\n",
    "poly_4 = PolynomialFeatures(degree=4)\n",
    "poly_12 = PolynomialFeatures(degree=12)\n",
    "\n",
    "x_2 = poly_2.fit_transform(x_train)\n",
    "x_2_test = poly_2.fit_transform(x_test)\n",
    "x_3 = poly_3.fit_transform(x_train)\n",
    "x_3_test = poly_3.fit_transform(x_test)\n",
    "x_4 = poly_4.fit_transform(x_train)\n",
    "x_4_test = poly_4.fit_transform(x_test)\n",
    "x_12 = poly_12.fit_transform(x_train)\n",
    "x_12_test = poly_12.fit_transform(x_test)\n",
    "\n",
    "model_2 = lm.LinearRegression()\n",
    "model_3 = lm.LinearRegression()\n",
    "model_4 = lm.LinearRegression()\n",
    "model_12 = lm.LinearRegression()\n",
    "\n",
    "model_2.fit(x_2, y_train)\n",
    "model_3.fit(x_3, y_train)\n",
    "model_4.fit(x_4, y_train)\n",
    "model_12.fit(x_12, y_train)\n",
    "\n",
    "preds_2_train = model_2.predict(x_2)\n",
    "preds_2 = model_2.predict(x_2_test)\n",
    "preds_3_train = model_3.predict(x_3)\n",
    "preds_3 = model_3.predict(x_3_test)\n",
    "preds_4_train = model_4.predict(x_4)\n",
    "preds_4 = model_4.predict(x_4_test)\n",
    "preds_12_train = model_12.predict(x_12)\n",
    "preds_12 = model_12.predict(x_12_test)\n",
    "\n",
    "print('Polynomial 2 train MSE:',str(mean_squared_error(y_train, preds_2_train)))\n",
    "print('Polynomial 2 test MSE:',str(mean_squared_error(y_test, preds_2)))\n",
    "print('Polynomial 3 train MSE:',str(mean_squared_error(y_train, preds_3_train)))\n",
    "print('Polynomial 3 test MSE:',str(mean_squared_error(y_test, preds_3)))\n",
    "print('Polynomial 4 train MSE:',str(mean_squared_error(y_train, preds_4_train)))\n",
    "print('Polynomial 4 test MSE:',str(mean_squared_error(y_test, preds_4)))\n",
    "print('Polynomial 12 train MSE:',str(mean_squared_error(y_train, preds_12_train)))\n",
    "print('Polynomial 12 test MSE:',str(mean_squared_error(y_test, preds_12)))"
   ]
  },
  {
   "cell_type": "code",
   "execution_count": 21,
   "metadata": {},
   "outputs": [
    {
     "data": {
      "text/plain": [
       "<matplotlib.legend.Legend at 0x1c2d614c5c8>"
      ]
     },
     "execution_count": 21,
     "metadata": {},
     "output_type": "execute_result"
    },
    {
     "data": {
      "image/png": "[encoded data removed]",
      "text/plain": [
       "<Figure size 1152x720 with 1 Axes>"
      ]
     },
     "metadata": {},
     "output_type": "display_data"
    }
   ],
   "source": [
    "x_all_2 = poly_2.fit_transform(x_all)\n",
    "x_all_3 = poly_3.fit_transform(x_all)\n",
    "x_all_4 = poly_4.fit_transform(x_all)\n",
    "x_all_12 = poly_12.fit_transform(x_all)\n",
    "\n",
    "all_preds_2 = model_2.predict(x_all_2)\n",
    "all_preds_3 = model_3.predict(x_all_3)\n",
    "all_preds_4 = model_4.predict(x_all_4)\n",
    "all_preds_12 = model_12.predict(x_all_12)\n",
    "\n",
    "plt.figure(figsize=(16,10))\n",
    "plt.scatter(x_train, y_train, c='b')\n",
    "plt.scatter(x_test, y_test, c='r')\n",
    "plt.scatter(x_all, all_preds_2, c='g')\n",
    "plt.scatter(x_all, all_preds_3, c='c')\n",
    "plt.scatter(x_all, all_preds_4, c='y')\n",
    "plt.scatter(x_all, all_preds_12, c='k')\n",
    "plt.legend(['train',\n",
    "            'test',\n",
    "            'polynomial 2',\n",
    "            'polynomial 3',\n",
    "            'polynomial 4',\n",
    "            'polynomial 12'])"
   ]
  },
  {
   "cell_type": "markdown",
   "metadata": {},
   "source": [
    "### (c)"
   ]
  },
  {
   "cell_type": "markdown",
   "metadata": {},
   "source": [
    "The polynomial model of degree 4 performed the best because it had the lowest test MSE score at 0.279. While the polynomial model of degree 12 perfermed better on the training set, this is indicative of overfitting and the polynomial model of degree 4 generalizing better to new data."
   ]
  }
 ],
 "metadata": {
  "kernelspec": {
   "display_name": "Python 3",
   "language": "python",
   "name": "python3"
  },
  "language_info": {
   "codemirror_mode": {
    "name": "ipython",
    "version": 3
   },
   "file_extension": ".py",
   "mimetype": "text/x-python",
   "name": "python",
   "nbconvert_exporter": "python",
   "pygments_lexer": "ipython3",
   "version": "3.7.6"
  }
 },
 "nbformat": 4,
 "nbformat_minor": 1
}
