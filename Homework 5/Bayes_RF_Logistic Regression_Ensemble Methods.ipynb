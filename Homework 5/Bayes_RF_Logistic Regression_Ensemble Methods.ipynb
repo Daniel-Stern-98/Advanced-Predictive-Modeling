{
 "cells": [
  {
   "cell_type": "markdown",
   "metadata": {},
   "source": [
    "# Question 1 : Bayesian Belief Networks"
   ]
  },
  {
   "cell_type": "markdown",
   "metadata": {},
   "source": [
    "![Question 1](https://i.imgur.com/3ayVbFi.jpeg) \n",
    "\n",
    "All nodes are binary and can take 0/1 values\n",
    "\n",
    "The probabilities are given below:\n",
    "\n",
    "P(Bark = 1) = 0.05   \n",
    "P(Rain = 1) = 0.01\n",
    "\n",
    "\n",
    "P(Scared = 1 | Bark = 0, Rain = 0) = 0.001  \n",
    "P(Scared = 1 | Bark = 0, Rain = 1) = 0.1  \n",
    "P(Scared = 1 | Bark = 1, Rain = 0) = 0.8  \n",
    "P(Scared = 1 | Bark = 1, Rain = 1) = 0.9  \n",
    "\n",
    "P(Hides = 1 | Scared = 1) = 0.95  \n",
    "P(Hides = 1 | Scared = 0) = 0.05  \n",
    "\n",
    "For the given Bayesian network, Compute the following probabilities :  \n",
    "\n",
    "\n",
    "**(a)** Find the probability that cat hides = 1.  \n",
    "**(b)** Given that cat got scared (Scared = 1), what is the probability that it rained (Rain = 1)?  \n",
    "**(c)** Given that cat got scared (Scared = 1) and the dog barked (Bark = 1), what is the probability that it rained (Rain = 1)?"
   ]
  },
  {
   "cell_type": "markdown",
   "metadata": {},
   "source": [
    "P(Rain = 0) = 0.99, P(Bark = 0) = 0.95, P(Bark = 0 & Rain = 0) = 0.95 * 0.99 = 0.9405\n",
    "\n",
    "P(Bark = 1 & Rain = 0) = 0.0495\n",
    "\n",
    "P(Bark = 0 & Rain = 1) = 0.0095\n",
    "\n",
    "P(Bark = 1 & Rain = 1) = 0.0005\n",
    "\n",
    "P(Scared = 1 & Bark = 0 & Rain = 0) = 0.9405 * 0.001 = 0.0009405\n",
    "\n",
    "P(Scared = 1 & Bark = 1 & Rain = 0) = 0.0396\n",
    "\n",
    "P(Scared = 1 & Bark = 0 & Rain = 1) = 0.00095\n",
    "\n",
    "P(Scared = 1 & Bark = 1 & Rain = 1) = 0.00045\n",
    "\n",
    "P(Scared = 1) = 0.0009405 + 0.0396 + 0.00095 + 0.00045 = 0.0419405 \n",
    "\n",
    "P(Scared = 0) = 1 - 0.0419405 = 0.9580595\n",
    "\n",
    "P(Hides = 1 & Scared = 1) = 0.95 * 0.0419405 = 0.95 * 0.0419405 = 0.039843475\n",
    "\n",
    "P(Hides = 1 & Scared = 0) = 0.047902975\n",
    "##### P(Hides = 1) = 0.039843475 + 0.047902975 = 0.08774645#"
   ]
  },
  {
   "cell_type": "markdown",
   "metadata": {},
   "source": [
    "P(Rain = 1 | Scared = 1) = P(Scared = 1 & Bark = 0 & Rain = 1) + P(Scared = 1 & Bark = 1 & Rain = 1) / P(Scared = 1)\n",
    "\n",
    "P(Scared = 1 & Bark = 0 & Rain = 1) = 0.00095\n",
    "\n",
    "P(Scared = 1 & Bark = 1 & Rain = 1) = 0.00045\n",
    "\n",
    "P(Scared = 1) = 0.0419405 \n",
    "\n",
    "##### P(Rain = 1 | Scared = 1) = (0.00095 + 0.00045) / 0.0419405 = .03338062#"
   ]
  },
  {
   "cell_type": "markdown",
   "metadata": {},
   "source": [
    "P(Rain = 1 | Scared = 1 & Bark = 1) = P(Scared = 1 & Bark = 1 & Rain = 1) / (P(Scared = 1 & Bark = 1 & Rain = 0) + P(Scared = 1 & Bark = 1 & Rain = 1))\n",
    "\n",
    "P(Scared = 1 & Bark = 1 & Rain = 1) = 0.00045\n",
    "\n",
    "P(Scared = 1 & Bark = 1 & Rain = 0) = 0.0396\n",
    "\n",
    "##### P(Rain = 1 | Scared = 1 & Bark = 1) = 0.00045 / (0.00045 + 0.0396) = .01123596#"
   ]
  },
  {
   "cell_type": "markdown",
   "metadata": {},
   "source": [
    "# Question 2 - **Random Forest**  \n",
    "\n",
    "The goal of this problem is to explore the effect of feature selection using  the following dataset (same as in HW 4) https://www.kaggle.com/wendykan/lending-club-loan-data\n",
    "\n",
    "Since the dataset is really huge, we will use only a certain set of features and samples to build our model. We will also use only two classes instead of all.\n",
    "\n",
    "The modified dataset with reduced number of samples has been prepared for your use. The file can be downloaded using the code below. You can also find it [here](https://drive.google.com/file/d/1Gv_N1rHLqDizxUck6l06BfniR30Pw0Zs/view?usp=sharing) in case you have a different environment and this code does not run.\n",
    "\n"
   ]
  },
  {
   "cell_type": "code",
   "execution_count": null,
   "metadata": {},
   "outputs": [],
   "source": [
    "%%bash\n",
    "ggID='1Gv_N1rHLqDizxUck6l06BfniR30Pw0Zs'  \n",
    "ggURL='https://drive.google.com/uc?export=download'  \n",
    "filename=\"$(curl -sc /tmp/gcokie \"${ggURL}&id=${ggID}\" | grep -o '=\"uc-name.*</span>' | sed 's/.*\">//;s/<.a> .*//')\"  \n",
    "getcode=\"$(awk '/_warning_/ {print $NF}' /tmp/gcokie)\"  \n",
    "\n",
    "if [ -e \"${filename}\" ]; then\n",
    "    echo 'File already exists'\n",
    "else\n",
    "    curl -Lb /tmp/gcokie \"${ggURL}&confirm=${getcode}&id=${ggID}\" -o \"${filename}\"  \n",
    "fi"
   ]
  },
  {
   "cell_type": "code",
   "execution_count": 2,
   "metadata": {},
   "outputs": [
    {
     "name": "stderr",
     "output_type": "stream",
     "text": [
      "C:\\ProgramData\\Anaconda3\\lib\\site-packages\\IPython\\core\\interactiveshell.py:3063: DtypeWarning: Columns (123,124,125,128,129,130,133,139,140,141) have mixed types.Specify dtype option on import or set low_memory=False.\n",
      "  interactivity=interactivity, compiler=compiler, result=result)\n"
     ]
    },
    {
     "data": {
      "text/html": [
       "<div>\n",
       "<style scoped>\n",
       "    .dataframe tbody tr th:only-of-type {\n",
       "        vertical-align: middle;\n",
       "    }\n",
       "\n",
       "    .dataframe tbody tr th {\n",
       "        vertical-align: top;\n",
       "    }\n",
       "\n",
       "    .dataframe thead th {\n",
       "        text-align: right;\n",
       "    }\n",
       "</style>\n",
       "<table border=\"1\" class=\"dataframe\">\n",
       "  <thead>\n",
       "    <tr style=\"text-align: right;\">\n",
       "      <th></th>\n",
       "      <th>loan_amnt</th>\n",
       "      <th>funded_amnt</th>\n",
       "      <th>funded_amnt_inv</th>\n",
       "      <th>int_rate</th>\n",
       "      <th>installment</th>\n",
       "      <th>annual_inc</th>\n",
       "      <th>loan_status</th>\n",
       "      <th>dti</th>\n",
       "      <th>open_acc</th>\n",
       "      <th>pub_rec</th>\n",
       "      <th>...</th>\n",
       "      <th>last_pymnt_d_Feb-2019</th>\n",
       "      <th>last_pymnt_d_Jan-2019</th>\n",
       "      <th>last_pymnt_d_Jul-2018</th>\n",
       "      <th>last_pymnt_d_Nov-2018</th>\n",
       "      <th>last_pymnt_d_Oct-2018</th>\n",
       "      <th>last_pymnt_d_Sep-2018</th>\n",
       "      <th>application_type_Individual</th>\n",
       "      <th>application_type_Joint App</th>\n",
       "      <th>debt_settlement_flag_N</th>\n",
       "      <th>debt_settlement_flag_Y</th>\n",
       "    </tr>\n",
       "  </thead>\n",
       "  <tbody>\n",
       "    <tr>\n",
       "      <th>0</th>\n",
       "      <td>2500</td>\n",
       "      <td>2500</td>\n",
       "      <td>2500.0</td>\n",
       "      <td>13.56</td>\n",
       "      <td>84.92</td>\n",
       "      <td>55000.0</td>\n",
       "      <td>1</td>\n",
       "      <td>18.24</td>\n",
       "      <td>9.0</td>\n",
       "      <td>1.0</td>\n",
       "      <td>...</td>\n",
       "      <td>1</td>\n",
       "      <td>0</td>\n",
       "      <td>0</td>\n",
       "      <td>0</td>\n",
       "      <td>0</td>\n",
       "      <td>0</td>\n",
       "      <td>1</td>\n",
       "      <td>0</td>\n",
       "      <td>1</td>\n",
       "      <td>0</td>\n",
       "    </tr>\n",
       "    <tr>\n",
       "      <th>1</th>\n",
       "      <td>30000</td>\n",
       "      <td>30000</td>\n",
       "      <td>30000.0</td>\n",
       "      <td>18.94</td>\n",
       "      <td>777.23</td>\n",
       "      <td>90000.0</td>\n",
       "      <td>1</td>\n",
       "      <td>26.52</td>\n",
       "      <td>13.0</td>\n",
       "      <td>1.0</td>\n",
       "      <td>...</td>\n",
       "      <td>1</td>\n",
       "      <td>0</td>\n",
       "      <td>0</td>\n",
       "      <td>0</td>\n",
       "      <td>0</td>\n",
       "      <td>0</td>\n",
       "      <td>1</td>\n",
       "      <td>0</td>\n",
       "      <td>1</td>\n",
       "      <td>0</td>\n",
       "    </tr>\n",
       "    <tr>\n",
       "      <th>2</th>\n",
       "      <td>5000</td>\n",
       "      <td>5000</td>\n",
       "      <td>5000.0</td>\n",
       "      <td>17.97</td>\n",
       "      <td>180.69</td>\n",
       "      <td>59280.0</td>\n",
       "      <td>1</td>\n",
       "      <td>10.51</td>\n",
       "      <td>8.0</td>\n",
       "      <td>0.0</td>\n",
       "      <td>...</td>\n",
       "      <td>1</td>\n",
       "      <td>0</td>\n",
       "      <td>0</td>\n",
       "      <td>0</td>\n",
       "      <td>0</td>\n",
       "      <td>0</td>\n",
       "      <td>1</td>\n",
       "      <td>0</td>\n",
       "      <td>1</td>\n",
       "      <td>0</td>\n",
       "    </tr>\n",
       "    <tr>\n",
       "      <th>3</th>\n",
       "      <td>4000</td>\n",
       "      <td>4000</td>\n",
       "      <td>4000.0</td>\n",
       "      <td>18.94</td>\n",
       "      <td>146.51</td>\n",
       "      <td>92000.0</td>\n",
       "      <td>1</td>\n",
       "      <td>16.74</td>\n",
       "      <td>10.0</td>\n",
       "      <td>0.0</td>\n",
       "      <td>...</td>\n",
       "      <td>1</td>\n",
       "      <td>0</td>\n",
       "      <td>0</td>\n",
       "      <td>0</td>\n",
       "      <td>0</td>\n",
       "      <td>0</td>\n",
       "      <td>1</td>\n",
       "      <td>0</td>\n",
       "      <td>1</td>\n",
       "      <td>0</td>\n",
       "    </tr>\n",
       "    <tr>\n",
       "      <th>4</th>\n",
       "      <td>30000</td>\n",
       "      <td>30000</td>\n",
       "      <td>30000.0</td>\n",
       "      <td>16.14</td>\n",
       "      <td>731.78</td>\n",
       "      <td>57250.0</td>\n",
       "      <td>1</td>\n",
       "      <td>26.35</td>\n",
       "      <td>12.0</td>\n",
       "      <td>0.0</td>\n",
       "      <td>...</td>\n",
       "      <td>1</td>\n",
       "      <td>0</td>\n",
       "      <td>0</td>\n",
       "      <td>0</td>\n",
       "      <td>0</td>\n",
       "      <td>0</td>\n",
       "      <td>1</td>\n",
       "      <td>0</td>\n",
       "      <td>1</td>\n",
       "      <td>0</td>\n",
       "    </tr>\n",
       "  </tbody>\n",
       "</table>\n",
       "<p>5 rows × 161 columns</p>\n",
       "</div>"
      ],
      "text/plain": [
       "   loan_amnt  funded_amnt  funded_amnt_inv  int_rate  installment  annual_inc  \\\n",
       "0       2500         2500           2500.0     13.56        84.92     55000.0   \n",
       "1      30000        30000          30000.0     18.94       777.23     90000.0   \n",
       "2       5000         5000           5000.0     17.97       180.69     59280.0   \n",
       "3       4000         4000           4000.0     18.94       146.51     92000.0   \n",
       "4      30000        30000          30000.0     16.14       731.78     57250.0   \n",
       "\n",
       "   loan_status    dti  open_acc  pub_rec  ...  last_pymnt_d_Feb-2019  \\\n",
       "0            1  18.24       9.0      1.0  ...                      1   \n",
       "1            1  26.52      13.0      1.0  ...                      1   \n",
       "2            1  10.51       8.0      0.0  ...                      1   \n",
       "3            1  16.74      10.0      0.0  ...                      1   \n",
       "4            1  26.35      12.0      0.0  ...                      1   \n",
       "\n",
       "   last_pymnt_d_Jan-2019  last_pymnt_d_Jul-2018  last_pymnt_d_Nov-2018  \\\n",
       "0                      0                      0                      0   \n",
       "1                      0                      0                      0   \n",
       "2                      0                      0                      0   \n",
       "3                      0                      0                      0   \n",
       "4                      0                      0                      0   \n",
       "\n",
       "   last_pymnt_d_Oct-2018  last_pymnt_d_Sep-2018  application_type_Individual  \\\n",
       "0                      0                      0                            1   \n",
       "1                      0                      0                            1   \n",
       "2                      0                      0                            1   \n",
       "3                      0                      0                            1   \n",
       "4                      0                      0                            1   \n",
       "\n",
       "   application_type_Joint App  debt_settlement_flag_N  debt_settlement_flag_Y  \n",
       "0                           0                       1                       0  \n",
       "1                           0                       1                       0  \n",
       "2                           0                       1                       0  \n",
       "3                           0                       1                       0  \n",
       "4                           0                       1                       0  \n",
       "\n",
       "[5 rows x 161 columns]"
      ]
     },
     "execution_count": 2,
     "metadata": {},
     "output_type": "execute_result"
    }
   ],
   "source": [
    "import os, sys, re\n",
    "import time\n",
    "import numpy as np\n",
    "import pandas as pd\n",
    "from sklearn.model_selection import train_test_split\n",
    "\n",
    "dataset = pd.read_csv('loan.csv')\n",
    "df = dataset.fillna(0)\n",
    "\n",
    "def LoanResult(status):\n",
    "    if (status == 'Fully Paid') or (status == 'Current'):\n",
    "        return 1\n",
    "    else:\n",
    "        return 0\n",
    "\n",
    "df['loan_status'] = df['loan_status'].apply(LoanResult)\n",
    "\n",
    "df = df[['loan_amnt', 'funded_amnt', 'funded_amnt_inv', 'term', 'int_rate', 'installment', 'grade', 'sub_grade',\n",
    "             'emp_length', 'home_ownership','annual_inc', 'verification_status', 'loan_status',\n",
    "             'purpose','addr_state', 'dti','open_acc', 'pub_rec', 'revol_bal', 'revol_util', \n",
    "             'initial_list_status', 'recoveries','collection_recovery_fee', 'last_pymnt_d', 'last_pymnt_amnt',\n",
    "             'application_type', 'tot_coll_amt', 'tot_cur_bal', 'avg_cur_bal', 'chargeoff_within_12_mths',\n",
    "             'pub_rec_bankruptcies', 'tax_liens', 'debt_settlement_flag']]\n",
    "df_cat = df.select_dtypes(exclude=['int64', 'float64'])\n",
    "df = pd.get_dummies(df, df_cat.columns.values)\n",
    "df.head()\n"
   ]
  },
  {
   "cell_type": "markdown",
   "metadata": {},
   "source": [
    "Select the `loan_status` column as the target column.  \n",
    "\n",
    "\n",
    "**Part 1:** Split the dataset into train and test set with 25% data in test set and random_state = 42. Perform [Min-Max Scaling](https://scikit-learn.org/stable/modules/generated/sklearn.preprocessing.MinMaxScaler.html) on the dataset. Print the total number of features. \n",
    "\n",
    "**Part 2:** Use the dataset to create a `RandomForestClassifier(n_estimators=5, random_state=42)` model and print the [classification_report](https://scikit-learn.org/stable/modules/generated/sklearn.metrics.classification_report.html) to show the precision, recall and F1 score based on the test set.  \n",
    "\n",
    "**Part 3:** Use [$\\chi^2$ test](https://scikit-learn.org/stable/modules/generated/sklearn.feature_selection.chi2.html) to select the top 100, 30 and 10 features using [SelectKBest](https://scikit-learn.org/stable/modules/feature_selection.html#univariate-feature-selection) module. Train a random forest model and print the [classification_report](https://scikit-learn.org/stable/modules/generated/sklearn.metrics.classification_report.html) for each of the trained models.  \n",
    "\n",
    "**Note:** $\\chi^2$ test requires non-negative values only for all features. Since we have performed Min-Max scaling previously (where the default behavior is to scale features between 0 and 1, there should not be any problem performing this test.)   \n",
    "\n",
    "**Part 4:** [Plot the ROC curves](https://github.com/justmarkham/scikit-learn-tips/blob/master/notebooks/21_plot_roc_curve.ipynb) for all of the 4 models.  \n",
    "\n",
    "**Part 5:** Plot the feature importance for each of the 4 random forest models that you have trained to show the top 5 features. ([Get feature names after feature selection](https://stackoverflow.com/a/43765224), [Plot feature importance using Pandas and matplotlib](https://stackoverflow.com/a/51520906))  \n",
    "\n",
    "**Part 6:** What do you observe from the ROC curves?"
   ]
  },
  {
   "cell_type": "markdown",
   "metadata": {},
   "source": [
    "# Solution"
   ]
  },
  {
   "cell_type": "code",
   "execution_count": 3,
   "metadata": {},
   "outputs": [
    {
     "name": "stdout",
     "output_type": "stream",
     "text": [
      "number of features: 160\n"
     ]
    }
   ],
   "source": [
    "#part 1\n",
    "from sklearn.preprocessing import MinMaxScaler\n",
    "\n",
    "y = df['loan_status']\n",
    "X = df.drop(['loan_status'],axis=1)\n",
    "\n",
    "scaler = MinMaxScaler()\n",
    "X = scaler.fit_transform(X)\n",
    "\n",
    "X_train, X_test, y_train, y_test = train_test_split(X, y, test_size=0.25, random_state=42)\n",
    "\n",
    "print('number of features:',str(X_train.shape[1]))"
   ]
  },
  {
   "cell_type": "code",
   "execution_count": 4,
   "metadata": {},
   "outputs": [
    {
     "name": "stdout",
     "output_type": "stream",
     "text": [
      "              precision    recall  f1-score   support\n",
      "\n",
      "           0       0.63      0.37      0.46       850\n",
      "           1       0.99      1.00      0.99     55667\n",
      "\n",
      "    accuracy                           0.99     56517\n",
      "   macro avg       0.81      0.68      0.73     56517\n",
      "weighted avg       0.98      0.99      0.99     56517\n",
      "\n"
     ]
    }
   ],
   "source": [
    "#part 2\n",
    "from sklearn.ensemble import RandomForestClassifier\n",
    "from sklearn.metrics import classification_report\n",
    "\n",
    "rfc = RandomForestClassifier(n_estimators=5,random_state=42)\n",
    "rfc.fit(X_train, y_train)\n",
    "y_preds = rfc.predict(X_test)\n",
    "\n",
    "print(classification_report(y_test, y_preds))"
   ]
  },
  {
   "cell_type": "code",
   "execution_count": 5,
   "metadata": {},
   "outputs": [
    {
     "name": "stdout",
     "output_type": "stream",
     "text": [
      "k=100 report\n",
      "              precision    recall  f1-score   support\n",
      "\n",
      "           0       0.65      0.42      0.51       850\n",
      "           1       0.99      1.00      0.99     55667\n",
      "\n",
      "    accuracy                           0.99     56517\n",
      "   macro avg       0.82      0.71      0.75     56517\n",
      "weighted avg       0.99      0.99      0.99     56517\n",
      "\n",
      "\n",
      "k=30 report\n",
      "              precision    recall  f1-score   support\n",
      "\n",
      "           0       0.51      0.13      0.21       850\n",
      "           1       0.99      1.00      0.99     55667\n",
      "\n",
      "    accuracy                           0.99     56517\n",
      "   macro avg       0.75      0.57      0.60     56517\n",
      "weighted avg       0.98      0.99      0.98     56517\n",
      "\n",
      "\n",
      "k=10 report\n",
      "              precision    recall  f1-score   support\n",
      "\n",
      "           0       1.00      0.07      0.14       850\n",
      "           1       0.99      1.00      0.99     55667\n",
      "\n",
      "    accuracy                           0.99     56517\n",
      "   macro avg       0.99      0.54      0.56     56517\n",
      "weighted avg       0.99      0.99      0.98     56517\n",
      "\n"
     ]
    }
   ],
   "source": [
    "#part 3\n",
    "from sklearn.feature_selection import SelectKBest, chi2\n",
    "\n",
    "X_100 = SelectKBest(chi2, k=100).fit_transform(X, y)\n",
    "X_train_100, X_test_100, y_train_100, y_test_100 = train_test_split(X_100, y, test_size=0.25, random_state=42)\n",
    "rfc_100 = RandomForestClassifier(n_estimators=5,random_state=42)\n",
    "rfc_100.fit(X_train_100, y_train_100)\n",
    "y_preds_100 = rfc_100.predict(X_test_100)\n",
    "\n",
    "X_30 = SelectKBest(chi2, k=30).fit_transform(X, y)\n",
    "X_train_30, X_test_30, y_train_30, y_test_30 = train_test_split(X_30, y, test_size=0.25, random_state=42)\n",
    "rfc_30 = RandomForestClassifier(n_estimators=5,random_state=42)\n",
    "rfc_30.fit(X_train_30, y_train_30)\n",
    "y_preds_30 = rfc_30.predict(X_test_30)\n",
    "\n",
    "\n",
    "X_10 = SelectKBest(chi2, k=10).fit_transform(X, y)\n",
    "X_train_10, X_test_10, y_train_10, y_test_10 = train_test_split(X_10, y, test_size=0.25, random_state=42)\n",
    "rfc_10 = RandomForestClassifier(n_estimators=5,random_state=42)\n",
    "rfc_10.fit(X_train_10, y_train_10)\n",
    "y_preds_10 = rfc_10.predict(X_test_10)\n",
    "\n",
    "print('k=100 report')\n",
    "print(classification_report(y_test, y_preds_100))\n",
    "\n",
    "print('\\nk=30 report')\n",
    "print(classification_report(y_test, y_preds_30))\n",
    "\n",
    "print('\\nk=10 report')\n",
    "print(classification_report(y_test, y_preds_10))"
   ]
  },
  {
   "cell_type": "code",
   "execution_count": 6,
   "metadata": {},
   "outputs": [
    {
     "data": {
      "text/plain": [
       "<sklearn.metrics._plot.roc_curve.RocCurveDisplay at 0x2b20f2a4e48>"
      ]
     },
     "execution_count": 6,
     "metadata": {},
     "output_type": "execute_result"
    },
    {
     "data": {
      "image/png": "[encoded data removed]",
      "text/plain": [
       "<Figure size 432x288 with 1 Axes>"
      ]
     },
     "metadata": {
      "needs_background": "light"
     },
     "output_type": "display_data"
    }
   ],
   "source": [
    "#part 4\n",
    "from sklearn.metrics import plot_roc_curve\n",
    "\n",
    "disp = plot_roc_curve(rfc, X_test, y_test,name='K=160')\n",
    "plot_roc_curve(rfc_100, X_test_100, y_test_100, ax=disp.ax_,name='K=100')\n",
    "plot_roc_curve(rfc_30, X_test_30, y_test_30, ax=disp.ax_,name='K=30')\n",
    "plot_roc_curve(rfc_10, X_test_10, y_test_10, ax=disp.ax_,name='K=10')"
   ]
  },
  {
   "cell_type": "code",
   "execution_count": 7,
   "metadata": {},
   "outputs": [
    {
     "data": {
      "text/plain": [
       "<matplotlib.axes._subplots.AxesSubplot at 0x2b2454120c8>"
      ]
     },
     "execution_count": 7,
     "metadata": {},
     "output_type": "execute_result"
    },
    {
     "data": {
      "image/png": "[encoded data removed]",
      "text/plain": [
       "<Figure size 432x288 with 1 Axes>"
      ]
     },
     "metadata": {},
     "output_type": "display_data"
    }
   ],
   "source": [
    "#part 5\n",
    "import seaborn as sns\n",
    "sns.set_style('darkgrid')\n",
    "\n",
    "feat_importances = pd.Series(rfc.feature_importances_, index=df.drop(['loan_status'],axis=1).columns)\n",
    "feat_importances.nlargest(5).plot(kind='barh', title='K=160')"
   ]
  },
  {
   "cell_type": "code",
   "execution_count": 8,
   "metadata": {},
   "outputs": [
    {
     "data": {
      "text/plain": [
       "<matplotlib.axes._subplots.AxesSubplot at 0x2b24549eac8>"
      ]
     },
     "execution_count": 8,
     "metadata": {},
     "output_type": "execute_result"
    },
    {
     "data": {
      "image/png": "[encoded data removed]",
      "text/plain": [
       "<Figure size 432x288 with 1 Axes>"
      ]
     },
     "metadata": {},
     "output_type": "display_data"
    }
   ],
   "source": [
    "selector_100 = SelectKBest(chi2, k=100)\n",
    "selector_100.fit(X_100, y)\n",
    "cols_100 = selector_100.get_support(indices=True)\n",
    "\n",
    "feat_importances_100 = pd.Series(rfc_100.feature_importances_, index=df.iloc[:,cols_100].columns)\n",
    "feat_importances_100.nlargest(5).plot(kind='barh', title='K=100')"
   ]
  },
  {
   "cell_type": "code",
   "execution_count": 9,
   "metadata": {},
   "outputs": [
    {
     "data": {
      "text/plain": [
       "<matplotlib.axes._subplots.AxesSubplot at 0x2b20f331908>"
      ]
     },
     "execution_count": 9,
     "metadata": {},
     "output_type": "execute_result"
    },
    {
     "data": {
      "image/png": "[encoded data removed]",
      "text/plain": [
       "<Figure size 432x288 with 1 Axes>"
      ]
     },
     "metadata": {},
     "output_type": "display_data"
    }
   ],
   "source": [
    "selector_30 = SelectKBest(chi2, k=30)\n",
    "selector_30.fit(X_30, y)\n",
    "cols_30 = selector_30.get_support(indices=True)\n",
    "\n",
    "feat_importances_30 = pd.Series(rfc_30.feature_importances_, index=df.iloc[:,cols_30].columns)\n",
    "feat_importances_30.nlargest(5).plot(kind='barh', title='K=30')"
   ]
  },
  {
   "cell_type": "code",
   "execution_count": 10,
   "metadata": {},
   "outputs": [
    {
     "data": {
      "text/plain": [
       "<matplotlib.axes._subplots.AxesSubplot at 0x2b24dad28c8>"
      ]
     },
     "execution_count": 10,
     "metadata": {},
     "output_type": "execute_result"
    },
    {
     "data": {
      "image/png": "[encoded data removed]",
      "text/plain": [
       "<Figure size 432x288 with 1 Axes>"
      ]
     },
     "metadata": {},
     "output_type": "display_data"
    }
   ],
   "source": [
    "selector_10 = SelectKBest(chi2, k=10)\n",
    "selector_10.fit(X_10, y)\n",
    "cols_10 = selector_10.get_support(indices=True)\n",
    "\n",
    "feat_importances_10 = pd.Series(rfc_10.feature_importances_, index=df.iloc[:,cols_10].columns)\n",
    "feat_importances_10.nlargest(5).plot(kind='barh', title='K=10')"
   ]
  },
  {
   "cell_type": "markdown",
   "metadata": {},
   "source": [
    "## Part 6\n",
    "\n",
    "From the ROC curves, we observe that K=10 performs the best out of all 4 models. K=30 performs marginally better than K=100 and K=160, which perform very similarly. The main increase in performance from the K=10 model comes from a lower false positive rate."
   ]
  },
  {
   "cell_type": "markdown",
   "metadata": {},
   "source": [
    "# Question 3 : Logistic Regression with Regularization and Decision Tree\n",
    "\n",
    "The goal of this problem is to explore the effect of regularization on logistic regression for binary classification, we will be using the diabetes dataset. \n",
    "This dataset is used to predict if a person is having \n",
    "diabetes based on feature variables including blood pressure, bmi, age etc. The target variable is stored in \"outcome\" column.\n",
    "\n",
    "* Load the \"diabetes.csv\" and partition it into features (X) and the target label (y) for classification task. Then, use [train_test_split](http://scikit-learn.org/stable/modules/generated/sklearn.model_selection.train_test_split.html) to split data into training and testing: test_size=0.33, random_state=42. \n",
    "\n",
    "\n",
    "* We need to use [StandardScaler](https://scikit-learn.org/stable/modules/generated/sklearn.preprocessing.StandardScaler.html). Instead of fitting a model on the original data, we use StandardScaler to center each feature. Also remember that when we have training and testing data, we fit preprocessing parameters on training data and apply them to all testing data. You should scale only the features (independent variables), not the target variable y. \n",
    "\n",
    "   Note: X should have 8 features.\n",
    "\n",
    "\n",
    "**Part 1:** Fit a [logistic regression](https://scikit-learn.org/stable/modules/generated/sklearn.linear_model.LogisticRegression.html) model with penalty $l2$\n",
    "(Ridge Regularization) for the following values of regularization  C = $[0.0001,0.001,0.1,10,100]$ using the training data. Report the accuracy score on the test data averaged over 5 runs of the model for each of the C values. \n",
    "\n",
    "  Note : Smaller values of C indicate stronger regularization\n",
    "\n",
    "    \n",
    "\n",
    "**Part 2:** Fit a [Decision tree](https://scikit-learn.org/stable/modules/generated/sklearn.tree.DecisionTreeClassifier.html) classifier on the training data, and report the accuracy score on the test data averaged over 5 runs. Briefly explain which of the models performed the best Logistic Regression + regularization or Decision Tree Classifier and why. \n",
    "\n",
    "\n",
    "* Now, We will check if the decision boundary from logistic regression is linear by using a 2D plot.\n",
    "\n",
    "\n",
    "**Part 3:** Select the top two most important features ([Feature importance](https://scikit-learn.org/stable/modules/generated/sklearn.tree.DecisionTreeClassifier.html#sklearn.tree.DecisionTreeClassifier.feature_importances_)) using the training data with a Decision Tree Classifier and random_state = 10. Subset the train and test data to have only the selected features. This will be used as the training and test data for part $4$.\n",
    "\n",
    "\n",
    "**Part 4:** Fit a [logistic regression](https://scikit-learn.org/stable/modules/generated/sklearn.linear_model.LogisticRegression.html) model with penalty = $l2$, C = 10 (Ridge Regularization) and random state = 0 for the training data from part $3$ . Plot the decision boundary of the logistic regression model with the two features, as X and Y axis. Here is an [example](https://scikit-learn.org/stable/auto_examples/linear_model/plot_iris_logistic.html) . Plot the scatter points for the test data, on the same graph showing the two classes as two different color. \n",
    "\n",
    "  * Hint : You can use the below limits for plotting the decision boundary, where $X[:,0]$ indicates feature 1 values and $X[:,1]$ indicates feature 2 values of the train dataset. \n",
    "\n",
    "     $ x_\\min, x_\\max = X[:, 0].min() - .5, X[:, 0].max() + .5 $ \n",
    "\n",
    "     $ y_\\min, y_\\max = X[:, 1].min() - .5, X[:, 1].max() + .5 $\n",
    "   "
   ]
  },
  {
   "cell_type": "markdown",
   "metadata": {},
   "source": [
    "# Solution"
   ]
  },
  {
   "cell_type": "markdown",
   "metadata": {},
   "source": [
    "#### Loading dataset and pre-processing"
   ]
  },
  {
   "cell_type": "code",
   "execution_count": 11,
   "metadata": {},
   "outputs": [],
   "source": [
    "from sklearn.preprocessing import StandardScaler\n",
    "df = pd.read_csv('diabetes.csv')\n",
    "y=df['Outcome']\n",
    "X=df.drop('Outcome', axis = 1)\n",
    "X_train, X_test, y_train, y_test = train_test_split(X, y, test_size = .33, random_state = 42)\n",
    "X_scaler = StandardScaler()\n",
    "X_train = X_scaler.fit_transform(X_train)\n",
    "X_test = X_scaler.fit_transform(X_test)"
   ]
  },
  {
   "cell_type": "markdown",
   "metadata": {},
   "source": [
    "#### Part 1 "
   ]
  },
  {
   "cell_type": "code",
   "execution_count": 12,
   "metadata": {},
   "outputs": [
    {
     "name": "stdout",
     "output_type": "stream",
     "text": [
      "Accuracy score with Regularization = 0.0001:  0.6614117647058824\n",
      "Accuracy score with Regularization = 0.0001:  0.6614117647058824\n",
      "Accuracy score with Regularization = 0.1:  0.7637647058823529\n",
      "Accuracy score with Regularization = 10:  0.7797647058823529\n",
      "Accuracy score with Regularization = 100:  0.7836862745098039\n"
     ]
    }
   ],
   "source": [
    "from sklearn.linear_model import LogisticRegression\n",
    "from sklearn.model_selection import cross_val_score\n",
    "\n",
    "\n",
    "clf_0001 = LogisticRegression(penalty = 'l2',C = 0.0001)\n",
    "clf_0001.fit(X_train,y_train)\n",
    "print('Accuracy score with Regularization = 0.0001: ',np.mean(cross_val_score(clf_0001, X_test, y_test, cv = 5)))\n",
    "\n",
    "\n",
    "clf_001 = LogisticRegression(penalty = 'l2',C = 0.001)\n",
    "clf_001.fit(X_train,y_train)\n",
    "print('Accuracy score with Regularization = 0.0001: ',np.mean(cross_val_score(clf_001, X_test, y_test, cv = 5)))\n",
    "\n",
    "      \n",
    "clf_01 = LogisticRegression(penalty = 'l2',C = 0.1)\n",
    "clf_01.fit(X_train,y_train)\n",
    "print('Accuracy score with Regularization = 0.1: ',np.mean(cross_val_score(clf_01, X_test, y_test, cv = 5)))\n",
    "\n",
    "\n",
    "clf_10 = LogisticRegression(penalty = 'l2',C = 10)\n",
    "clf_10.fit(X_train,y_train)\n",
    "print('Accuracy score with Regularization = 10: ',np.mean(cross_val_score(clf_10, X_test, y_test, cv = 5)))\n",
    "\n",
    "\n",
    "clf_100 = LogisticRegression(penalty = 'l2',C = 100)\n",
    "clf_100.fit(X_train,y_train)\n",
    "print('Accuracy score with Regularization = 100: ',np.mean(cross_val_score(clf_100, X_test, y_test, cv = 5)))\n",
    "\n",
    "\n"
   ]
  },
  {
   "cell_type": "markdown",
   "metadata": {},
   "source": [
    "#### Part 2 "
   ]
  },
  {
   "cell_type": "code",
   "execution_count": 13,
   "metadata": {},
   "outputs": [
    {
     "name": "stdout",
     "output_type": "stream",
     "text": [
      "Average Accuracy Score:  0.6849411764705883\n"
     ]
    }
   ],
   "source": [
    "from sklearn.tree import DecisionTreeClassifier\n",
    "\n",
    "\n",
    "tree = DecisionTreeClassifier(random_state = 0)\n",
    "tree.fit(X_train,y_train)\n",
    "tree.score(X_test,y_test)\n",
    "scores = cross_val_score(tree, X_test, y_test, cv = 5)\n",
    "print('Average Accuracy Score: ',np.mean(scores))"
   ]
  },
  {
   "cell_type": "markdown",
   "metadata": {},
   "source": [
    "The Logistic Regression performs better because there is a clear linear boundary in this binary classification problem which is not as well separated by the multiple splits of the decision tree."
   ]
  },
  {
   "cell_type": "markdown",
   "metadata": {},
   "source": [
    "#### Part 3"
   ]
  },
  {
   "cell_type": "code",
   "execution_count": 14,
   "metadata": {},
   "outputs": [
    {
     "data": {
      "text/plain": [
       "array([0.06204322, 0.40446797, 0.10523598, 0.04853007, 0.08183749,\n",
       "       0.14079905, 0.07235549, 0.08473073])"
      ]
     },
     "execution_count": 14,
     "metadata": {},
     "output_type": "execute_result"
    }
   ],
   "source": [
    "\n",
    "new_tree = DecisionTreeClassifier(random_state = 10)\n",
    "new_tree.fit(X_train,y_train)\n",
    "new_tree.feature_importances_\n",
    "\n",
    "var_list = []\n",
    "for i in range(1,len(new_tree.feature_importances_)):\n",
    "    if new_tree.feature_importances_[i] > .11:\n",
    "        var_list.append(i)\n",
    "        \n",
    "most_important = list(X.iloc[:, var_list].columns)\n",
    "most_important\n",
    "new_tree.feature_importances_\n"
   ]
  },
  {
   "cell_type": "code",
   "execution_count": 15,
   "metadata": {},
   "outputs": [
    {
     "data": {
      "text/html": [
       "<div>\n",
       "<style scoped>\n",
       "    .dataframe tbody tr th:only-of-type {\n",
       "        vertical-align: middle;\n",
       "    }\n",
       "\n",
       "    .dataframe tbody tr th {\n",
       "        vertical-align: top;\n",
       "    }\n",
       "\n",
       "    .dataframe thead th {\n",
       "        text-align: right;\n",
       "    }\n",
       "</style>\n",
       "<table border=\"1\" class=\"dataframe\">\n",
       "  <thead>\n",
       "    <tr style=\"text-align: right;\">\n",
       "      <th></th>\n",
       "      <th>Glucose</th>\n",
       "      <th>BMI</th>\n",
       "    </tr>\n",
       "  </thead>\n",
       "  <tbody>\n",
       "    <tr>\n",
       "      <th>464</th>\n",
       "      <td>115</td>\n",
       "      <td>24.0</td>\n",
       "    </tr>\n",
       "    <tr>\n",
       "      <th>223</th>\n",
       "      <td>142</td>\n",
       "      <td>28.8</td>\n",
       "    </tr>\n",
       "    <tr>\n",
       "      <th>393</th>\n",
       "      <td>116</td>\n",
       "      <td>22.1</td>\n",
       "    </tr>\n",
       "    <tr>\n",
       "      <th>766</th>\n",
       "      <td>126</td>\n",
       "      <td>30.1</td>\n",
       "    </tr>\n",
       "    <tr>\n",
       "      <th>570</th>\n",
       "      <td>78</td>\n",
       "      <td>32.5</td>\n",
       "    </tr>\n",
       "    <tr>\n",
       "      <th>...</th>\n",
       "      <td>...</td>\n",
       "      <td>...</td>\n",
       "    </tr>\n",
       "    <tr>\n",
       "      <th>71</th>\n",
       "      <td>139</td>\n",
       "      <td>28.6</td>\n",
       "    </tr>\n",
       "    <tr>\n",
       "      <th>106</th>\n",
       "      <td>96</td>\n",
       "      <td>22.4</td>\n",
       "    </tr>\n",
       "    <tr>\n",
       "      <th>270</th>\n",
       "      <td>101</td>\n",
       "      <td>45.6</td>\n",
       "    </tr>\n",
       "    <tr>\n",
       "      <th>435</th>\n",
       "      <td>141</td>\n",
       "      <td>42.4</td>\n",
       "    </tr>\n",
       "    <tr>\n",
       "      <th>102</th>\n",
       "      <td>125</td>\n",
       "      <td>22.5</td>\n",
       "    </tr>\n",
       "  </tbody>\n",
       "</table>\n",
       "<p>514 rows × 2 columns</p>\n",
       "</div>"
      ],
      "text/plain": [
       "     Glucose   BMI\n",
       "464      115  24.0\n",
       "223      142  28.8\n",
       "393      116  22.1\n",
       "766      126  30.1\n",
       "570       78  32.5\n",
       "..       ...   ...\n",
       "71       139  28.6\n",
       "106       96  22.4\n",
       "270      101  45.6\n",
       "435      141  42.4\n",
       "102      125  22.5\n",
       "\n",
       "[514 rows x 2 columns]"
      ]
     },
     "execution_count": 15,
     "metadata": {},
     "output_type": "execute_result"
    }
   ],
   "source": [
    "best_features = X.iloc[:, var_list]\n",
    "X_train, X_test, y_train, y_test = train_test_split(best_features, y, test_size = .33, random_state = 42)\n",
    "X_train"
   ]
  },
  {
   "cell_type": "markdown",
   "metadata": {},
   "source": [
    "#### Part 4"
   ]
  },
  {
   "cell_type": "code",
   "execution_count": 16,
   "metadata": {},
   "outputs": [
    {
     "data": {
      "image/png": "[encoded data removed]",
      "text/plain": [
       "<Figure size 576x432 with 1 Axes>"
      ]
     },
     "metadata": {},
     "output_type": "display_data"
    }
   ],
   "source": [
    "import matplotlib.pyplot as plt\n",
    "clf_4 = LogisticRegression(penalty = 'l2', C = 10, random_state = 0)\n",
    "clf_4.fit(X_train,y_train)\n",
    "\n",
    "x_min, x_max = X_train.iloc[:, 0].min() - .5, X_train.iloc[:, 0].max() + .5\n",
    "y_min, y_max = X_train.iloc[:, 1].min() - .5, X_train.iloc[:, 1].max() + .5\n",
    "h = .02  # step size in the mesh\n",
    "xx, yy = np.meshgrid(np.arange(x_min, x_max, h), np.arange(y_min, y_max, h))\n",
    "Z = clf_4.predict(np.c_[xx.ravel(), yy.ravel()])\n",
    "\n",
    "# Put the result into a color plot\n",
    "Z = Z.reshape(xx.shape)\n",
    "plt.figure(1, figsize=(8, 6))\n",
    "plt.pcolormesh(xx, yy, Z, cmap=plt.cm.Paired)\n",
    "\n",
    "# Plot also the training points\n",
    "plt.scatter(X_train.iloc[:, 0], X_train.iloc[:, 1], c=y_train, edgecolors='k', cmap=plt.cm.Paired)\n",
    "plt.xlabel('Glucose')\n",
    "plt.ylabel('BMI')\n",
    "\n",
    "plt.xlim(xx.min(), xx.max())\n",
    "plt.ylim(yy.min(), yy.max())\n",
    "plt.xticks(())\n",
    "plt.yticks(())\n",
    "plt.show()"
   ]
  },
  {
   "cell_type": "markdown",
   "metadata": {},
   "source": [
    "# Question 4 - Comparison of different ensembles method for classification\n",
    "\n",
    "In this question, we will compare performance of different ensemble methods for classification problems: [Bagging](https://scikit-learn.org/stable/modules/generated/sklearn.ensemble.BaggingClassifier.html), [AdaBoost](https://scikit-learn.org/stable/modules/generated/sklearn.ensemble.AdaBoostClassifier.html), [GradientBoosting](http://scikit-learn.org/stable/modules/generated/sklearn.ensemble.GradientBoostingClassifier.html), and [Random Forest](https://scikit-learn.org/stable/modules/generated/sklearn.ensemble.RandomForestClassifier.html) Classifiers.\n",
    "\n",
    "[Spam Classification Data](https://archive.ics.uci.edu/ml/datasets/Spambase) of UCI will be used (you can use the data provided: 'spam_uci.csv'). Don't worry about column names. The last column represents target label, 1 if spam and zero otherwise.\n",
    "\n",
    "* Load the data and partition it into features (X) and the target label (y) for classification task. Then, use [train_test_split](http://scikit-learn.org/stable/modules/generated/sklearn.model_selection.train_test_split.html) to split data into training and testing: test_size=0.33, random_state=42. \n",
    "\n",
    "\n",
    "\n",
    "**Part 1:** Use a Decision Tree Classifier with random_state = 10 and Logistic Regression with random_state = 10 and solver =\"lbfgs\" for the spam classification problem. Report the accuracy_score and roc_auc_score on the test data for each classifier.\n",
    "\n",
    "\n",
    "**Part 2:** Create an ensemble of 50 classifiers (i.e n_estimators = 50) with random_state = 10 for [bagging](https://scikit-learn.org/stable/modules/generated/sklearn.ensemble.BaggingClassifier.html) with base classifier as Decision Tree Classifier and Logistic Regression from part $1$ . Report accuracy_score and roc_auc_score on the test data for both the Bagging classifiers. Compare the results and breifly explain the effect of using bagging for the spam classification problem for both the Logistic Regression and Decision Tree base classifier.\n",
    "\n",
    "\n",
    "* Now we will look at the effect of other ensemble methods on this problem.\n",
    "\n",
    "\n",
    "**Part 3:** Use a [Random Forest](http://scikit-learn.org/stable/modules/generated/sklearn.ensemble.RandomForestClassifier.html) to classify whether an email is spam. Report your testing accuracy ([accuracy_score](http://scikit-learn.org/stable/modules/generated/sklearn.metrics.accuracy_score.html)) and [roc_auc_score](http://scikit-learn.org/stable/modules/generated/sklearn.metrics.roc_auc_score.html#sklearn.metrics.roc_auc_score). You will need [predict_proba](http://scikit-learn.org/stable/modules/generated/sklearn.ensemble.RandomForestClassifier.html#sklearn.ensemble.RandomForestClassifier.predict_proba) for roc_auc_score. \n",
    "\n",
    "\n",
    "**Part 4:** Use [Gradient Boosting Decision Tree](http://scikit-learn.org/stable/modules/generated/sklearn.ensemble.GradientBoostingClassifier.html) (GBDT), and [AdaBoost](http://scikit-learn.org/stable/modules/generated/sklearn.ensemble.AdaBoostClassifier.html#sklearn.ensemble.AdaBoostClassifier) for the spam classification problem.  Report  accuracy_score and roc_auc_score on the test data for each algorithm. \n",
    "\n",
    "  Note : For part 3 and 4 find the best values for the hyper parameters of each of the models by using GridSearchCV. \n",
    "\n",
    "\n",
    "**Part 5:** Briefly explain which of the three ensemble method above from Part 3&4 performed the best and why?\n"
   ]
  },
  {
   "cell_type": "markdown",
   "metadata": {},
   "source": [
    "# Solution"
   ]
  },
  {
   "cell_type": "markdown",
   "metadata": {},
   "source": [
    "#### Loading and pre-processing dataset"
   ]
  },
  {
   "cell_type": "code",
   "execution_count": 17,
   "metadata": {},
   "outputs": [],
   "source": [
    "df = pd.read_csv('spambase.data')\n",
    "X = df.drop(['1'],axis=1)\n",
    "y = df['1']\n",
    "\n",
    "X_train, X_test, y_train, y_test = train_test_split(X, y, test_size=0.33, random_state=42)"
   ]
  },
  {
   "cell_type": "markdown",
   "metadata": {},
   "source": [
    "#### Part 1"
   ]
  },
  {
   "cell_type": "code",
   "execution_count": 18,
   "metadata": {},
   "outputs": [
    {
     "name": "stdout",
     "output_type": "stream",
     "text": [
      "decision tree\n",
      "---\n",
      "roc_auc_score: 0.9123892146624896\n",
      "accuracy score: 0.9156785243741765\n",
      "\n",
      "logistic regression\n",
      "---\n",
      "roc_auc_score: 0.8933220874501299\n",
      "accuracy score: 0.9005270092226614\n"
     ]
    }
   ],
   "source": [
    "from sklearn.tree import DecisionTreeClassifier\n",
    "from sklearn.linear_model import LogisticRegression\n",
    "from sklearn.metrics import roc_auc_score, accuracy_score\n",
    "import warnings\n",
    "warnings.filterwarnings('ignore')\n",
    "\n",
    "dtc = DecisionTreeClassifier(random_state=10)\n",
    "lr = LogisticRegression(random_state=10,solver='lbfgs')\n",
    "\n",
    "dtc.fit(X_train, y_train)\n",
    "lr.fit(X_train, y_train)\n",
    "\n",
    "dtc_preds = dtc.predict(X_test)\n",
    "lr_preds = lr.predict(X_test)\n",
    "\n",
    "print('decision tree\\n---')\n",
    "print('roc_auc_score:',str(roc_auc_score(y_test, dtc_preds)))\n",
    "print('accuracy score:',str(accuracy_score(y_test, dtc_preds)))\n",
    "print('\\nlogistic regression\\n---')\n",
    "print('roc_auc_score:',str(roc_auc_score(y_test, lr_preds)))\n",
    "print('accuracy score:',str(accuracy_score(y_test, lr_preds)))"
   ]
  },
  {
   "cell_type": "markdown",
   "metadata": {},
   "source": [
    "#### Part 2"
   ]
  },
  {
   "cell_type": "code",
   "execution_count": 19,
   "metadata": {},
   "outputs": [
    {
     "name": "stdout",
     "output_type": "stream",
     "text": [
      "using decision tree as base classifier\n",
      "---\n",
      "roc_auc_score: 0.9337376496104104\n",
      "accuracy score: 0.9387351778656127\n",
      "\n",
      "using logistic regression as base classifier\n",
      "---\n",
      "roc_auc_score: 0.9006560098535358\n",
      "accuracy score: 0.9064558629776021\n"
     ]
    }
   ],
   "source": [
    "from sklearn.ensemble import BaggingClassifier\n",
    "\n",
    "bc_dtc = BaggingClassifier(base_estimator=dtc, n_estimators=50, random_state=10)\n",
    "bc_lr = BaggingClassifier(base_estimator=lr, n_estimators=50, random_state=10)\n",
    "\n",
    "bc_dtc.fit(X_train, y_train)\n",
    "bc_lr.fit(X_train, y_train)\n",
    "\n",
    "bc_dtc_preds = bc_dtc.predict(X_test)\n",
    "bc_lr_preds = bc_lr.predict(X_test)\n",
    "\n",
    "print('using decision tree as base classifier\\n---')\n",
    "print('roc_auc_score:',str(roc_auc_score(y_test, bc_dtc_preds)))\n",
    "print('accuracy score:',str(accuracy_score(y_test, bc_dtc_preds)))\n",
    "print('\\nusing logistic regression as base classifier\\n---')\n",
    "print('roc_auc_score:',str(roc_auc_score(y_test, bc_lr_preds)))\n",
    "print('accuracy score:',str(accuracy_score(y_test, bc_lr_preds)))"
   ]
  },
  {
   "cell_type": "markdown",
   "metadata": {},
   "source": [
    "#### Part 3"
   ]
  },
  {
   "cell_type": "code",
   "execution_count": 20,
   "metadata": {},
   "outputs": [
    {
     "name": "stdout",
     "output_type": "stream",
     "text": [
      "roc_auc_score: 0.9752287109183246\n",
      "accuracy score: 0.9235836627140975\n",
      "Wall time: 2min 39s\n"
     ]
    }
   ],
   "source": [
    "%%time\n",
    "from sklearn.ensemble import RandomForestClassifier\n",
    "from sklearn.model_selection import GridSearchCV\n",
    "\n",
    "rf = RandomForestClassifier(random_state=10)\n",
    "param_grid = {\n",
    "    'n_estimators': [200, 500],\n",
    "    'max_features': ['auto','sqrt','log2'],\n",
    "    'max_depth': [4,6,8],\n",
    "    'criterion': ['gini','entropy']\n",
    "}\n",
    "\n",
    "cv_rf = GridSearchCV(estimator=rf, param_grid=param_grid, cv=5)\n",
    "cv_rf.fit(X_train, y_train)\n",
    "\n",
    "rf_prob_preds = cv_rf.predict_proba(X_test)[:,1]\n",
    "rf_preds = cv_rf.predict(X_test)\n",
    "\n",
    "print('roc_auc_score:',str(roc_auc_score(y_test,rf_prob_preds)))\n",
    "print('accuracy score:',str(accuracy_score(y_test, rf_preds)))"
   ]
  },
  {
   "cell_type": "markdown",
   "metadata": {},
   "source": [
    "#### Part 4"
   ]
  },
  {
   "cell_type": "code",
   "execution_count": 21,
   "metadata": {},
   "outputs": [
    {
     "name": "stdout",
     "output_type": "stream",
     "text": [
      "Gradient Boosting Decision Tree\n",
      "---\n",
      "roc_auc_score: 0.9848475111789434\n",
      "accuracy score: 0.9420289855072463\n",
      "\n",
      "AdaBoost\n",
      "---\n",
      "roc_auc_score: 0.9819691005971027\n",
      "accuracy score: 0.9361001317523057\n",
      "Wall time: 1min 56s\n"
     ]
    }
   ],
   "source": [
    "%%time\n",
    "from sklearn.ensemble import GradientBoostingClassifier, AdaBoostClassifier\n",
    "\n",
    "gbdt = GradientBoostingClassifier(random_state=10)\n",
    "abc = AdaBoostClassifier(random_state=10)\n",
    "\n",
    "param_grid = {\n",
    "    'n_estimators': [200,500],\n",
    "    'learning_rate':[.001,0.01,.1]\n",
    "}\n",
    "\n",
    "cv_gbdt = GridSearchCV(estimator=gbdt, param_grid=param_grid, cv=5)\n",
    "cv_abc = GridSearchCV(estimator=abc, param_grid=param_grid, cv=5)\n",
    "\n",
    "cv_gbdt.fit(X_train, y_train)\n",
    "cv_abc.fit(X_train, y_train)\n",
    "\n",
    "gbdt_prob_preds = cv_gbdt.predict_proba(X_test)[:,1]\n",
    "gbdt_preds = cv_gbdt.predict(X_test)\n",
    "abc_prob_preds = cv_abc.predict_proba(X_test)[:,1]\n",
    "abc_preds = cv_abc.predict(X_test)\n",
    "\n",
    "print('Gradient Boosting Decision Tree\\n---')\n",
    "print('roc_auc_score:',str(roc_auc_score(y_test, gbdt_prob_preds)))\n",
    "print('accuracy score:',str(accuracy_score(y_test, gbdt_preds)))\n",
    "print('\\nAdaBoost\\n---')\n",
    "print('roc_auc_score:',str(roc_auc_score(y_test, abc_prob_preds)))\n",
    "print('accuracy score:',str(accuracy_score(y_test, abc_preds)))"
   ]
  },
  {
   "cell_type": "markdown",
   "metadata": {},
   "source": [
    "#### Part 5 \n",
    "\n",
    "The gradient boosting decision tree model performed the best. \n",
    "\n",
    "This model outperforms random forests because it uses boosting to reduce error mainly through reducing bias with shallow trees. Random forests use fully grown decision trees and makes a lot of trees to reduce variance. Most likely, gradient boosting was able to generate trees with lower bias than the trees of random forests, resulting in better performance.\n",
    "\n",
    "This model outperforms Adaboost because while both techniques use boosting, Adaboost puts more weight on misclassified observations. Gradient boosting can also use larger trees compared to AdaBoost which only uses stumps. Most likely, there wwas more information gained through gradient boosting by putting equal weight for all learners than the AdaBoost predictions which weights the learners' predictions based on their accuracy."
   ]
  },
  {
   "cell_type": "markdown",
   "metadata": {},
   "source": [
    "\n",
    "# Question 5: Segmenting Customers for Predicting Credit Card Fraud \n",
    "\n",
    "In this question, we will look at a technique to segment customers using SHAP (SHapley Additive exPlanations). Please read this article to learn about SHAP - https://christophm.github.io/interpretable-ml-book/shap.html.\n",
    "\n",
    "SHAP values provide an explanation for each observation in terms of feature attribution (which features were most influential in determining the predicted value for that observation).\n",
    "\n",
    "For some applications, that may be too fine a resolution, and one would rather identify subsets of observations (called segments or clusters) for which the “explanations are similar”, Moreover, it helps if subsets are also “understandable”, i.e. easy to describe in terms of the feature values. Then the subsets become “actionable”, as one can design specific interventions (e.g. targeted marketing messages) for each subset.\n",
    "\n",
    "The goal of this problem is to identify such segments, and see if the variation of SHAP values within each segment is indeed lower than the variation in the total population. We will proceed as follows:\n",
    "\n",
    "1. First, we will fit an XGBoost model to perform the classification task.\n",
    "2. We will then use the shap.TreeExplainer which uses Tree SHAP algorithms and estimate the SHAP values for each observation.\n",
    "3. Our objective is to segment customers into groups which have low variance in the SHAP values - these represent segments of similar customers in the “feature attribution based explanation” space. We will do this as follows:  \n",
    "\n",
    "    a. Cluster the SHAP values using KMeans clustering. You pick K, perhaps somewhere between 10 and 20.  \n",
    "    b. Build a decision tree with the Cluster numbers as the labels. Specify the number of leaves to be in the range of [K, 2K].  Due to the choice of the surrogate class labels provided by the clustering, the   leaves of the decision tree will be encouraged to have similar SHAP values. Moreover, since you are learning a decision tree, these leaves are also simple to describe as rules. A good solution will be indicated if  for each of these leaves,  the variance of SHAP values of observations mapped to that leaf will be lower than the  overall variance.  \n"
   ]
  },
  {
   "cell_type": "code",
   "execution_count": 22,
   "metadata": {},
   "outputs": [],
   "source": [
    "#LOADING DATA -  DONOT CHANGE\n",
    "\n",
    "import re\n",
    "import pandas as pd\n",
    "import numpy as np\n",
    "import shap\n",
    "import time\n",
    "import xgboost\n",
    "import sklearn\n",
    "from sklearn.tree import DecisionTreeClassifier\n",
    "from sklearn.model_selection import train_test_split\n",
    "from sklearn.metrics import roc_auc_score\n",
    "import os, sys, re\n",
    "import time\n",
    "import numpy as np\n",
    "import pandas as pd\n",
    "from sklearn.model_selection import train_test_split\n",
    "\n",
    "df = pd.read_csv('credit.csv')\n",
    "\n",
    "X = df\n",
    "regex = re.compile(r\"\\[|\\]|<\", re.IGNORECASE)\n",
    "df.columns = [regex.sub(\"_\", col) if any(x in str(col) for x in set(('[', ']', '<'))) else col for col in df.columns.values]\n",
    "\n",
    "X = X.drop(['Class'], axis=1)\n",
    "Y = df['Class']\n",
    "\n",
    "X_train_val, X_test, y_train_val, y_test = train_test_split(X, Y, test_size=0.25, shuffle=True, random_state=42)\n",
    "X_train, X_val, y_train, y_val = train_test_split(X_train_val, y_train_val, test_size=0.25, shuffle=True, random_state=42)"
   ]
  },
  {
   "cell_type": "markdown",
   "metadata": {},
   "source": [
    "### 5.1. Fit an XGBoost model on the train data and report the ROCAUC on the test set. \n",
    "### 5.2. Compute the SHAP values using the [TreeExplainer](https://shap.readthedocs.io/en/latest/generated/shap.TreeExplainer.html) and plot the [summary plot](https://shap.readthedocs.io/en/latest/generated/shap.summary_plot.html). Explain what the summary plot represents. \n",
    "### 5.3. Perform KMeans clustering on the SHAP values inot $k$ clusters. Then, train a decision tree (with maximum depth $d$) to predict the cluster number obtained through KMeans -  the cluster numbers as the target. Visualize the decison tree. Plot the variance of the SHAP values of the samples in each of the leaves - show that all these varinces is less than the overall variance of the SHAP values. The main parameters to tune here are the number of cluster $k$ and the maximum depth $d$. "
   ]
  },
  {
   "cell_type": "code",
   "execution_count": 23,
   "metadata": {},
   "outputs": [],
   "source": [
    "#5.1\n",
    "dtrain = xgboost.DMatrix(X_train, label=y_train)\n",
    "dtest = xgboost.DMatrix(X_test, label=y_test)\n",
    "\n",
    "param = {\n",
    "    'max_depth': 6,  # the maximum depth of each tree\n",
    "    'eta': 0.3,  # the training step for each iteration\n",
    "}\n",
    "num_round = 20  # the number of training iterations\n",
    "\n",
    "xgb_model = xgboost.train(param, dtrain, num_round)\n",
    "\n",
    "preds = xgb_model.predict(dtest)"
   ]
  },
  {
   "cell_type": "code",
   "execution_count": 24,
   "metadata": {},
   "outputs": [
    {
     "name": "stdout",
     "output_type": "stream",
     "text": [
      "roc_auc_score: 0.9539125431530494\n"
     ]
    }
   ],
   "source": [
    "#5.1\n",
    "print('roc_auc_score:',str(roc_auc_score(y_test, preds)))"
   ]
  },
  {
   "cell_type": "code",
   "execution_count": 25,
   "metadata": {},
   "outputs": [
    {
     "name": "stdout",
     "output_type": "stream",
     "text": [
      "shap values\n",
      "-----------\n",
      "[[ 1.07818181e-04  0.00000000e+00  3.51861090e-05 ... -1.45032736e-05\n",
      "   4.36543905e-06  1.35966366e-06]\n",
      " [-4.75055913e-06  0.00000000e+00 -1.98238340e-05 ... -1.26323785e-05\n",
      "   3.45180115e-06 -7.13823465e-06]\n",
      " [-4.89978156e-05  0.00000000e+00  4.21301993e-05 ... -1.26323785e-05\n",
      "   4.35472793e-06  5.93763616e-07]\n",
      " ...\n",
      " [-4.92941945e-05  0.00000000e+00  5.43447859e-05 ... -1.26323785e-05\n",
      "   4.46878767e-06  1.35966366e-06]\n",
      " [-8.85479094e-05  0.00000000e+00 -1.47608216e-05 ... -1.26323785e-05\n",
      "   4.36462733e-06 -7.13823465e-06]\n",
      " [-1.76774174e-05  0.00000000e+00  3.81702284e-06 ... -1.45032736e-05\n",
      "   3.57004569e-06  1.35966366e-06]]\n"
     ]
    }
   ],
   "source": [
    "#5.2 shap values\n",
    "explainer = shap.TreeExplainer(xgb_model)\n",
    "shap_values = explainer.shap_values(dtrain)\n",
    "print('shap values\\n-----------')\n",
    "print(shap_values)"
   ]
  },
  {
   "cell_type": "code",
   "execution_count": 26,
   "metadata": {},
   "outputs": [
    {
     "data": {
      "image/png": "[encoded data removed]",
      "text/plain": [
       "<Figure size 576x684 with 2 Axes>"
      ]
     },
     "metadata": {},
     "output_type": "display_data"
    }
   ],
   "source": [
    "#5.2 summary plot\n",
    "shap.summary_plot(shap_values, X_train)"
   ]
  },
  {
   "cell_type": "code",
   "execution_count": 27,
   "metadata": {},
   "outputs": [
    {
     "data": {
      "image/png": "[encoded data removed]",
      "text/plain": [
       "<Figure size 432x288 with 1 Axes>"
      ]
     },
     "metadata": {},
     "output_type": "display_data"
    },
    {
     "name": "stdout",
     "output_type": "stream",
     "text": [
      "Chosen k: 4\n"
     ]
    }
   ],
   "source": [
    "#5.3\n",
    "\"\"\"\n",
    "Perform KMeans clustering on the SHAP values into  𝑘  clusters. \n",
    "\n",
    "\"\"\"\n",
    "from sklearn.cluster import KMeans\n",
    "import pylab as pl\n",
    "\n",
    "s = pd.DataFrame(shap_values, columns = X_test.columns)\n",
    "#Use Elbow method to decide the optimal number of clusters\n",
    "sse = []\n",
    "for k in range(2,15):\n",
    "    kmeans = KMeans(n_clusters = k)\n",
    "    #fit the k-means model on the shap values\n",
    "    kmeans.fit(s)\n",
    "    #appent the error of each iteration\n",
    "    sse.append(kmeans.inertia_)\n",
    "   \n",
    "pl.plot(range(2,15), sse)\n",
    "pl.title(\"Elbow Curve\")\n",
    "pl.xlabel('k')\n",
    "pl.ylabel('average score')\n",
    "pl.show()\n",
    "print('Chosen k: 4')"
   ]
  },
  {
   "cell_type": "code",
   "execution_count": 28,
   "metadata": {},
   "outputs": [
    {
     "data": {
      "text/plain": [
       "[Text(167.40000000000003, 195.696, 'X[12] <= 0.001\\ngini = 0.003\\nsamples = 16020\\nvalue = [15992, 20, 3, 5]'),\n",
       " Text(66.96000000000001, 152.208, 'X[23] <= 0.036\\ngini = 0.0\\nsamples = 15994\\nvalue = [15991, 0, 2, 1]'),\n",
       " Text(33.480000000000004, 108.72, 'gini = 0.0\\nsamples = 15991\\nvalue = [15991, 0, 0, 0]'),\n",
       " Text(100.44000000000001, 108.72, 'X[15] <= 0.361\\ngini = 0.444\\nsamples = 3\\nvalue = [0, 0, 2, 1]'),\n",
       " Text(66.96000000000001, 65.232, 'gini = 0.0\\nsamples = 2\\nvalue = [0, 0, 2, 0]'),\n",
       " Text(133.92000000000002, 65.232, 'gini = 0.0\\nsamples = 1\\nvalue = [0, 0, 0, 1]'),\n",
       " Text(267.84000000000003, 152.208, 'X[13] <= 0.14\\ngini = 0.382\\nsamples = 26\\nvalue = [1, 20, 1, 4]'),\n",
       " Text(234.36, 108.72, 'X[28] <= 0.0\\ngini = 0.5\\nsamples = 6\\nvalue = [1, 0, 1, 4]'),\n",
       " Text(200.88000000000002, 65.232, 'X[25] <= 0.014\\ngini = 0.5\\nsamples = 2\\nvalue = [1, 0, 1, 0]'),\n",
       " Text(167.40000000000003, 21.744, 'gini = 0.0\\nsamples = 1\\nvalue = [1, 0, 0, 0]'),\n",
       " Text(234.36, 21.744, 'gini = 0.0\\nsamples = 1\\nvalue = [0, 0, 1, 0]'),\n",
       " Text(267.84000000000003, 65.232, 'gini = 0.0\\nsamples = 4\\nvalue = [0, 0, 0, 4]'),\n",
       " Text(301.32000000000005, 108.72, 'gini = 0.0\\nsamples = 20\\nvalue = [0, 20, 0, 0]')]"
      ]
     },
     "execution_count": 28,
     "metadata": {},
     "output_type": "execute_result"
    },
    {
     "data": {
      "image/png": "[encoded data removed]",
      "text/plain": [
       "<Figure size 432x288 with 1 Axes>"
      ]
     },
     "metadata": {},
     "output_type": "display_data"
    }
   ],
   "source": [
    "#5.3\n",
    "\"\"\"\n",
    "Then, train a decision tree (with maximum depth  𝑑 ) to predict \n",
    "the cluster number obtained through KMeans - the cluster numbers \n",
    "as the target. Visualize the decison tree. Plot the variance\n",
    "of the SHAP values of the samples in each of the leaves - show that \n",
    "all these varinces is less than the overall variance of the SHAP values. \n",
    "The main parameters to tune here are the number of cluster  𝑘  and the \n",
    "maximum depth  𝑑 .\n",
    "\"\"\"\n",
    "kmeans = KMeans(n_clusters = 4)\n",
    "kmeans.fit(shap_values)\n",
    "dtc = DecisionTreeClassifier(random_state = 0, max_depth = 10)\n",
    "\n",
    "X = shap_values\n",
    "Y = kmeans.labels_\n",
    "\n",
    "dtc.fit(X,Y)\n",
    "\n",
    "from sklearn import tree\n",
    "tree.plot_tree(dtc)"
   ]
  },
  {
   "cell_type": "code",
   "execution_count": 29,
   "metadata": {},
   "outputs": [
    {
     "name": "stdout",
     "output_type": "stream",
     "text": [
      "overall variance of shap values: 2.1538575e-05\n"
     ]
    }
   ],
   "source": [
    "print('overall variance of shap values:',str(np.var(shap_values)))"
   ]
  },
  {
   "cell_type": "code",
   "execution_count": 30,
   "metadata": {},
   "outputs": [
    {
     "name": "stdout",
     "output_type": "stream",
     "text": [
      "Leaf Node  0 variance: 2.1538575e-05\n",
      "Leaf Node  1 variance: 5.7762118e-06\n",
      "Leaf Node  2 variance: 3.2345054e-06\n",
      "Leaf Node  6 variance: 0.008766874\n",
      "Leaf Node  12 variance: 0.008146586\n",
      "Leaf Node  7 variance: 0.01080902\n",
      "Leaf Node  11 variance: 0.012003264\n",
      "Leaf Node  3 variance: 0.012581297\n",
      "Leaf Node  5 variance: 0.01169124\n",
      "Leaf Node  4 variance: 0.013025139\n",
      "Leaf Node  8 variance: 0.008262438\n",
      "Leaf Node  9 variance: 0.002355361\n",
      "Leaf Node  10 variance: 0.013663957\n"
     ]
    }
   ],
   "source": [
    "import collections\n",
    "\n",
    "samples = collections.defaultdict(list)\n",
    "decision_paths = dtc.decision_path(X)\n",
    "\n",
    "for d, dec in enumerate(decision_paths):\n",
    "    for i in range(dtc.tree_.node_count):\n",
    "        if dec.toarray()[0][i] == 1:\n",
    "            samples[i].append(X[d])\n",
    "\n",
    "for sample in samples:\n",
    "    sample_tree = np.array(samples[sample])\n",
    "    print('Leaf Node ', sample, 'variance:', sample_tree.var())"
   ]
  }
 ],
 "metadata": {
  "kernelspec": {
   "display_name": "Python 3",
   "language": "python",
   "name": "python3"
  },
  "language_info": {
   "codemirror_mode": {
    "name": "ipython",
    "version": 3
   },
   "file_extension": ".py",
   "mimetype": "text/x-python",
   "name": "python",
   "nbconvert_exporter": "python",
   "pygments_lexer": "ipython3",
   "version": "3.7.6"
  }
 },
 "nbformat": 4,
 "nbformat_minor": 4
}
